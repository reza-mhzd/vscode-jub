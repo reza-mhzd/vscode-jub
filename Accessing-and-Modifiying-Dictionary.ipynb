{
 "cells": [
  {
   "cell_type": "code",
   "execution_count": 3,
   "id": "5a6dcce8",
   "metadata": {},
   "outputs": [],
   "source": [
    "person_info = {'name': 'Alice', 'age': 30, 'city': 'New York'}"
   ]
  },
  {
   "cell_type": "code",
   "execution_count": 5,
   "id": "63cbf7a8",
   "metadata": {},
   "outputs": [
    {
     "data": {
      "text/plain": [
       "{'name': 'Alice', 'age': 30, 'city': 'New York'}"
      ]
     },
     "execution_count": 5,
     "metadata": {},
     "output_type": "execute_result"
    }
   ],
   "source": [
    "person_info"
   ]
  },
  {
   "cell_type": "code",
   "execution_count": 7,
   "id": "e246560e",
   "metadata": {},
   "outputs": [
    {
     "data": {
      "text/plain": [
       "'Alice'"
      ]
     },
     "execution_count": 7,
     "metadata": {},
     "output_type": "execute_result"
    }
   ],
   "source": [
    "person_info['name']"
   ]
  },
  {
   "cell_type": "code",
   "execution_count": 9,
   "id": "0f90c5ca",
   "metadata": {},
   "outputs": [
    {
     "data": {
      "text/plain": [
       "30"
      ]
     },
     "execution_count": 9,
     "metadata": {},
     "output_type": "execute_result"
    }
   ],
   "source": [
    "person_info['age']"
   ]
  },
  {
   "cell_type": "code",
   "execution_count": 11,
   "id": "2687bbf8",
   "metadata": {},
   "outputs": [
    {
     "data": {
      "text/plain": [
       "'New York'"
      ]
     },
     "execution_count": 11,
     "metadata": {},
     "output_type": "execute_result"
    }
   ],
   "source": [
    "person_info['city']"
   ]
  },
  {
   "cell_type": "code",
   "execution_count": 17,
   "id": "bf8b76d3",
   "metadata": {},
   "outputs": [
    {
     "data": {
      "text/plain": [
       "\"there isn't\""
      ]
     },
     "execution_count": 17,
     "metadata": {},
     "output_type": "execute_result"
    }
   ],
   "source": [
    "person_info.get('reza', 'there isn\\'t')"
   ]
  },
  {
   "cell_type": "code",
   "execution_count": 18,
   "id": "ec46b35f",
   "metadata": {},
   "outputs": [],
   "source": [
    "hobby = person_info.get('hobby')"
   ]
  },
  {
   "cell_type": "code",
   "execution_count": 25,
   "id": "b9a28348",
   "metadata": {},
   "outputs": [
    {
     "name": "stdout",
     "output_type": "stream",
     "text": [
      "None\n"
     ]
    }
   ],
   "source": [
    "print(hobby)"
   ]
  },
  {
   "cell_type": "code",
   "execution_count": 26,
   "id": "8da65f7a",
   "metadata": {},
   "outputs": [
    {
     "name": "stdout",
     "output_type": "stream",
     "text": [
      "dict_keys(['name', 'age', 'city'])\n"
     ]
    }
   ],
   "source": [
    "print(person_info.keys())"
   ]
  },
  {
   "cell_type": "code",
   "execution_count": 28,
   "id": "292cc52e",
   "metadata": {},
   "outputs": [
    {
     "data": {
      "text/plain": [
       "dict_keys(['name', 'age', 'city'])"
      ]
     },
     "execution_count": 28,
     "metadata": {},
     "output_type": "execute_result"
    }
   ],
   "source": [
    "person_info.keys()"
   ]
  },
  {
   "cell_type": "code",
   "execution_count": 30,
   "id": "b8320459",
   "metadata": {},
   "outputs": [
    {
     "data": {
      "text/plain": [
       "{'name': 'Alice', 'age': 30, 'city': 'New York'}"
      ]
     },
     "execution_count": 30,
     "metadata": {},
     "output_type": "execute_result"
    }
   ],
   "source": [
    "person_info"
   ]
  },
  {
   "cell_type": "code",
   "execution_count": 38,
   "id": "e801f212",
   "metadata": {},
   "outputs": [
    {
     "name": "stdout",
     "output_type": "stream",
     "text": [
      "Alice 30 New York "
     ]
    }
   ],
   "source": [
    "for i in list(person_info.values()):\n",
    "    print(i, end=' ')"
   ]
  },
  {
   "cell_type": "code",
   "execution_count": 39,
   "id": "93df4cd2",
   "metadata": {},
   "outputs": [
    {
     "data": {
      "text/plain": [
       "dict_items([('name', 'Alice'), ('age', 30), ('city', 'New York')])"
      ]
     },
     "execution_count": 39,
     "metadata": {},
     "output_type": "execute_result"
    }
   ],
   "source": [
    "person_info.items()"
   ]
  },
  {
   "cell_type": "code",
   "execution_count": 40,
   "id": "33b0ddea",
   "metadata": {},
   "outputs": [],
   "source": [
    "portfolio = {}"
   ]
  },
  {
   "cell_type": "code",
   "execution_count": 43,
   "id": "9de49375",
   "metadata": {},
   "outputs": [
    {
     "name": "stdout",
     "output_type": "stream",
     "text": [
      "{}\n"
     ]
    }
   ],
   "source": [
    "print(portfolio)"
   ]
  },
  {
   "cell_type": "code",
   "execution_count": 44,
   "id": "7892282e",
   "metadata": {},
   "outputs": [],
   "source": [
    "portfolio[\"AAPL\"] = 1000"
   ]
  },
  {
   "cell_type": "code",
   "execution_count": 46,
   "id": "327b4add",
   "metadata": {},
   "outputs": [
    {
     "name": "stdout",
     "output_type": "stream",
     "text": [
      "{'AAPL': 1000}\n"
     ]
    }
   ],
   "source": [
    "print(portfolio)"
   ]
  },
  {
   "cell_type": "code",
   "execution_count": 48,
   "id": "4e009b78",
   "metadata": {},
   "outputs": [],
   "source": [
    "portfolio['ali'] = 15"
   ]
  },
  {
   "cell_type": "code",
   "execution_count": 50,
   "id": "c7c77479",
   "metadata": {},
   "outputs": [
    {
     "data": {
      "text/plain": [
       "{'AAPL': 1000, 'ali': 15}"
      ]
     },
     "execution_count": 50,
     "metadata": {},
     "output_type": "execute_result"
    }
   ],
   "source": [
    "portfolio"
   ]
  },
  {
   "cell_type": "code",
   "execution_count": 52,
   "id": "8e42daa6",
   "metadata": {},
   "outputs": [],
   "source": [
    "portfolio['AAPL'] = 150"
   ]
  },
  {
   "cell_type": "code",
   "execution_count": 54,
   "id": "a3ed4547",
   "metadata": {},
   "outputs": [
    {
     "name": "stdout",
     "output_type": "stream",
     "text": [
      "{'AAPL': 150, 'ali': 15}\n"
     ]
    }
   ],
   "source": [
    "print(portfolio)"
   ]
  },
  {
   "cell_type": "code",
   "execution_count": 56,
   "id": "105905cd",
   "metadata": {},
   "outputs": [],
   "source": [
    "portfolio.update({'tsla': 50, 'ali': 55})"
   ]
  },
  {
   "cell_type": "code",
   "execution_count": 58,
   "id": "4ed56607",
   "metadata": {},
   "outputs": [
    {
     "data": {
      "text/plain": [
       "{'AAPL': 150, 'ali': 55, 'tsla': 50}"
      ]
     },
     "execution_count": 58,
     "metadata": {},
     "output_type": "execute_result"
    }
   ],
   "source": [
    "portfolio"
   ]
  },
  {
   "cell_type": "code",
   "execution_count": 59,
   "id": "a559ba85",
   "metadata": {},
   "outputs": [],
   "source": [
    "portfolio.update([('MSFT', 80), ('amzn', 15)])"
   ]
  },
  {
   "cell_type": "code",
   "execution_count": 61,
   "id": "932cbb5b",
   "metadata": {},
   "outputs": [
    {
     "name": "stdout",
     "output_type": "stream",
     "text": [
      "{'AAPL': 150, 'ali': 55, 'tsla': 50, 'MSFT': 80, 'amzn': 15}\n"
     ]
    }
   ],
   "source": [
    "print(portfolio)"
   ]
  },
  {
   "cell_type": "code",
   "execution_count": 103,
   "id": "0e2a2c65",
   "metadata": {},
   "outputs": [],
   "source": [
    "grade_book = {'math': 95, 'science': 90, 'history': 85, 'english': 80}"
   ]
  },
  {
   "cell_type": "code",
   "execution_count": 72,
   "id": "4a17cd7b",
   "metadata": {},
   "outputs": [],
   "source": [
    "del grade_book['math']"
   ]
  },
  {
   "cell_type": "code",
   "execution_count": 74,
   "id": "4f56a8ec",
   "metadata": {},
   "outputs": [
    {
     "name": "stdout",
     "output_type": "stream",
     "text": [
      "{'science': 90, 'history': 85, 'english': 80}\n"
     ]
    }
   ],
   "source": [
    "print(grade_book)"
   ]
  },
  {
   "cell_type": "code",
   "execution_count": 78,
   "id": "efcc61ec",
   "metadata": {},
   "outputs": [],
   "source": [
    "re = grade_book.pop('history', 'these isn\\'t any item')"
   ]
  },
  {
   "cell_type": "code",
   "execution_count": 79,
   "id": "e63d0315",
   "metadata": {},
   "outputs": [
    {
     "name": "stdout",
     "output_type": "stream",
     "text": [
      "these isn't any item\n"
     ]
    }
   ],
   "source": [
    "print(re)"
   ]
  },
  {
   "cell_type": "code",
   "execution_count": 88,
   "id": "3aef4850",
   "metadata": {},
   "outputs": [
    {
     "data": {
      "text/plain": [
       "{'math': 95, 'science': 90, 'history': 85, 'english': 80}"
      ]
     },
     "execution_count": 88,
     "metadata": {},
     "output_type": "execute_result"
    }
   ],
   "source": [
    "grade_book"
   ]
  },
  {
   "cell_type": "code",
   "execution_count": 89,
   "id": "0557ebbd",
   "metadata": {},
   "outputs": [],
   "source": [
    "last_item = grade_book.popitem()"
   ]
  },
  {
   "cell_type": "code",
   "execution_count": 90,
   "id": "015fce48",
   "metadata": {},
   "outputs": [
    {
     "name": "stdout",
     "output_type": "stream",
     "text": [
      "('english', 80)\n"
     ]
    }
   ],
   "source": [
    "print(last_item)"
   ]
  },
  {
   "cell_type": "code",
   "execution_count": 92,
   "id": "043f7b9e",
   "metadata": {},
   "outputs": [
    {
     "data": {
      "text/plain": [
       "{'math': 95, 'science': 90, 'history': 85}"
      ]
     },
     "execution_count": 92,
     "metadata": {},
     "output_type": "execute_result"
    }
   ],
   "source": [
    "grade_book"
   ]
  },
  {
   "cell_type": "code",
   "execution_count": 95,
   "id": "b2a3b82a",
   "metadata": {},
   "outputs": [],
   "source": [
    "grade_book.clear()"
   ]
  },
  {
   "cell_type": "code",
   "execution_count": 99,
   "id": "a6d175ef",
   "metadata": {},
   "outputs": [
    {
     "name": "stdout",
     "output_type": "stream",
     "text": [
      "{'math': 95, 'science': 90, 'history': 85, 'english': 80}\n"
     ]
    }
   ],
   "source": [
    "print(grade_book)"
   ]
  },
  {
   "cell_type": "code",
   "execution_count": 101,
   "id": "64ccc9c1",
   "metadata": {},
   "outputs": [
    {
     "ename": "NameError",
     "evalue": "name 'grade_book' is not defined",
     "output_type": "error",
     "traceback": [
      "\u001b[31m---------------------------------------------------------------------------\u001b[39m",
      "\u001b[31mNameError\u001b[39m                                 Traceback (most recent call last)",
      "\u001b[36mCell\u001b[39m\u001b[36m \u001b[39m\u001b[32mIn[101]\u001b[39m\u001b[32m, line 1\u001b[39m\n\u001b[32m----> \u001b[39m\u001b[32m1\u001b[39m \u001b[38;5;28;01mdel\u001b[39;00m grade_book\n",
      "\u001b[31mNameError\u001b[39m: name 'grade_book' is not defined"
     ]
    }
   ],
   "source": [
    "del grade_book"
   ]
  },
  {
   "cell_type": "code",
   "execution_count": 107,
   "id": "e767e96f",
   "metadata": {},
   "outputs": [
    {
     "data": {
      "text/plain": [
       "{'math': 95, 'science': 90, 'history': 85, 'english': 80}"
      ]
     },
     "execution_count": 107,
     "metadata": {},
     "output_type": "execute_result"
    }
   ],
   "source": [
    "grade_book"
   ]
  },
  {
   "cell_type": "code",
   "execution_count": 109,
   "id": "b5db7387",
   "metadata": {},
   "outputs": [],
   "source": [
    "dic_book = {}\n",
    "dic_book['ali'] = 'codemi'"
   ]
  },
  {
   "cell_type": "code",
   "execution_count": 111,
   "id": "8aedeace",
   "metadata": {},
   "outputs": [
    {
     "name": "stdout",
     "output_type": "stream",
     "text": [
      "{'ali': 'codemi'}\n"
     ]
    }
   ],
   "source": [
    "print(dic_book)"
   ]
  },
  {
   "cell_type": "code",
   "execution_count": 113,
   "id": "fa71fa7b",
   "metadata": {},
   "outputs": [],
   "source": [
    "dic_book['fire fuure'] = 'reza'"
   ]
  },
  {
   "cell_type": "code",
   "execution_count": 115,
   "id": "47b740f5",
   "metadata": {},
   "outputs": [
    {
     "data": {
      "text/plain": [
       "{'ali': 'codemi', 'fire fuure': 'reza'}"
      ]
     },
     "execution_count": 115,
     "metadata": {},
     "output_type": "execute_result"
    }
   ],
   "source": [
    "dic_book"
   ]
  },
  {
   "cell_type": "code",
   "execution_count": 116,
   "id": "342c73d4",
   "metadata": {},
   "outputs": [],
   "source": [
    "dic_book['money save all'] = 'ali'"
   ]
  },
  {
   "cell_type": "code",
   "execution_count": 118,
   "id": "55edd41f",
   "metadata": {},
   "outputs": [
    {
     "name": "stdout",
     "output_type": "stream",
     "text": [
      "{'ali': 'codemi', 'fire fuure': 'reza', 'money save all': 'ali'}\n"
     ]
    }
   ],
   "source": [
    "print(dic_book)"
   ]
  },
  {
   "cell_type": "code",
   "execution_count": 120,
   "id": "ed56d04a",
   "metadata": {},
   "outputs": [
    {
     "name": "stdout",
     "output_type": "stream",
     "text": [
      "ali\n"
     ]
    }
   ],
   "source": [
    "print(dic_book['money save all'])"
   ]
  },
  {
   "cell_type": "code",
   "execution_count": 123,
   "id": "7f7cfe7e",
   "metadata": {},
   "outputs": [
    {
     "name": "stdout",
     "output_type": "stream",
     "text": [
      "no\n"
     ]
    }
   ],
   "source": [
    "print(dic_book.get('fsdf', 'no'))"
   ]
  },
  {
   "cell_type": "code",
   "execution_count": 131,
   "id": "05c885ff",
   "metadata": {},
   "outputs": [],
   "source": [
    "dic_book.update({'future for me': 'yes for me', 'money save all': 'yes'})"
   ]
  },
  {
   "cell_type": "code",
   "execution_count": 132,
   "id": "59a2a8c3",
   "metadata": {},
   "outputs": [
    {
     "name": "stdout",
     "output_type": "stream",
     "text": [
      "{'ali': 'codemi', 'fire fuure': 'reza', 'future for me': 'yes for me', 'mondy save all': 'yes', 'money save all': 'yes'}\n"
     ]
    }
   ],
   "source": [
    "print(dic_book)"
   ]
  },
  {
   "cell_type": "code",
   "execution_count": 139,
   "id": "4e5dd722",
   "metadata": {},
   "outputs": [
    {
     "name": "stdout",
     "output_type": "stream",
     "text": [
      "there isn't any item like\n"
     ]
    }
   ],
   "source": [
    "print(dic_book.pop('money save all', 'there isn\\'t any item like'))"
   ]
  },
  {
   "cell_type": "code",
   "execution_count": 141,
   "id": "ba24b87c",
   "metadata": {},
   "outputs": [
    {
     "name": "stdout",
     "output_type": "stream",
     "text": [
      "dict_keys(['ali', 'fire fuure', 'future for me', 'mondy save all'])\n"
     ]
    }
   ],
   "source": [
    "print(dic_book.keys())"
   ]
  },
  {
   "cell_type": "code",
   "execution_count": 143,
   "id": "469e00df",
   "metadata": {},
   "outputs": [
    {
     "name": "stdout",
     "output_type": "stream",
     "text": [
      "dict_values(['codemi', 'reza', 'yes for me', 'yes'])\n"
     ]
    }
   ],
   "source": [
    "print(dic_book.values())"
   ]
  },
  {
   "cell_type": "code",
   "execution_count": 144,
   "id": "eaf59ac4",
   "metadata": {},
   "outputs": [],
   "source": [
    "tupell = (1, 1, 1, 1, 2,3, 4, 5, 6)"
   ]
  },
  {
   "cell_type": "code",
   "execution_count": 146,
   "id": "b9b63b1c",
   "metadata": {},
   "outputs": [
    {
     "name": "stdout",
     "output_type": "stream",
     "text": [
      "(1, 1, 1, 1, 2, 3, 4, 5, 6)\n"
     ]
    }
   ],
   "source": [
    "print(tupell)"
   ]
  },
  {
   "cell_type": "code",
   "execution_count": null,
   "id": "d13d8847",
   "metadata": {},
   "outputs": [
    {
     "name": "stdout",
     "output_type": "stream",
     "text": [
      "{'1': 1, '2': 4, '3': 9, '4': 16, '5': 25, '6': 36, '7': 49, '8': 64, '9': 81, '10': 100}\n"
     ]
    }
   ],
   "source": [
    "square_numbers = {\n",
    "    '1': 1,\n",
    "    '2': 4,\n",
    "    '3': 9,\n",
    "    '4': 16,\n",
    "    '5': 25,\n",
    "    '6': 36,\n",
    "    '7': 49,\n",
    "    '8': 64,\n",
    "    '9': 81,\n",
    "    '10': 100\n",
    "}\n",
    "print(square_numbers)"
   ]
  },
  {
   "cell_type": "code",
   "execution_count": 161,
   "id": "134b83c5",
   "metadata": {},
   "outputs": [
    {
     "data": {
      "text/plain": [
       "{'ali': {'job': 'studnet', 'age': 22},\n",
       " 'reza': {'job': 'polic', 'age': 44},\n",
       " 'mina': {'jot': 'teacher', 'age': 33}}"
      ]
     },
     "execution_count": 161,
     "metadata": {},
     "output_type": "execute_result"
    }
   ],
   "source": [
    "library = {\n",
    "    'ali': {'job': 'studnet', 'age': 22},\n",
    "    'reza': {'job': 'polic', 'age': 44},\n",
    "    'mina': {'jot': 'teacher', 'age': 33}\n",
    "}\n",
    "library"
   ]
  },
  {
   "cell_type": "code",
   "execution_count": 163,
   "id": "bf731cc4",
   "metadata": {},
   "outputs": [
    {
     "name": "stdout",
     "output_type": "stream",
     "text": [
      "studnet\n",
      "33\n"
     ]
    }
   ],
   "source": [
    "print(library['ali']['job'])\n",
    "print(library['mina']['age'])"
   ]
  }
 ],
 "metadata": {
  "kernelspec": {
   "display_name": "python3.3",
   "language": "python",
   "name": "python3"
  },
  "language_info": {
   "codemirror_mode": {
    "name": "ipython",
    "version": 3
   },
   "file_extension": ".py",
   "mimetype": "text/x-python",
   "name": "python",
   "nbconvert_exporter": "python",
   "pygments_lexer": "ipython3",
   "version": "3.13.5"
  }
 },
 "nbformat": 4,
 "nbformat_minor": 5
}
