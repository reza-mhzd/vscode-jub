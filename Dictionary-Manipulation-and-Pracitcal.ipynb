{
 "cells": [
  {
   "cell_type": "code",
   "execution_count": 4,
   "id": "24f5a3e4",
   "metadata": {},
   "outputs": [],
   "source": [
    "my_dict = {'name': 'jack', 'age': 26}"
   ]
  },
  {
   "cell_type": "code",
   "execution_count": 5,
   "id": "b1657fc5",
   "metadata": {},
   "outputs": [
    {
     "data": {
      "text/plain": [
       "True"
      ]
     },
     "execution_count": 5,
     "metadata": {},
     "output_type": "execute_result"
    }
   ],
   "source": [
    "'name' in my_dict"
   ]
  },
  {
   "cell_type": "code",
   "execution_count": 6,
   "id": "b5dc235e",
   "metadata": {},
   "outputs": [
    {
     "data": {
      "text/plain": [
       "True"
      ]
     },
     "execution_count": 6,
     "metadata": {},
     "output_type": "execute_result"
    }
   ],
   "source": [
    "'jack' in my_dict.values()"
   ]
  },
  {
   "cell_type": "code",
   "execution_count": 7,
   "id": "3a04c8ab",
   "metadata": {},
   "outputs": [
    {
     "data": {
      "text/plain": [
       "True"
      ]
     },
     "execution_count": 7,
     "metadata": {},
     "output_type": "execute_result"
    }
   ],
   "source": [
    "'hello' not in my_dict"
   ]
  },
  {
   "cell_type": "code",
   "execution_count": 8,
   "id": "820c8be8",
   "metadata": {},
   "outputs": [
    {
     "data": {
      "text/plain": [
       "False"
      ]
     },
     "execution_count": 8,
     "metadata": {},
     "output_type": "execute_result"
    }
   ],
   "source": [
    "'age' not in my_dict"
   ]
  },
  {
   "cell_type": "code",
   "execution_count": 9,
   "id": "99e568e9",
   "metadata": {},
   "outputs": [
    {
     "data": {
      "text/plain": [
       "True"
      ]
     },
     "execution_count": 9,
     "metadata": {},
     "output_type": "execute_result"
    }
   ],
   "source": [
    "'age' not in my_dict.values()"
   ]
  },
  {
   "cell_type": "code",
   "execution_count": 10,
   "id": "06d7f454",
   "metadata": {},
   "outputs": [],
   "source": [
    "dict1 = {'name1': 'ali', '1age': 23}"
   ]
  },
  {
   "cell_type": "code",
   "execution_count": 11,
   "id": "3eded692",
   "metadata": {},
   "outputs": [],
   "source": [
    "dict2 = {'2name': 'mina', '2age': 44}"
   ]
  },
  {
   "cell_type": "code",
   "execution_count": 12,
   "id": "b2562027",
   "metadata": {},
   "outputs": [
    {
     "ename": "TypeError",
     "evalue": "unsupported operand type(s) for +: 'dict' and 'dict'",
     "output_type": "error",
     "traceback": [
      "\u001b[31m---------------------------------------------------------------------------\u001b[39m",
      "\u001b[31mTypeError\u001b[39m                                 Traceback (most recent call last)",
      "\u001b[36mCell\u001b[39m\u001b[36m \u001b[39m\u001b[32mIn[12]\u001b[39m\u001b[32m, line 1\u001b[39m\n\u001b[32m----> \u001b[39m\u001b[32m1\u001b[39m dict1 + dict2\n",
      "\u001b[31mTypeError\u001b[39m: unsupported operand type(s) for +: 'dict' and 'dict'"
     ]
    }
   ],
   "source": [
    "dict1 + dict2\n"
   ]
  },
  {
   "cell_type": "code",
   "execution_count": null,
   "id": "2405f7e5",
   "metadata": {},
   "outputs": [],
   "source": [
    "dict1.update(dict2)"
   ]
  },
  {
   "cell_type": "code",
   "execution_count": null,
   "id": "dac37887",
   "metadata": {},
   "outputs": [
    {
     "name": "stdout",
     "output_type": "stream",
     "text": [
      "{'name1': 'ali', '1age': 23, '2name': 'mina', '2age': 44}\n"
     ]
    }
   ],
   "source": [
    "print(dict1)"
   ]
  },
  {
   "cell_type": "code",
   "execution_count": null,
   "id": "7bdd6254",
   "metadata": {},
   "outputs": [
    {
     "ename": "TypeError",
     "evalue": "unsupported operand type(s) for *: 'dict' and 'int'",
     "output_type": "error",
     "traceback": [
      "\u001b[31m---------------------------------------------------------------------------\u001b[39m",
      "\u001b[31mTypeError\u001b[39m                                 Traceback (most recent call last)",
      "\u001b[36mCell\u001b[39m\u001b[36m \u001b[39m\u001b[32mIn[29]\u001b[39m\u001b[32m, line 1\u001b[39m\n\u001b[32m----> \u001b[39m\u001b[32m1\u001b[39m dict1 * \u001b[32m3\u001b[39m\n",
      "\u001b[31mTypeError\u001b[39m: unsupported operand type(s) for *: 'dict' and 'int'"
     ]
    }
   ],
   "source": [
    "dict1 * 3"
   ]
  },
  {
   "cell_type": "code",
   "execution_count": 15,
   "id": "b198e517",
   "metadata": {},
   "outputs": [
    {
     "name": "stdout",
     "output_type": "stream",
     "text": [
      "dict_keys(['name1', '1age'])\n"
     ]
    }
   ],
   "source": [
    "print(dict1.keys())"
   ]
  },
  {
   "cell_type": "code",
   "execution_count": 17,
   "id": "826b0a3f",
   "metadata": {},
   "outputs": [
    {
     "name": "stdout",
     "output_type": "stream",
     "text": [
      "dict_values(['ali', 23])\n"
     ]
    }
   ],
   "source": [
    "print(dict1.values())"
   ]
  },
  {
   "cell_type": "code",
   "execution_count": 19,
   "id": "df5ae857",
   "metadata": {},
   "outputs": [
    {
     "name": "stdout",
     "output_type": "stream",
     "text": [
      "dict_items([('name1', 'ali'), ('1age', 23)])\n"
     ]
    }
   ],
   "source": [
    "print(dict1.items())"
   ]
  },
  {
   "cell_type": "code",
   "execution_count": 29,
   "id": "397f7013",
   "metadata": {},
   "outputs": [
    {
     "name": "stdout",
     "output_type": "stream",
     "text": [
      "['name1', '1age']\n"
     ]
    }
   ],
   "source": [
    "new_re = print(list(dict1.keys()))"
   ]
  },
  {
   "cell_type": "code",
   "execution_count": 30,
   "id": "cb382e4c",
   "metadata": {},
   "outputs": [
    {
     "name": "stdout",
     "output_type": "stream",
     "text": [
      "None\n"
     ]
    }
   ],
   "source": [
    "print(new_re)"
   ]
  },
  {
   "cell_type": "code",
   "execution_count": 34,
   "id": "cb1c4837",
   "metadata": {},
   "outputs": [
    {
     "name": "stdout",
     "output_type": "stream",
     "text": [
      "ali\n"
     ]
    }
   ],
   "source": [
    "print(dict1.get('name1', 'no way'))"
   ]
  },
  {
   "cell_type": "code",
   "execution_count": 39,
   "id": "7452cddb",
   "metadata": {},
   "outputs": [
    {
     "name": "stdout",
     "output_type": "stream",
     "text": [
      "item not found\n"
     ]
    }
   ],
   "source": [
    "print(dict1.get('1ae', 'item not found'))"
   ]
  },
  {
   "cell_type": "code",
   "execution_count": 41,
   "id": "68573e32",
   "metadata": {},
   "outputs": [
    {
     "name": "stdout",
     "output_type": "stream",
     "text": [
      "{'name1': 'ali', '1age': 23}\n"
     ]
    }
   ],
   "source": [
    "print(dict1)"
   ]
  },
  {
   "cell_type": "code",
   "execution_count": 43,
   "id": "003bc1da",
   "metadata": {},
   "outputs": [],
   "source": [
    "dict1.update(dict2)"
   ]
  },
  {
   "cell_type": "code",
   "execution_count": 47,
   "id": "1c6e3cb7",
   "metadata": {},
   "outputs": [
    {
     "data": {
      "text/plain": [
       "{'2name': 'mina', '2age': 44}"
      ]
     },
     "execution_count": 47,
     "metadata": {},
     "output_type": "execute_result"
    }
   ],
   "source": [
    "dict2"
   ]
  },
  {
   "cell_type": "code",
   "execution_count": 48,
   "id": "59dbd7d6",
   "metadata": {},
   "outputs": [
    {
     "data": {
      "text/plain": [
       "{'name1': 'ali', '1age': 23, '2name': 'mina', '2age': 44}"
      ]
     },
     "execution_count": 48,
     "metadata": {},
     "output_type": "execute_result"
    }
   ],
   "source": [
    "dict1"
   ]
  },
  {
   "cell_type": "code",
   "execution_count": 51,
   "id": "b415ba22",
   "metadata": {},
   "outputs": [
    {
     "data": {
      "text/plain": [
       "'no way'"
      ]
     },
     "execution_count": 51,
     "metadata": {},
     "output_type": "execute_result"
    }
   ],
   "source": [
    "dict1.pop('1age', 'no way')"
   ]
  },
  {
   "cell_type": "code",
   "execution_count": 52,
   "id": "c3146a30",
   "metadata": {},
   "outputs": [
    {
     "data": {
      "text/plain": [
       "'22'"
      ]
     },
     "execution_count": 52,
     "metadata": {},
     "output_type": "execute_result"
    }
   ],
   "source": [
    "dict1.setdefault('age', '22')"
   ]
  },
  {
   "cell_type": "code",
   "execution_count": 54,
   "id": "75551d70",
   "metadata": {},
   "outputs": [
    {
     "name": "stdout",
     "output_type": "stream",
     "text": [
      "{'name1': 'ali', '2name': 'mina', '2age': 44, 'age': '22'}\n"
     ]
    }
   ],
   "source": [
    "print(dict1)"
   ]
  },
  {
   "cell_type": "code",
   "execution_count": 55,
   "id": "a5242437",
   "metadata": {},
   "outputs": [
    {
     "data": {
      "text/plain": [
       "'90000000000'"
      ]
     },
     "execution_count": 55,
     "metadata": {},
     "output_type": "execute_result"
    }
   ],
   "source": [
    "dict1.setdefault('iran', '90000000000')"
   ]
  },
  {
   "cell_type": "code",
   "execution_count": 57,
   "id": "001196e7",
   "metadata": {},
   "outputs": [
    {
     "data": {
      "text/plain": [
       "{'name1': 'ali',\n",
       " '2name': 'mina',\n",
       " '2age': 44,\n",
       " 'age': '22',\n",
       " 'iran': '90000000000'}"
      ]
     },
     "execution_count": 57,
     "metadata": {},
     "output_type": "execute_result"
    }
   ],
   "source": [
    "dict1"
   ]
  },
  {
   "cell_type": "code",
   "execution_count": 60,
   "id": "8f974580",
   "metadata": {},
   "outputs": [
    {
     "name": "stdout",
     "output_type": "stream",
     "text": [
      "{'name1': 'ali', '2name': 'mina', '2age': 44, 'age': '22', 'iran': '90000000000'}\n"
     ]
    }
   ],
   "source": [
    "print(dict1)"
   ]
  },
  {
   "cell_type": "code",
   "execution_count": 64,
   "id": "d70133a8",
   "metadata": {},
   "outputs": [
    {
     "data": {
      "text/plain": [
       "5"
      ]
     },
     "execution_count": 64,
     "metadata": {},
     "output_type": "execute_result"
    }
   ],
   "source": [
    "len(dict1)"
   ]
  },
  {
   "cell_type": "code",
   "execution_count": 65,
   "id": "5b9231a2",
   "metadata": {},
   "outputs": [],
   "source": [
    "dict1.clear()"
   ]
  },
  {
   "cell_type": "code",
   "execution_count": 66,
   "id": "1f943288",
   "metadata": {},
   "outputs": [],
   "source": [
    "dict1.update({'ali':42, 'reza':17, 'mina':16})"
   ]
  },
  {
   "cell_type": "code",
   "execution_count": 68,
   "id": "72f01516",
   "metadata": {},
   "outputs": [
    {
     "data": {
      "text/plain": [
       "[16, 17, 42]"
      ]
     },
     "execution_count": 68,
     "metadata": {},
     "output_type": "execute_result"
    }
   ],
   "source": [
    "sorted(dict1.values())"
   ]
  },
  {
   "cell_type": "code",
   "execution_count": 1,
   "id": "8634ccfd",
   "metadata": {},
   "outputs": [
    {
     "ename": "NameError",
     "evalue": "name 'dict1' is not defined",
     "output_type": "error",
     "traceback": [
      "\u001b[31m---------------------------------------------------------------------------\u001b[39m",
      "\u001b[31mNameError\u001b[39m                                 Traceback (most recent call last)",
      "\u001b[36mCell\u001b[39m\u001b[36m \u001b[39m\u001b[32mIn[1]\u001b[39m\u001b[32m, line 1\u001b[39m\n\u001b[32m----> \u001b[39m\u001b[32m1\u001b[39m dict1\n",
      "\u001b[31mNameError\u001b[39m: name 'dict1' is not defined"
     ]
    }
   ],
   "source": [
    "dict1"
   ]
  },
  {
   "cell_type": "code",
   "execution_count": 23,
   "id": "ab6dcb4f",
   "metadata": {},
   "outputs": [],
   "source": [
    "family_ages = {\n",
    "    'parent1': {'name': 'john', 'age': 42},\n",
    "    'parent2': {'name': 'reza', 'age': 33},\n",
    "    'child': {'name': 'Doe', 'age': 18}\n",
    "}"
   ]
  },
  {
   "cell_type": "code",
   "execution_count": 24,
   "id": "b7118847",
   "metadata": {},
   "outputs": [
    {
     "name": "stdout",
     "output_type": "stream",
     "text": [
      "john\n"
     ]
    }
   ],
   "source": [
    "print(family_ages['parent1']['name'])"
   ]
  },
  {
   "cell_type": "code",
   "execution_count": 25,
   "id": "0ed074fd",
   "metadata": {},
   "outputs": [
    {
     "data": {
      "text/plain": [
       "'reza'"
      ]
     },
     "execution_count": 25,
     "metadata": {},
     "output_type": "execute_result"
    }
   ],
   "source": [
    "family_ages['parent2']['name']"
   ]
  },
  {
   "cell_type": "code",
   "execution_count": 50,
   "id": "1db4b77b",
   "metadata": {},
   "outputs": [],
   "source": [
    "family_ages['child']['age'] += 1"
   ]
  },
  {
   "cell_type": "code",
   "execution_count": 51,
   "id": "fa7d50df",
   "metadata": {},
   "outputs": [
    {
     "data": {
      "text/plain": [
       "42"
      ]
     },
     "execution_count": 51,
     "metadata": {},
     "output_type": "execute_result"
    }
   ],
   "source": [
    "family_ages['child']['age']"
   ]
  },
  {
   "cell_type": "code",
   "execution_count": 56,
   "id": "cdcd22d4",
   "metadata": {},
   "outputs": [],
   "source": [
    "family_ages['child']['birthday'] = '10 july'"
   ]
  },
  {
   "cell_type": "code",
   "execution_count": 57,
   "id": "99ebcf9b",
   "metadata": {},
   "outputs": [
    {
     "name": "stdout",
     "output_type": "stream",
     "text": [
      "{'name': 'Doe', 'age': 42, 'virthday': '10 july', 'birthday': '10 july'}\n"
     ]
    }
   ],
   "source": [
    "print(family_ages['child'])"
   ]
  },
  {
   "cell_type": "code",
   "execution_count": 62,
   "id": "b78194ef",
   "metadata": {},
   "outputs": [
    {
     "data": {
      "text/plain": [
       "'10 july'"
      ]
     },
     "execution_count": 62,
     "metadata": {},
     "output_type": "execute_result"
    }
   ],
   "source": [
    "family_ages['child'].pop('virthday', 'there isn\\'t')"
   ]
  },
  {
   "cell_type": "code",
   "execution_count": 64,
   "id": "9e68212f",
   "metadata": {},
   "outputs": [
    {
     "name": "stdout",
     "output_type": "stream",
     "text": [
      "{'parent1': {'name': 'john', 'age': 42}, 'parent2': {'name': 'reza', 'age': 33}, 'child': {'name': 'Doe', 'age': 42, 'birthday': '10 july'}}\n"
     ]
    }
   ],
   "source": [
    "print(family_ages)"
   ]
  },
  {
   "cell_type": "code",
   "execution_count": 66,
   "id": "d333520b",
   "metadata": {},
   "outputs": [],
   "source": [
    "city_persence = {'new york': True, 'berlin': True, 'tokyo': True, 'sydney': True}"
   ]
  },
  {
   "cell_type": "code",
   "execution_count": 68,
   "id": "3878b4b0",
   "metadata": {},
   "outputs": [
    {
     "data": {
      "text/plain": [
       "False"
      ]
     },
     "execution_count": 68,
     "metadata": {},
     "output_type": "execute_result"
    }
   ],
   "source": [
    "'londan' in city_persence"
   ]
  },
  {
   "cell_type": "code",
   "execution_count": 70,
   "id": "0e48272c",
   "metadata": {},
   "outputs": [
    {
     "data": {
      "text/plain": [
       "True"
      ]
     },
     "execution_count": 70,
     "metadata": {},
     "output_type": "execute_result"
    }
   ],
   "source": [
    "'tokyo' in city_persence"
   ]
  },
  {
   "cell_type": "code",
   "execution_count": 79,
   "id": "82e40866",
   "metadata": {},
   "outputs": [],
   "source": [
    "student_score = {'alice': 88, 'bob': 95}"
   ]
  },
  {
   "cell_type": "code",
   "execution_count": 80,
   "id": "d3da9237",
   "metadata": {},
   "outputs": [
    {
     "data": {
      "text/plain": [
       "95"
      ]
     },
     "execution_count": 80,
     "metadata": {},
     "output_type": "execute_result"
    }
   ],
   "source": [
    "student_score.setdefault('bob')"
   ]
  },
  {
   "cell_type": "code",
   "execution_count": 81,
   "id": "ba2d1431",
   "metadata": {},
   "outputs": [],
   "source": [
    "student_score.setdefault('charli')"
   ]
  },
  {
   "cell_type": "code",
   "execution_count": 82,
   "id": "3de5f02d",
   "metadata": {},
   "outputs": [
    {
     "data": {
      "text/plain": [
       "{'alice': 88, 'bob': 95, 'charli': None}"
      ]
     },
     "execution_count": 82,
     "metadata": {},
     "output_type": "execute_result"
    }
   ],
   "source": [
    "student_score"
   ]
  },
  {
   "cell_type": "code",
   "execution_count": 83,
   "id": "95382add",
   "metadata": {},
   "outputs": [],
   "source": [
    "preferences = {'color': 'bule', 'food': 'pizza', 'drink': 'water'}"
   ]
  },
  {
   "cell_type": "code",
   "execution_count": 90,
   "id": "44b6a524",
   "metadata": {},
   "outputs": [],
   "source": [
    "preferences.update({'drink': 'orange juice'})"
   ]
  },
  {
   "cell_type": "code",
   "execution_count": 91,
   "id": "3d4d8558",
   "metadata": {},
   "outputs": [
    {
     "name": "stdout",
     "output_type": "stream",
     "text": [
      "{'color': 'bule', 'food': 'pizza', 'drink': 'orange juice'}\n"
     ]
    }
   ],
   "source": [
    "print(preferences)"
   ]
  },
  {
   "cell_type": "code",
   "execution_count": 93,
   "id": "b3036b4b",
   "metadata": {},
   "outputs": [],
   "source": [
    "stock_A = {'apple': 5, 'oranges': 7}\n",
    "stock_B = {'oranges': 12, 'bananas': 4}"
   ]
  },
  {
   "cell_type": "code",
   "execution_count": 95,
   "id": "3307dff2",
   "metadata": {},
   "outputs": [],
   "source": [
    "stock_A.update(stock_B)"
   ]
  },
  {
   "cell_type": "code",
   "execution_count": 97,
   "id": "d34e9d64",
   "metadata": {},
   "outputs": [
    {
     "name": "stdout",
     "output_type": "stream",
     "text": [
      "{'apple': 5, 'oranges': 12, 'bananas': 4}\n"
     ]
    }
   ],
   "source": [
    "print(stock_A)"
   ]
  }
 ],
 "metadata": {
  "kernelspec": {
   "display_name": "python3.3",
   "language": "python",
   "name": "python3"
  },
  "language_info": {
   "codemirror_mode": {
    "name": "ipython",
    "version": 3
   },
   "file_extension": ".py",
   "mimetype": "text/x-python",
   "name": "python",
   "nbconvert_exporter": "python",
   "pygments_lexer": "ipython3",
   "version": "3.13.5"
  }
 },
 "nbformat": 4,
 "nbformat_minor": 5
}
