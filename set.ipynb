{
 "cells": [
  {
   "cell_type": "code",
   "execution_count": 1,
   "id": "04de037a",
   "metadata": {},
   "outputs": [],
   "source": [
    "my_set = {1, 2, 3, 4}"
   ]
  },
  {
   "cell_type": "code",
   "execution_count": 3,
   "id": "3197d3ca",
   "metadata": {},
   "outputs": [
    {
     "data": {
      "text/plain": [
       "{1, 2, 3, 4}"
      ]
     },
     "execution_count": 3,
     "metadata": {},
     "output_type": "execute_result"
    }
   ],
   "source": [
    "my_set"
   ]
  },
  {
   "cell_type": "code",
   "execution_count": 5,
   "id": "088c88f1",
   "metadata": {},
   "outputs": [
    {
     "name": "stdout",
     "output_type": "stream",
     "text": [
      "{1, 2, 3, 4}\n"
     ]
    }
   ],
   "source": [
    "print(my_set)"
   ]
  },
  {
   "cell_type": "code",
   "execution_count": 7,
   "id": "928e4920",
   "metadata": {},
   "outputs": [
    {
     "data": {
      "text/plain": [
       "set()"
      ]
     },
     "execution_count": 7,
     "metadata": {},
     "output_type": "execute_result"
    }
   ],
   "source": [
    "empty_set = set()\n",
    "empty_set"
   ]
  },
  {
   "cell_type": "code",
   "execution_count": 12,
   "id": "024039e5",
   "metadata": {},
   "outputs": [
    {
     "data": {
      "text/plain": [
       "set"
      ]
     },
     "execution_count": 12,
     "metadata": {},
     "output_type": "execute_result"
    }
   ],
   "source": [
    "empty_set1 = {1}\n",
    "type(empty_set1)"
   ]
  },
  {
   "cell_type": "code",
   "execution_count": 20,
   "id": "e402933b",
   "metadata": {},
   "outputs": [],
   "source": [
    "list_with_dup = [1, 2, 3, 3, 3, 4, 4, 2, 1]"
   ]
  },
  {
   "cell_type": "code",
   "execution_count": 21,
   "id": "0ef86962",
   "metadata": {},
   "outputs": [
    {
     "name": "stdout",
     "output_type": "stream",
     "text": [
      "[1, 2, 3, 3, 3, 4, 4, 2, 1]\n"
     ]
    },
    {
     "data": {
      "text/plain": [
       "{1, 2, 3, 4}"
      ]
     },
     "execution_count": 21,
     "metadata": {},
     "output_type": "execute_result"
    }
   ],
   "source": [
    "unique_ness = set(list_with_dup)\n",
    "print(list_with_dup)\n",
    "unique_ness"
   ]
  },
  {
   "cell_type": "code",
   "execution_count": 26,
   "id": "6677ab06",
   "metadata": {},
   "outputs": [],
   "source": [
    "char_set = set(('hello', 'hello', 'hello'))"
   ]
  },
  {
   "cell_type": "code",
   "execution_count": 27,
   "id": "1a736f8c",
   "metadata": {},
   "outputs": [
    {
     "data": {
      "text/plain": [
       "{'hello'}"
      ]
     },
     "execution_count": 27,
     "metadata": {},
     "output_type": "execute_result"
    }
   ],
   "source": [
    "char_set"
   ]
  },
  {
   "cell_type": "code",
   "execution_count": 28,
   "id": "4c6e22d6",
   "metadata": {},
   "outputs": [],
   "source": [
    "\n",
    "new_set = {1, 2, 3, 4, 5, 6}"
   ]
  },
  {
   "cell_type": "code",
   "execution_count": 30,
   "id": "b2f2a502",
   "metadata": {},
   "outputs": [
    {
     "data": {
      "text/plain": [
       "True"
      ]
     },
     "execution_count": 30,
     "metadata": {},
     "output_type": "execute_result"
    }
   ],
   "source": [
    "3 in new_set"
   ]
  },
  {
   "cell_type": "code",
   "execution_count": 32,
   "id": "bbaf5e53",
   "metadata": {},
   "outputs": [
    {
     "data": {
      "text/plain": [
       "True"
      ]
     },
     "execution_count": 32,
     "metadata": {},
     "output_type": "execute_result"
    }
   ],
   "source": [
    "7 not in new_set"
   ]
  },
  {
   "cell_type": "code",
   "execution_count": 36,
   "id": "64e275fd",
   "metadata": {},
   "outputs": [
    {
     "data": {
      "text/plain": [
       "set()"
      ]
     },
     "execution_count": 36,
     "metadata": {},
     "output_type": "execute_result"
    }
   ],
   "source": [
    "my_set.clear()\n",
    "my_set"
   ]
  },
  {
   "cell_type": "code",
   "execution_count": 38,
   "id": "b52af6ef",
   "metadata": {},
   "outputs": [
    {
     "name": "stdout",
     "output_type": "stream",
     "text": [
      "set()\n"
     ]
    }
   ],
   "source": [
    "print(my_set)"
   ]
  },
  {
   "cell_type": "code",
   "execution_count": 41,
   "id": "66ae7d7b",
   "metadata": {},
   "outputs": [],
   "source": [
    "my_set.add(1)"
   ]
  },
  {
   "cell_type": "code",
   "execution_count": 44,
   "id": "971b8eb7",
   "metadata": {},
   "outputs": [
    {
     "data": {
      "text/plain": [
       "{1}"
      ]
     },
     "execution_count": 44,
     "metadata": {},
     "output_type": "execute_result"
    }
   ],
   "source": [
    "my_set"
   ]
  },
  {
   "cell_type": "code",
   "execution_count": 45,
   "id": "3ed604a6",
   "metadata": {},
   "outputs": [],
   "source": [
    "my_set.update([1, 2, 3, 4, 5])"
   ]
  },
  {
   "cell_type": "code",
   "execution_count": 47,
   "id": "c7f5499d",
   "metadata": {},
   "outputs": [
    {
     "data": {
      "text/plain": [
       "{1, 2, 3, 4, 5}"
      ]
     },
     "execution_count": 47,
     "metadata": {},
     "output_type": "execute_result"
    }
   ],
   "source": [
    "my_set"
   ]
  },
  {
   "cell_type": "code",
   "execution_count": 48,
   "id": "b4f21068",
   "metadata": {},
   "outputs": [],
   "source": [
    "other_set = {5, 6, 1,9}\n",
    "my_set.update(other_set)"
   ]
  },
  {
   "cell_type": "code",
   "execution_count": 50,
   "id": "b8c3ba35",
   "metadata": {},
   "outputs": [
    {
     "data": {
      "text/plain": [
       "{1, 2, 3, 4, 5, 6, 9}"
      ]
     },
     "execution_count": 50,
     "metadata": {},
     "output_type": "execute_result"
    }
   ],
   "source": [
    "my_set"
   ]
  },
  {
   "cell_type": "code",
   "execution_count": 60,
   "id": "973a862b",
   "metadata": {},
   "outputs": [],
   "source": [
    "my_set.update({11: 'reza', 99: 'ali'}.values())"
   ]
  },
  {
   "cell_type": "code",
   "execution_count": 61,
   "id": "8b860b96",
   "metadata": {},
   "outputs": [
    {
     "data": {
      "text/plain": [
       "{1, 11, 2, 3, 4, 5, 6, 9, 99, 'ali', 'reza'}"
      ]
     },
     "execution_count": 61,
     "metadata": {},
     "output_type": "execute_result"
    }
   ],
   "source": [
    "my_set"
   ]
  },
  {
   "cell_type": "code",
   "execution_count": 63,
   "id": "d22787cb",
   "metadata": {},
   "outputs": [
    {
     "ename": "KeyError",
     "evalue": "'ali'",
     "output_type": "error",
     "traceback": [
      "\u001b[31m---------------------------------------------------------------------------\u001b[39m",
      "\u001b[31mKeyError\u001b[39m                                  Traceback (most recent call last)",
      "\u001b[36mCell\u001b[39m\u001b[36m \u001b[39m\u001b[32mIn[63]\u001b[39m\u001b[32m, line 1\u001b[39m\n\u001b[32m----> \u001b[39m\u001b[32m1\u001b[39m my_set.remove(\u001b[33m'\u001b[39m\u001b[33mali\u001b[39m\u001b[33m'\u001b[39m)\n",
      "\u001b[31mKeyError\u001b[39m: 'ali'"
     ]
    }
   ],
   "source": [
    "my_set.remove('ali')"
   ]
  },
  {
   "cell_type": "code",
   "execution_count": 72,
   "id": "eea31835",
   "metadata": {},
   "outputs": [
    {
     "data": {
      "text/plain": [
       "{2, 3, 4, 5, 6, 9, 99, 'reza'}"
      ]
     },
     "execution_count": 72,
     "metadata": {},
     "output_type": "execute_result"
    }
   ],
   "source": [
    "my_set"
   ]
  },
  {
   "cell_type": "code",
   "execution_count": 75,
   "id": "174eac8e",
   "metadata": {},
   "outputs": [],
   "source": [
    "res = my_set.discard(2)\n"
   ]
  },
  {
   "cell_type": "code",
   "execution_count": 78,
   "id": "37afd69a",
   "metadata": {},
   "outputs": [
    {
     "name": "stdout",
     "output_type": "stream",
     "text": [
      "None\n"
     ]
    }
   ],
   "source": [
    "print(res)"
   ]
  },
  {
   "cell_type": "code",
   "execution_count": 80,
   "id": "3805ef6a",
   "metadata": {},
   "outputs": [
    {
     "data": {
      "text/plain": [
       "{3, 4, 5, 6, 9, 99, 'reza'}"
      ]
     },
     "execution_count": 80,
     "metadata": {},
     "output_type": "execute_result"
    }
   ],
   "source": [
    "my_set"
   ]
  },
  {
   "cell_type": "code",
   "execution_count": 81,
   "id": "3aaff278",
   "metadata": {},
   "outputs": [
    {
     "data": {
      "text/plain": [
       "3"
      ]
     },
     "execution_count": 81,
     "metadata": {},
     "output_type": "execute_result"
    }
   ],
   "source": [
    "my_set.pop()"
   ]
  },
  {
   "cell_type": "code",
   "execution_count": 82,
   "id": "f142bf03",
   "metadata": {},
   "outputs": [],
   "source": [
    "colors = {'red', 'green', 'bule', 'yellow'}"
   ]
  },
  {
   "cell_type": "code",
   "execution_count": 83,
   "id": "320807eb",
   "metadata": {},
   "outputs": [
    {
     "data": {
      "text/plain": [
       "False"
      ]
     },
     "execution_count": 83,
     "metadata": {},
     "output_type": "execute_result"
    }
   ],
   "source": [
    "'purple' in colors"
   ]
  },
  {
   "cell_type": "code",
   "execution_count": 85,
   "id": "fad797e2",
   "metadata": {},
   "outputs": [],
   "source": [
    "colors.add('purple')"
   ]
  },
  {
   "cell_type": "code",
   "execution_count": 87,
   "id": "f4bc3cff",
   "metadata": {},
   "outputs": [
    {
     "name": "stdout",
     "output_type": "stream",
     "text": [
      "{'purple', 'bule', 'yellow', 'green', 'red'}\n"
     ]
    }
   ],
   "source": [
    "print(colors)"
   ]
  },
  {
   "cell_type": "code",
   "execution_count": 90,
   "id": "5c6c8bd3",
   "metadata": {},
   "outputs": [],
   "source": [
    "number_list = [1, 2, 3, 4, 3, 2, 1]"
   ]
  },
  {
   "cell_type": "code",
   "execution_count": 93,
   "id": "c0fc73f2",
   "metadata": {},
   "outputs": [
    {
     "data": {
      "text/plain": [
       "{1, 2, 3, 4}"
      ]
     },
     "execution_count": 93,
     "metadata": {},
     "output_type": "execute_result"
    }
   ],
   "source": [
    "unique_numbers = set(number_list)\n",
    "unique_numbers"
   ]
  },
  {
   "cell_type": "code",
   "execution_count": 94,
   "id": "488bfe92",
   "metadata": {},
   "outputs": [
    {
     "name": "stdout",
     "output_type": "stream",
     "text": [
      "4\n"
     ]
    }
   ],
   "source": [
    "print(len(unique_numbers))"
   ]
  },
  {
   "cell_type": "code",
   "execution_count": 96,
   "id": "4ad48e09",
   "metadata": {},
   "outputs": [],
   "source": [
    "\n",
    "flavors = {'chocolate', 'vanilla', 'strawberry'}"
   ]
  },
  {
   "cell_type": "code",
   "execution_count": 97,
   "id": "7f8b8eff",
   "metadata": {},
   "outputs": [],
   "source": [
    "flavors.update({'mint', 'bubble gum'})"
   ]
  },
  {
   "cell_type": "code",
   "execution_count": 99,
   "id": "77ecd1bd",
   "metadata": {},
   "outputs": [
    {
     "name": "stdout",
     "output_type": "stream",
     "text": [
      "{'strawberry', 'bubble gum', 'chocolate', 'vanilla', 'mint'}\n"
     ]
    }
   ],
   "source": [
    "print(flavors)"
   ]
  },
  {
   "cell_type": "code",
   "execution_count": 108,
   "id": "ca4ba496",
   "metadata": {},
   "outputs": [],
   "source": [
    "tools = {'hammer', 'wrench', 'screwdriver', 'pliers'}"
   ]
  },
  {
   "cell_type": "code",
   "execution_count": 109,
   "id": "6bed6a5a",
   "metadata": {},
   "outputs": [],
   "source": [
    "ali = tools.remove('wrench')"
   ]
  },
  {
   "cell_type": "code",
   "execution_count": 110,
   "id": "bb2ed3f1",
   "metadata": {},
   "outputs": [
    {
     "name": "stdout",
     "output_type": "stream",
     "text": [
      "None\n"
     ]
    },
    {
     "data": {
      "text/plain": [
       "{'hammer', 'pliers', 'screwdriver'}"
      ]
     },
     "execution_count": 110,
     "metadata": {},
     "output_type": "execute_result"
    }
   ],
   "source": [
    "print(ali)\n",
    "tools"
   ]
  },
  {
   "cell_type": "code",
   "execution_count": 106,
   "id": "9840260e",
   "metadata": {},
   "outputs": [],
   "source": [
    "tools.discard('saw')"
   ]
  },
  {
   "cell_type": "code",
   "execution_count": 107,
   "id": "5b527db5",
   "metadata": {},
   "outputs": [
    {
     "name": "stdout",
     "output_type": "stream",
     "text": [
      "{'screwdriver', 'pliers', 'hammer'}\n"
     ]
    }
   ],
   "source": [
    "print(tools)"
   ]
  },
  {
   "cell_type": "code",
   "execution_count": 111,
   "id": "110cd5e4",
   "metadata": {},
   "outputs": [],
   "source": [
    "planets = {'earth', 'jupiter', 'mars'}"
   ]
  },
  {
   "cell_type": "code",
   "execution_count": 115,
   "id": "37dcab57",
   "metadata": {},
   "outputs": [],
   "source": [
    "res = planets.discard('earth')"
   ]
  },
  {
   "cell_type": "code",
   "execution_count": 116,
   "id": "7f56a262",
   "metadata": {},
   "outputs": [
    {
     "name": "stdout",
     "output_type": "stream",
     "text": [
      "None\n",
      "{'mars', 'jupiter'}\n"
     ]
    }
   ],
   "source": [
    "print(res)\n",
    "print(planets)"
   ]
  }
 ],
 "metadata": {
  "kernelspec": {
   "display_name": "python3.3",
   "language": "python",
   "name": "python3"
  },
  "language_info": {
   "codemirror_mode": {
    "name": "ipython",
    "version": 3
   },
   "file_extension": ".py",
   "mimetype": "text/x-python",
   "name": "python",
   "nbconvert_exporter": "python",
   "pygments_lexer": "ipython3",
   "version": "3.13.5"
  }
 },
 "nbformat": 4,
 "nbformat_minor": 5
}
