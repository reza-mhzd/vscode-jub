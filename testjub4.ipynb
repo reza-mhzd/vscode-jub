{
 "cells": [
  {
   "cell_type": "code",
   "execution_count": 1,
   "id": "1d51c94c",
   "metadata": {},
   "outputs": [
    {
     "name": "stdout",
     "output_type": "stream",
     "text": [
      "133845657920656\n"
     ]
    }
   ],
   "source": [
    "text = \"ali\"\n",
    "print(id(text))"
   ]
  },
  {
   "cell_type": "code",
   "execution_count": 4,
   "id": "95e4beb4",
   "metadata": {},
   "outputs": [
    {
     "name": "stdout",
     "output_type": "stream",
     "text": [
      "REZA MOHMMADIZADEH\n",
      "reza mohmmadizadeh\n"
     ]
    }
   ],
   "source": [
    "text = \"reza mohMMADIzadeh\"\n",
    "print(text.upper())\n",
    "print(text.lower())"
   ]
  },
  {
   "cell_type": "code",
   "execution_count": 6,
   "id": "e5c04906",
   "metadata": {},
   "outputs": [
    {
     "name": "stdout",
     "output_type": "stream",
     "text": [
      "Reza mohmmadizadeh\n"
     ]
    }
   ],
   "source": [
    "print(text.capitalize())"
   ]
  },
  {
   "cell_type": "code",
   "execution_count": 8,
   "id": "09ed727e",
   "metadata": {},
   "outputs": [
    {
     "data": {
      "text/plain": [
       "'Reza Mohmmadizadeh'"
      ]
     },
     "execution_count": 8,
     "metadata": {},
     "output_type": "execute_result"
    }
   ],
   "source": [
    "text.title()"
   ]
  },
  {
   "cell_type": "code",
   "execution_count": 16,
   "id": "4a657cf4",
   "metadata": {},
   "outputs": [],
   "source": [
    "name = \"42342\""
   ]
  },
  {
   "cell_type": "code",
   "execution_count": 18,
   "id": "68a8619f",
   "metadata": {},
   "outputs": [
    {
     "data": {
      "text/plain": [
       "True"
      ]
     },
     "execution_count": 18,
     "metadata": {},
     "output_type": "execute_result"
    }
   ],
   "source": [
    "name.isnumeric()"
   ]
  },
  {
   "cell_type": "code",
   "execution_count": 21,
   "id": "93de5099",
   "metadata": {},
   "outputs": [],
   "source": [
    "resualt = name.replace(\"42\", \"ali\")"
   ]
  },
  {
   "cell_type": "code",
   "execution_count": 23,
   "id": "1edf33eb",
   "metadata": {},
   "outputs": [
    {
     "name": "stdout",
     "output_type": "stream",
     "text": [
      "ali3ali\n"
     ]
    }
   ],
   "source": [
    "print(resualt)"
   ]
  },
  {
   "cell_type": "code",
   "execution_count": 28,
   "id": "369c7920",
   "metadata": {},
   "outputs": [
    {
     "data": {
      "text/plain": [
       "0"
      ]
     },
     "execution_count": 28,
     "metadata": {},
     "output_type": "execute_result"
    }
   ],
   "source": [
    "name.find(\"42\")"
   ]
  },
  {
   "cell_type": "code",
   "execution_count": 29,
   "id": "77328bae",
   "metadata": {},
   "outputs": [],
   "source": [
    "names = \"ali,sara,mian,zahra\""
   ]
  },
  {
   "cell_type": "code",
   "execution_count": 31,
   "id": "465440b8",
   "metadata": {},
   "outputs": [
    {
     "data": {
      "text/plain": [
       "['ali', 'sara', 'mian', 'zahra']"
      ]
     },
     "execution_count": 31,
     "metadata": {},
     "output_type": "execute_result"
    }
   ],
   "source": [
    "names.split(\",\")"
   ]
  },
  {
   "cell_type": "code",
   "execution_count": null,
   "id": "fd9732f2",
   "metadata": {},
   "outputs": [],
   "source": []
  }
 ],
 "metadata": {
  "kernelspec": {
   "display_name": "python3.3",
   "language": "python",
   "name": "python3"
  },
  "language_info": {
   "codemirror_mode": {
    "name": "ipython",
    "version": 3
   },
   "file_extension": ".py",
   "mimetype": "text/x-python",
   "name": "python",
   "nbconvert_exporter": "python",
   "pygments_lexer": "ipython3",
   "version": "3.13.5"
  }
 },
 "nbformat": 4,
 "nbformat_minor": 5
}
