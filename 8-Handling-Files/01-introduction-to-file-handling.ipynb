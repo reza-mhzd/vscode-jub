{
 "cells": [
  {
   "cell_type": "code",
   "execution_count": 2,
   "id": "5d1985f8",
   "metadata": {},
   "outputs": [],
   "source": [
    "file = open('./test1', 'w')\n",
    "file.close()"
   ]
  },
  {
   "cell_type": "code",
   "execution_count": 9,
   "id": "fefa855a",
   "metadata": {},
   "outputs": [
    {
     "name": "stdout",
     "output_type": "stream",
     "text": [
      "hello, how are you today?\n",
      "that's good \n",
      "my name is reza and my family name is mohammadizadeh\n"
     ]
    }
   ],
   "source": [
    "file_ob = open(\"./test1\", 'r')\n",
    "content = file_ob.read()\n",
    "print(content)\n",
    "file_ob.close()\n"
   ]
  },
  {
   "cell_type": "code",
   "execution_count": 10,
   "id": "70b3b21b",
   "metadata": {},
   "outputs": [
    {
     "name": "stdout",
     "output_type": "stream",
     "text": [
      "hello\n"
     ]
    }
   ],
   "source": [
    "with open('./test3/example.txt', 'r') as file:\n",
    "    content = file.read()\n",
    "    print(content)"
   ]
  },
  {
   "cell_type": "code",
   "execution_count": 13,
   "id": "2aa64002",
   "metadata": {},
   "outputs": [],
   "source": [
    "with open('./test.txt', 'w') as file:\n",
    "    file.write(\"hello world!\")\n",
    "    "
   ]
  },
  {
   "cell_type": "code",
   "execution_count": 17,
   "id": "c67dc6d6",
   "metadata": {},
   "outputs": [],
   "source": [
    "with open('./example.txt', 'a') as file:\n",
    "    file.write(\"hello\\n\")\n",
    "    file.write(\"how are you\")"
   ]
  },
  {
   "cell_type": "code",
   "execution_count": 52,
   "id": "3d279b99",
   "metadata": {},
   "outputs": [
    {
     "name": "stdout",
     "output_type": "stream",
     "text": [
      "now: \n",
      "\n"
     ]
    }
   ],
   "source": [
    "with open('./example.txt', 'w+') as file:\n",
    "    content = file.read()\n",
    "    print(f'now: {content}')\n",
    "    file.write('hhhhhhheeeeeelllllllllllllooooo\\n')\n",
    "    new_content = file.readline()\n",
    "    print(f'{new_content}')\n",
    "\n"
   ]
  },
  {
   "cell_type": "code",
   "execution_count": 7,
   "id": "3180707a",
   "metadata": {},
   "outputs": [
    {
     "name": "stdout",
     "output_type": "stream",
     "text": [
      "content: hhhhhhheeeeeelllllllllllllooooo*\n",
      "*"
     ]
    }
   ],
   "source": [
    "with open('./example.txt', 'r') as file:\n",
    "    content = file.read()\n",
    "    content1 = file.read()\n",
    "    print(f'content: {content}*\\n*{content1}', end='')"
   ]
  },
  {
   "cell_type": "code",
   "execution_count": 21,
   "id": "6b4b5b1d",
   "metadata": {},
   "outputs": [
    {
     "name": "stdout",
     "output_type": "stream",
     "text": [
      "this is the first line.\n",
      "this is the second line\n",
      "\n"
     ]
    }
   ],
   "source": [
    "lines_to_write = [\n",
    "    'this is the first line.\\n',\n",
    "    'this is the second line\\n'\n",
    "]\n",
    "\n",
    "with open('./output.txt', 'w') as file:\n",
    "    file.writelines(lines_to_write)\n",
    "\n",
    "with open('output.txt', 'r') as file:\n",
    "    contents = file.read()\n",
    "    print(contents)"
   ]
  },
  {
   "cell_type": "code",
   "execution_count": 22,
   "id": "84c80134",
   "metadata": {},
   "outputs": [
    {
     "name": "stdout",
     "output_type": "stream",
     "text": [
      "this is the first line.\n",
      "this is the second line\n",
      "this is a new line added in append mode\n",
      "\n"
     ]
    }
   ],
   "source": [
    "with open('./output.txt', 'a') as file:\n",
    "    file.write('this is a new line added in append mode\\n')\n",
    "\n",
    "with open('./output.txt', 'r') as file:\n",
    "    content = file.read()\n",
    "    print(content)"
   ]
  },
  {
   "cell_type": "code",
   "execution_count": 24,
   "id": "0f90cd58",
   "metadata": {},
   "outputs": [
    {
     "name": "stdout",
     "output_type": "stream",
     "text": [
      "hhhhhhheeeeeelllllllllllllooooo\n"
     ]
    }
   ],
   "source": [
    "def print_file_contents(file_name: str, mode: str) -> None:\n",
    "    \"\"\"\n",
    "    opens a file with teh given name and mode, then prints its contents.\n",
    "\n",
    "    :param file_name: the name of the file to open.\n",
    "    :param mode: the mode in which to open the file ('r' fo read, 'w' for write, etc.).\n",
    "    \"\"\"\n",
    "    with open(file_name, mode) as file:\n",
    "        contents = file.read()\n",
    "        print(contents)\n",
    "\n",
    "print_file_contents('./example.txt', 'r')"
   ]
  }
 ],
 "metadata": {
  "kernelspec": {
   "display_name": "python3.3",
   "language": "python",
   "name": "python3"
  },
  "language_info": {
   "codemirror_mode": {
    "name": "ipython",
    "version": 3
   },
   "file_extension": ".py",
   "mimetype": "text/x-python",
   "name": "python",
   "nbconvert_exporter": "python",
   "pygments_lexer": "ipython3",
   "version": "3.13.5"
  }
 },
 "nbformat": 4,
 "nbformat_minor": 5
}
