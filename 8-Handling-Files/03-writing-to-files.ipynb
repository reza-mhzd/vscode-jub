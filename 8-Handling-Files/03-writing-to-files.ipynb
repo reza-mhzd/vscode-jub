{
 "cells": [
  {
   "cell_type": "code",
   "execution_count": null,
   "id": "4dc8a751",
   "metadata": {},
   "outputs": [],
   "source": [
    "with open('./write-example.txt', 'w') as file: \n",
    "    file.write('this text overwirtes the fil\\'s content or creates a new file.')"
   ]
  },
  {
   "cell_type": "code",
   "execution_count": null,
   "id": "fea86e53",
   "metadata": {},
   "outputs": [],
   "source": [
    "with open('./write-example.txt', 'a') as file:\n",
    "    file.write(\"\\nthis text appends to the file's existing content.\")"
   ]
  },
  {
   "cell_type": "code",
   "execution_count": null,
   "id": "0c288087",
   "metadata": {},
   "outputs": [],
   "source": [
    "with open('write-example.txt', 'w') as file:\n",
    "    file.write(\n",
    "    \"\"\" \n",
    "    this is test1\n",
    "    text 2\n",
    "    text 3\n",
    "    \"\"\"\n",
    "    )\n",
    "\n",
    "with open('./write-example.txt', 'r') as file:\n",
    "    content = file.read()\n",
    "    print(content)"
   ]
  },
  {
   "cell_type": "code",
   "execution_count": null,
   "id": "9c95fc0e",
   "metadata": {},
   "outputs": [],
   "source": [
    "with open('./write-example.txt', 'w') as file:\n",
    "    file.write('first line\\n')\n",
    "    file.write('seoncd line\\n')\n",
    "    file.write('thirs line.')"
   ]
  },
  {
   "cell_type": "code",
   "execution_count": null,
   "id": "6c71b8bb",
   "metadata": {},
   "outputs": [],
   "source": [
    "with open('./write-example.txt', 'r') as file:\n",
    "    content = file.read()\n",
    "    print(content)"
   ]
  },
  {
   "cell_type": "code",
   "execution_count": null,
   "id": "72df0e1c",
   "metadata": {},
   "outputs": [],
   "source": [
    "lines_to_write = [\"first line.\\n\", \"second line.\\n\", \"third line.\\n\"]\n",
    "\n",
    "with open('./write-example.txt', 'w') as file:\n",
    "    file.writelines(lines_to_write)"
   ]
  },
  {
   "cell_type": "code",
   "execution_count": null,
   "id": "c0807edd",
   "metadata": {},
   "outputs": [],
   "source": [
    "with open('./write-example.txt', 'r') as file:\n",
    "    for line in file:\n",
    "        print(line, end=\"\")"
   ]
  },
  {
   "cell_type": "code",
   "execution_count": null,
   "id": "ddcad17e",
   "metadata": {},
   "outputs": [],
   "source": [
    "with open('./write-example.txt', 'a') as file:\n",
    "    file.write('\\nappend content')\n",
    "\n",
    "with open('./write-example.txt', 'r') as file:\n",
    "    content = file.read()\n",
    "    print(content)\n"
   ]
  },
  {
   "cell_type": "code",
   "execution_count": null,
   "id": "47cc1649",
   "metadata": {},
   "outputs": [],
   "source": [
    "import os\n",
    "\n",
    "if not os.path.exists('./write-example.txt'):\n",
    "    with open('./write-example.txt', 'w') as file:\n",
    "        file.write('This is important data.')\n",
    "else:\n",
    "    print(\"the file already exists. Aborting to prevent data loss.\")"
   ]
  },
  {
   "cell_type": "code",
   "execution_count": null,
   "id": "c415ff08",
   "metadata": {},
   "outputs": [],
   "source": [
    "file = open('./buffered.txt', 'w', buffering=1024)\n",
    "file.write('this data is buffered')\n",
    "file.write('\\n')\n",
    "file.flush()"
   ]
  },
  {
   "cell_type": "code",
   "execution_count": null,
   "id": "8d7096ab",
   "metadata": {},
   "outputs": [],
   "source": [
    "import datetime\n",
    "\n",
    "def log_message(log_file, message):\n",
    "    timestamp = datetime.datetime.now().strftime('%Y-%m-%d %H:%M:%S')\n",
    "    with open(log_file, 'a') as file:\n",
    "        file.write(f'[{timestamp}] {message}\\n')\n",
    "\n",
    "log_message('./buffered.txt', 'application start')\n",
    "log_message('./buffered.txt', 'an important event occurred')\n",
    "log_message('./buffered.txt', 'application end')\n"
   ]
  },
  {
   "cell_type": "code",
   "execution_count": null,
   "id": "d6318e51",
   "metadata": {},
   "outputs": [],
   "source": [
    "# Data to include in the report\n",
    "report_data = {\n",
    "    'Title': 'Sales Report for March 2023',\n",
    "    'Total Sales': '9500',\n",
    "    'Top Product': 'Gadget Pro',\n",
    "    'Customer Satisfaction': '89%'\n",
    "}\n",
    "\n",
    "# Function to generate a report\n",
    "def generate_report(report_file, data):\n",
    "    with open(report_file, 'w') as file:\n",
    "        file.write(f\"{data['Title']}\\n\")\n",
    "        file.write(\"=\" * len(data['Title']) + \"\\n\")\n",
    "        for key, value in data.items():\n",
    "            if key != 'Title':\n",
    "                file.write(f\"{key}: {value}\\n\")\n",
    "\n",
    "# Generate and save the report\n",
    "generate_report(\"buffered.txt\", report_data)\n"
   ]
  },
  {
   "cell_type": "code",
   "execution_count": null,
   "id": "2cb68a78",
   "metadata": {},
   "outputs": [],
   "source": [
    "# task 1\n",
    "import os \n",
    "\n",
    "def create_note(filename, note):\n",
    "    if not os.path.exists(filename):\n",
    "        with open(filename, 'w') as file:\n",
    "            file.write(note)\n",
    "    else: \n",
    "        with open(filename, 'a') as file:\n",
    "            file.write(note)\n",
    "\n",
    "def get_file_name():\n",
    "    filename = input('enter you filename path: ')\n",
    "    return filename\n",
    "\n",
    "def get_notes():\n",
    "    note = input('enter your string: ')\n",
    "    return note\n",
    "\n",
    "create_note(get_file_name(), get_notes())"
   ]
  },
  {
   "cell_type": "code",
   "execution_count": 37,
   "id": "e5197104",
   "metadata": {},
   "outputs": [],
   "source": [
    "import datetime\n",
    "\n",
    "# Bonus: Log Each Action\n",
    "def log_action(message):\n",
    "    timestamp = datetime.datetime.now().strftime(\"%Y-%m-%d %H:%M:%S\")\n",
    "    log_entry = f\"{timestamp} - {message}\\n\"\n",
    "    with open('./notes_log.txt', 'a') as log_file:\n",
    "        log_file.write(log_entry)"
   ]
  },
  {
   "cell_type": "code",
   "execution_count": 38,
   "id": "aa68e188",
   "metadata": {},
   "outputs": [],
   "source": [
    "# Task 1: Create a New Note\n",
    "def create_note(filename, note):\n",
    "    with open(filename, 'w') as file:\n",
    "        file.write(note + '\\n')\n",
    "\n",
    "    # Bonus Task: Log the action\n",
    "    log_action(f\"Note created: '{note[:15]}...'\")\n",
    "\n",
    "def get_file_name():\n",
    "    filename = input('enter you filename path: ')\n",
    "    return filename\n",
    "\n",
    "def get_notes():\n",
    "    note = input('enter your string: ')\n",
    "    return note\n",
    "\n",
    "create_note(get_file_name(), get_notes())\n"
   ]
  },
  {
   "cell_type": "code",
   "execution_count": null,
   "id": "4df4bf80",
   "metadata": {},
   "outputs": [],
   "source": []
  }
 ],
 "metadata": {
  "kernelspec": {
   "display_name": "python3.3",
   "language": "python",
   "name": "python3"
  },
  "language_info": {
   "codemirror_mode": {
    "name": "ipython",
    "version": 3
   },
   "file_extension": ".py",
   "mimetype": "text/x-python",
   "name": "python",
   "nbconvert_exporter": "python",
   "pygments_lexer": "ipython3",
   "version": "3.13.5"
  }
 },
 "nbformat": 4,
 "nbformat_minor": 5
}
