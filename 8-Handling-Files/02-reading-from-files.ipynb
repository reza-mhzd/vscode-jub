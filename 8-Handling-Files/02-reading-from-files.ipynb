{
 "cells": [
  {
   "cell_type": "code",
   "execution_count": 8,
   "id": "2463ff22",
   "metadata": {},
   "outputs": [],
   "source": [
    "file_path = './test11.txt'\n",
    "file = open(file_path, 'w')\n",
    "file.close()"
   ]
  },
  {
   "cell_type": "code",
   "execution_count": 4,
   "id": "bc8d1fd3",
   "metadata": {},
   "outputs": [
    {
     "name": "stdout",
     "output_type": "stream",
     "text": [
      "this is the first line.\n",
      "\n",
      "<class 'str'>\n"
     ]
    }
   ],
   "source": [
    "with open(\"./output.txt\", 'r') as file:\n",
    "    line = file.readline()\n",
    "    print(line)\n",
    "    print(type(line))\n",
    "    "
   ]
  },
  {
   "cell_type": "code",
   "execution_count": 6,
   "id": "3ce60d57",
   "metadata": {},
   "outputs": [
    {
     "name": "stdout",
     "output_type": "stream",
     "text": [
      "<class 'list'>\n",
      "this is the first line.\n",
      "this is the second line\n",
      "this is a new line added in append mode\n"
     ]
    }
   ],
   "source": [
    "with open('./output.txt', 'r') as file:\n",
    "    lines = file.readlines()\n",
    "    print(type(lines))\n",
    "\n",
    "for line in lines:\n",
    "    print(line, end='')"
   ]
  },
  {
   "cell_type": "code",
   "execution_count": 7,
   "id": "1d7c64c3",
   "metadata": {},
   "outputs": [
    {
     "name": "stdout",
     "output_type": "stream",
     "text": [
      "this is the first line.\n",
      "\n",
      "this is the second line\n",
      "\n",
      "this is a new line added in append mode\n",
      "\n"
     ]
    }
   ],
   "source": [
    "with open('./output.txt', 'r') as file:\n",
    "    for line in file:\n",
    "        print(line)"
   ]
  },
  {
   "cell_type": "code",
   "execution_count": 9,
   "id": "3a90224d",
   "metadata": {},
   "outputs": [
    {
     "name": "stdout",
     "output_type": "stream",
     "text": [
      "folder/subfolder/example.txt\n"
     ]
    }
   ],
   "source": [
    "import os\n",
    "\n",
    "file_path = os.path.join('folder', 'subfolder', 'example.txt')\n",
    "print(file_path)"
   ]
  },
  {
   "cell_type": "code",
   "execution_count": 17,
   "id": "d858d143",
   "metadata": {},
   "outputs": [
    {
     "name": "stdout",
     "output_type": "stream",
     "text": [
      "hello, how are you today1?\n",
      "hello, how are you today?2\n",
      "hello, how are you today3?\n",
      "hello, how are you today4?\n",
      "hello, how are you today5?\n"
     ]
    }
   ],
   "source": [
    "with open('./sample.txt', 'w') as file:\n",
    "    file.write('hello, how are you today1?\\n')\n",
    "    file.write('hello, how are you today?2\\n')\n",
    "    file.write('hello, how are you today3?\\n')\n",
    "    file.write('hello, how are you today4?\\n')\n",
    "    file.write('hello, how are you today5?\\n')\n",
    "\n",
    "with open('./sample.txt', 'r') as file:\n",
    "    for line in file:\n",
    "        print(line, end='')"
   ]
  },
  {
   "cell_type": "code",
   "execution_count": 21,
   "id": "4f807e0f",
   "metadata": {},
   "outputs": [
    {
     "name": "stdout",
     "output_type": "stream",
     "text": [
      "hello, how are you today1?\n",
      "hello, how are you today?2\n",
      "hello, how are you today3?\n",
      "hello, how are you today4?\n",
      "hello, how are you today5?\n"
     ]
    }
   ],
   "source": [
    "with open('./sample.txt', 'r') as file:\n",
    "    while True:\n",
    "        line = file.readline()\n",
    "        if line:\n",
    "            print(line.strip())\n",
    "        else:\n",
    "            break"
   ]
  },
  {
   "cell_type": "code",
   "execution_count": 24,
   "id": "575dd481",
   "metadata": {},
   "outputs": [
    {
     "name": "stdout",
     "output_type": "stream",
     "text": [
      "number of line: 1   *   content of line: hello, how are you today1?\n",
      "\n",
      "number of line: 2   *   content of line: hello, how are you today?2\n",
      "\n",
      "number of line: 3   *   content of line: hello, how are you today3?\n",
      "\n",
      "number of line: 4   *   content of line: hello, how are you today4?\n",
      "\n",
      "number of line: 5   *   content of line: hello, how are you today5?\n",
      "\n"
     ]
    }
   ],
   "source": [
    "with open('./sample.txt', 'r') as file:\n",
    "    contents_list = file.readlines()\n",
    "    for index, content in enumerate(contents_list, start=1):\n",
    "        print(f'number of line: {index}   *   content of line: {content}')"
   ]
  },
  {
   "cell_type": "code",
   "execution_count": 25,
   "id": "d1b3ee2e",
   "metadata": {},
   "outputs": [
    {
     "name": "stdout",
     "output_type": "stream",
     "text": [
      "number of line: 1   *   content of line: hello, how are you today1?\n",
      "number of line: 2   *   content of line: hello, how are you today?2\n",
      "number of line: 3   *   content of line: hello, how are you today3?\n",
      "number of line: 4   *   content of line: hello, how are you today4?\n",
      "number of line: 5   *   content of line: hello, how are you today5?\n"
     ]
    }
   ],
   "source": [
    "with open('./sample.txt', 'r') as file:\n",
    "    for index, content in enumerate(file, start=1):\n",
    "        print(f'number of line: {index}   *   content of line: {content.strip()}')"
   ]
  },
  {
   "cell_type": "code",
   "execution_count": 26,
   "id": "246f769f",
   "metadata": {},
   "outputs": [
    {
     "name": "stdout",
     "output_type": "stream",
     "text": [
      "Reading from ./sample.txt\n",
      "1: hello, how are you today1?\n",
      "2: hello, how are you today?2\n",
      "3: hello, how are you today3?\n",
      "4: hello, how are you today4?\n",
      "5: hello, how are you today5?\n"
     ]
    }
   ],
   "source": [
    "# Bonus: Working with Different File Paths\n",
    "file_path = input(\"Please enter the path to the file: \")\n",
    "print(f\"Reading from {file_path}\")\n",
    "\n",
    "with open(file_path, 'r') as file:\n",
    "    for index, line in enumerate(file, start=1):\n",
    "        print(f\"{index}: {line.strip()}\")\n"
   ]
  },
  {
   "cell_type": "code",
   "execution_count": null,
   "id": "bf41247a",
   "metadata": {},
   "outputs": [],
   "source": []
  }
 ],
 "metadata": {
  "kernelspec": {
   "display_name": "python3.3",
   "language": "python",
   "name": "python3"
  },
  "language_info": {
   "codemirror_mode": {
    "name": "ipython",
    "version": 3
   },
   "file_extension": ".py",
   "mimetype": "text/x-python",
   "name": "python",
   "nbconvert_exporter": "python",
   "pygments_lexer": "ipython3",
   "version": "3.13.5"
  }
 },
 "nbformat": 4,
 "nbformat_minor": 5
}
