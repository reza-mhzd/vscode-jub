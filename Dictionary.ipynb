{
 "cells": [
  {
   "cell_type": "code",
   "execution_count": 1,
   "id": "0f89a19f",
   "metadata": {},
   "outputs": [],
   "source": [
    "my_dict = {}"
   ]
  },
  {
   "cell_type": "code",
   "execution_count": 3,
   "id": "c28cb247",
   "metadata": {},
   "outputs": [
    {
     "name": "stdout",
     "output_type": "stream",
     "text": [
      "{}\n"
     ]
    }
   ],
   "source": [
    "print(my_dict)"
   ]
  },
  {
   "cell_type": "code",
   "execution_count": 4,
   "id": "e65487b6",
   "metadata": {},
   "outputs": [],
   "source": [
    "other_dict = dict()"
   ]
  },
  {
   "cell_type": "code",
   "execution_count": 6,
   "id": "50ed3c6f",
   "metadata": {},
   "outputs": [
    {
     "name": "stdout",
     "output_type": "stream",
     "text": [
      "{}\n"
     ]
    }
   ],
   "source": [
    "print(other_dict)"
   ]
  },
  {
   "cell_type": "code",
   "execution_count": 7,
   "id": "5e0ac1a3",
   "metadata": {},
   "outputs": [],
   "source": [
    "student_grades = {1: 'A', 2: 'B', 3: 'E'}"
   ]
  },
  {
   "cell_type": "code",
   "execution_count": 9,
   "id": "506d0cd5",
   "metadata": {},
   "outputs": [
    {
     "name": "stdout",
     "output_type": "stream",
     "text": [
      "{1: 'A', 2: 'B', 3: 'E'}\n"
     ]
    }
   ],
   "source": [
    "print(student_grades)"
   ]
  },
  {
   "cell_type": "code",
   "execution_count": 13,
   "id": "b139c372",
   "metadata": {},
   "outputs": [],
   "source": [
    "reza = {\n",
    "    'name': 'reza',\n",
    "    'age': 16,\n",
    "    'last name': 'mohammadizadeh',\n",
    "    'job': 'student'\n",
    "}"
   ]
  },
  {
   "cell_type": "code",
   "execution_count": 17,
   "id": "ae7faa13",
   "metadata": {},
   "outputs": [
    {
     "name": "stdout",
     "output_type": "stream",
     "text": [
      "16\n"
     ]
    }
   ],
   "source": [
    "print(reza['age'])"
   ]
  },
  {
   "cell_type": "code",
   "execution_count": 19,
   "id": "65689063",
   "metadata": {},
   "outputs": [
    {
     "name": "stdout",
     "output_type": "stream",
     "text": [
      "mohammadizadeh\n"
     ]
    }
   ],
   "source": [
    "print(reza['last name'])"
   ]
  },
  {
   "cell_type": "code",
   "execution_count": 21,
   "id": "cb165063",
   "metadata": {},
   "outputs": [
    {
     "data": {
      "text/plain": [
       "'student'"
      ]
     },
     "execution_count": 21,
     "metadata": {},
     "output_type": "execute_result"
    }
   ],
   "source": [
    "reza['job']"
   ]
  },
  {
   "cell_type": "code",
   "execution_count": 22,
   "id": "2d971b46",
   "metadata": {},
   "outputs": [],
   "source": [
    "person_info = {'name': 'Alice', 'age': 30, 1: ['pizza', 'pasta']}"
   ]
  },
  {
   "cell_type": "code",
   "execution_count": 24,
   "id": "3b273dad",
   "metadata": {},
   "outputs": [
    {
     "data": {
      "text/plain": [
       "{'name': 'Alice', 'age': 30, 1: ['pizza', 'pasta']}"
      ]
     },
     "execution_count": 24,
     "metadata": {},
     "output_type": "execute_result"
    }
   ],
   "source": [
    "person_info"
   ]
  },
  {
   "cell_type": "code",
   "execution_count": 26,
   "id": "267421c3",
   "metadata": {},
   "outputs": [],
   "source": [
    "credential = {'username': 'user123', 'password': 'password'}"
   ]
  },
  {
   "cell_type": "code",
   "execution_count": 28,
   "id": "9e358213",
   "metadata": {},
   "outputs": [
    {
     "name": "stdout",
     "output_type": "stream",
     "text": [
      "{'username': 'user123', 'password': 'password'}\n"
     ]
    }
   ],
   "source": [
    "print(credential)"
   ]
  },
  {
   "cell_type": "code",
   "execution_count": 32,
   "id": "a81d1b47",
   "metadata": {},
   "outputs": [],
   "source": [
    "fruit_price = dict([('apple', 3), ('banana', 5.2), ('cherry', .12)])"
   ]
  },
  {
   "cell_type": "code",
   "execution_count": 34,
   "id": "3933d231",
   "metadata": {},
   "outputs": [
    {
     "name": "stdout",
     "output_type": "stream",
     "text": [
      "{'apple': 3, 'banana': 5.2, 'cherry': 0.12}\n"
     ]
    }
   ],
   "source": [
    "print(fruit_price)"
   ]
  },
  {
   "cell_type": "code",
   "execution_count": 37,
   "id": "a97e5efd",
   "metadata": {},
   "outputs": [],
   "source": [
    "color_code = dict(red='#ff0000', blue='#0000ff', green='#00ff00')"
   ]
  },
  {
   "cell_type": "code",
   "execution_count": 38,
   "id": "e17c88e5",
   "metadata": {},
   "outputs": [
    {
     "data": {
      "text/plain": [
       "{'red': '#ff0000', 'blue': '#0000ff', 'green': '#00ff00'}"
      ]
     },
     "execution_count": 38,
     "metadata": {},
     "output_type": "execute_result"
    }
   ],
   "source": [
    "color_code"
   ]
  }
 ],
 "metadata": {
  "kernelspec": {
   "display_name": "python3.3",
   "language": "python",
   "name": "python3"
  },
  "language_info": {
   "codemirror_mode": {
    "name": "ipython",
    "version": 3
   },
   "file_extension": ".py",
   "mimetype": "text/x-python",
   "name": "python",
   "nbconvert_exporter": "python",
   "pygments_lexer": "ipython3",
   "version": "3.13.5"
  }
 },
 "nbformat": 4,
 "nbformat_minor": 5
}
