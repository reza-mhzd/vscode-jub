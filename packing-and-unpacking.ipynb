{
 "cells": [
  {
   "cell_type": "code",
   "execution_count": 2,
   "id": "474008a3",
   "metadata": {},
   "outputs": [],
   "source": [
    "point = (1, 2,3 )"
   ]
  },
  {
   "cell_type": "code",
   "execution_count": 3,
   "id": "d0f7480d",
   "metadata": {},
   "outputs": [],
   "source": [
    "x, y, z = point"
   ]
  },
  {
   "cell_type": "code",
   "execution_count": 5,
   "id": "f4fd1e6e",
   "metadata": {},
   "outputs": [
    {
     "data": {
      "text/plain": [
       "(1, 2, 3)"
      ]
     },
     "execution_count": 5,
     "metadata": {},
     "output_type": "execute_result"
    }
   ],
   "source": [
    "x, y, z"
   ]
  },
  {
   "cell_type": "code",
   "execution_count": 7,
   "id": "c0a1cb46",
   "metadata": {},
   "outputs": [
    {
     "name": "stdout",
     "output_type": "stream",
     "text": [
      "this x coordinate is: 1\n"
     ]
    }
   ],
   "source": [
    "print('this x coordinate is:', x)"
   ]
  },
  {
   "cell_type": "code",
   "execution_count": 8,
   "id": "d588cbe5",
   "metadata": {},
   "outputs": [],
   "source": [
    "student_info = ['emma', 15, 'science']"
   ]
  },
  {
   "cell_type": "code",
   "execution_count": 9,
   "id": "e5c86939",
   "metadata": {},
   "outputs": [],
   "source": [
    "name, age, major = student_info"
   ]
  },
  {
   "cell_type": "code",
   "execution_count": 10,
   "id": "0ba23bc8",
   "metadata": {},
   "outputs": [
    {
     "name": "stdout",
     "output_type": "stream",
     "text": [
      "student name:  emma\n",
      "age:  15\n",
      "major:  science\n"
     ]
    }
   ],
   "source": [
    "print('student name: ', name)\n",
    "print(\"age: \", age)\n",
    "print('major: ', major)"
   ]
  },
  {
   "cell_type": "code",
   "execution_count": 11,
   "id": "d290b8cc",
   "metadata": {},
   "outputs": [],
   "source": [
    "numbers = {1, 2, 3, 4, 5}"
   ]
  },
  {
   "cell_type": "code",
   "execution_count": 12,
   "id": "4320c476",
   "metadata": {},
   "outputs": [],
   "source": [
    "first, second, *middle, last = numbers"
   ]
  },
  {
   "cell_type": "code",
   "execution_count": 14,
   "id": "c30f053a",
   "metadata": {},
   "outputs": [
    {
     "name": "stdout",
     "output_type": "stream",
     "text": [
      "[3, 4]\n"
     ]
    }
   ],
   "source": [
    "print(middle)"
   ]
  },
  {
   "cell_type": "code",
   "execution_count": 15,
   "id": "0aad5ad8",
   "metadata": {},
   "outputs": [],
   "source": [
    "tupelll = 1, 2, 3"
   ]
  },
  {
   "cell_type": "code",
   "execution_count": 17,
   "id": "fc090b34",
   "metadata": {},
   "outputs": [
    {
     "data": {
      "text/plain": [
       "(1, 2, 3)"
      ]
     },
     "execution_count": 17,
     "metadata": {},
     "output_type": "execute_result"
    }
   ],
   "source": [
    "tupelll"
   ]
  },
  {
   "cell_type": "code",
   "execution_count": 18,
   "id": "bc798103",
   "metadata": {},
   "outputs": [],
   "source": [
    "fruits = ['apple', 'banana', 'cherry', 'date', 'elderberry']"
   ]
  },
  {
   "cell_type": "code",
   "execution_count": 20,
   "id": "8611a879",
   "metadata": {},
   "outputs": [],
   "source": [
    "head, *tail = fruits"
   ]
  },
  {
   "cell_type": "code",
   "execution_count": 22,
   "id": "9dbb0a00",
   "metadata": {},
   "outputs": [
    {
     "name": "stdout",
     "output_type": "stream",
     "text": [
      "apple\n",
      "['banana', 'cherry', 'date', 'elderberry']\n"
     ]
    }
   ],
   "source": [
    "print(head)\n",
    "print(tail)"
   ]
  },
  {
   "cell_type": "code",
   "execution_count": 23,
   "id": "d34e015f",
   "metadata": {},
   "outputs": [
    {
     "name": "stdout",
     "output_type": "stream",
     "text": [
      "<class 'str'>\n",
      "<class 'list'>\n"
     ]
    }
   ],
   "source": [
    "print(type(head))\n",
    "print(type(tail))"
   ]
  },
  {
   "cell_type": "code",
   "execution_count": 24,
   "id": "68bbd63f",
   "metadata": {},
   "outputs": [],
   "source": [
    "values = [1, 2, 3, 4, 5, 6]\n",
    "first, *_, second = values"
   ]
  },
  {
   "cell_type": "code",
   "execution_count": 26,
   "id": "da851653",
   "metadata": {},
   "outputs": [
    {
     "name": "stdout",
     "output_type": "stream",
     "text": [
      "1\n",
      "[2, 3, 4, 5]\n",
      "6\n"
     ]
    }
   ],
   "source": [
    "print(first)\n",
    "print(_)\n",
    "print(second)"
   ]
  },
  {
   "cell_type": "code",
   "execution_count": 27,
   "id": "8f04ca4c",
   "metadata": {},
   "outputs": [],
   "source": [
    "student_grades_1 = {'math': 16, 'english': 13}\n",
    "student_grades_2 = {'science': 88, 'History': 98}"
   ]
  },
  {
   "cell_type": "code",
   "execution_count": 28,
   "id": "9d7d0394",
   "metadata": {},
   "outputs": [],
   "source": [
    "combined_grades = {**student_grades_1, **student_grades_2}"
   ]
  },
  {
   "cell_type": "code",
   "execution_count": 29,
   "id": "997f2dc9",
   "metadata": {},
   "outputs": [
    {
     "name": "stdout",
     "output_type": "stream",
     "text": [
      "{'math': 16, 'english': 13, 'science': 88, 'History': 98}\n"
     ]
    }
   ],
   "source": [
    "print(combined_grades)"
   ]
  },
  {
   "cell_type": "code",
   "execution_count": 30,
   "id": "aea0c656",
   "metadata": {},
   "outputs": [],
   "source": [
    "grades = {'math': 44, 'physics': 90, 'chemistry': 55}"
   ]
  },
  {
   "cell_type": "code",
   "execution_count": 55,
   "id": "006fb65e",
   "metadata": {},
   "outputs": [],
   "source": [
    "courses = [*grades.values()]"
   ]
  },
  {
   "cell_type": "code",
   "execution_count": 58,
   "id": "52ed57ba",
   "metadata": {},
   "outputs": [
    {
     "name": "stdout",
     "output_type": "stream",
     "text": [
      "[44, 90, 55]\n"
     ]
    }
   ],
   "source": [
    "print(courses)"
   ]
  },
  {
   "cell_type": "code",
   "execution_count": 66,
   "id": "00fdc12b",
   "metadata": {},
   "outputs": [],
   "source": [
    "name = 'reza'\n",
    "age = 44\n",
    "grade = 55\n",
    "subject = 'computer sience'"
   ]
  },
  {
   "cell_type": "code",
   "execution_count": 67,
   "id": "bd72d3ce",
   "metadata": {},
   "outputs": [],
   "source": [
    "studnet_info1 = (name, age, grade, subject)"
   ]
  },
  {
   "cell_type": "code",
   "execution_count": 69,
   "id": "ad8fdc94",
   "metadata": {},
   "outputs": [
    {
     "name": "stdout",
     "output_type": "stream",
     "text": [
      "('reza', 44, 55, 'computer sience')\n"
     ]
    }
   ],
   "source": [
    "print(studnet_info1)"
   ]
  },
  {
   "cell_type": "code",
   "execution_count": 70,
   "id": "86f1092c",
   "metadata": {},
   "outputs": [],
   "source": [
    "coordinates = [1, 2, 3]"
   ]
  },
  {
   "cell_type": "code",
   "execution_count": 71,
   "id": "e8b55e9c",
   "metadata": {},
   "outputs": [],
   "source": [
    "x, y, z = coordinates"
   ]
  },
  {
   "cell_type": "code",
   "execution_count": 95,
   "id": "0a1ce857",
   "metadata": {},
   "outputs": [],
   "source": [
    "student111 = {\n",
    "    'name': 'ali',\n",
    "    'age': 22,\n",
    "    'email': 'rezamohammadizadeh'\n",
    "}"
   ]
  },
  {
   "cell_type": "code",
   "execution_count": null,
   "id": "a388ddd0",
   "metadata": {},
   "outputs": [],
   "source": [
    "student_name9, student_age9, student_email9 = {*student111.values()}"
   ]
  },
  {
   "cell_type": "code",
   "execution_count": 97,
   "id": "73a118b8",
   "metadata": {},
   "outputs": [
    {
     "data": {
      "text/plain": [
       "('rezamohammadizadeh', 22, 'ali')"
      ]
     },
     "execution_count": 97,
     "metadata": {},
     "output_type": "execute_result"
    }
   ],
   "source": [
    "student_name9, student_age9, student_email9"
   ]
  },
  {
   "cell_type": "code",
   "execution_count": 98,
   "id": "77658a8b",
   "metadata": {},
   "outputs": [
    {
     "name": "stdout",
     "output_type": "stream",
     "text": [
      "name rezamohammadizadeh age 22 email ali\n"
     ]
    }
   ],
   "source": [
    "print(f'name {student_name9} age {student_age9} email {student_email9}')"
   ]
  },
  {
   "cell_type": "code",
   "execution_count": 114,
   "id": "b31546b2",
   "metadata": {},
   "outputs": [],
   "source": [
    "a2 = 998877\n",
    "b2 = 663344"
   ]
  },
  {
   "cell_type": "code",
   "execution_count": 115,
   "id": "f6e836b6",
   "metadata": {},
   "outputs": [],
   "source": [
    "temp = a2, b2"
   ]
  },
  {
   "cell_type": "code",
   "execution_count": 116,
   "id": "9f5b6e50",
   "metadata": {},
   "outputs": [
    {
     "name": "stdout",
     "output_type": "stream",
     "text": [
      "125909961619248\n",
      "125909961619248\n"
     ]
    }
   ],
   "source": [
    "print(id(a2))\n",
    "print(id(temp[0]))"
   ]
  },
  {
   "cell_type": "code",
   "execution_count": 117,
   "id": "3244b76c",
   "metadata": {},
   "outputs": [
    {
     "name": "stdout",
     "output_type": "stream",
     "text": [
      "125909961619312 663344\n",
      "125909961619248 998877\n"
     ]
    }
   ],
   "source": [
    "a2 , b2 = b2, a2\n",
    "print(id(a2) , a2)\n",
    "print(id(b2), b2)"
   ]
  },
  {
   "cell_type": "code",
   "execution_count": null,
   "id": "6dbdc6fd",
   "metadata": {},
   "outputs": [],
   "source": []
  },
  {
   "cell_type": "code",
   "execution_count": null,
   "id": "d13ee684",
   "metadata": {},
   "outputs": [],
   "source": []
  }
 ],
 "metadata": {
  "kernelspec": {
   "display_name": "python3.3",
   "language": "python",
   "name": "python3"
  },
  "language_info": {
   "codemirror_mode": {
    "name": "ipython",
    "version": 3
   },
   "file_extension": ".py",
   "mimetype": "text/x-python",
   "name": "python",
   "nbconvert_exporter": "python",
   "pygments_lexer": "ipython3",
   "version": "3.13.5"
  }
 },
 "nbformat": 4,
 "nbformat_minor": 5
}
