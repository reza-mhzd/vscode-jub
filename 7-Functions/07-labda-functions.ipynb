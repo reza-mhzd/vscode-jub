{
 "cells": [
  {
   "cell_type": "code",
   "execution_count": 1,
   "id": "84f45eb3",
   "metadata": {},
   "outputs": [],
   "source": [
    "square = lambda x : x * x"
   ]
  },
  {
   "cell_type": "code",
   "execution_count": 2,
   "id": "dacf406d",
   "metadata": {},
   "outputs": [
    {
     "data": {
      "text/plain": [
       "25"
      ]
     },
     "execution_count": 2,
     "metadata": {},
     "output_type": "execute_result"
    }
   ],
   "source": [
    "square(5)"
   ]
  },
  {
   "cell_type": "code",
   "execution_count": 3,
   "id": "8c64c18c",
   "metadata": {},
   "outputs": [],
   "source": [
    "numbers = [1, 2, 3, 4, 5, 6]\n",
    "square_numbers = map(lambda x: x**2, numbers)"
   ]
  },
  {
   "cell_type": "code",
   "execution_count": 4,
   "id": "1526fac8",
   "metadata": {},
   "outputs": [
    {
     "data": {
      "text/plain": [
       "[1, 4, 9, 16, 25, 36]"
      ]
     },
     "execution_count": 4,
     "metadata": {},
     "output_type": "execute_result"
    }
   ],
   "source": [
    "list(square_numbers)"
   ]
  },
  {
   "cell_type": "code",
   "execution_count": 5,
   "id": "74803f35",
   "metadata": {},
   "outputs": [],
   "source": [
    "add_lambda = lambda a,b: a + b"
   ]
  },
  {
   "cell_type": "code",
   "execution_count": 1,
   "id": "b1b46bd7",
   "metadata": {},
   "outputs": [],
   "source": [
    "multiply = lambda x, y: x * y"
   ]
  },
  {
   "cell_type": "code",
   "execution_count": 2,
   "id": "9de00174",
   "metadata": {},
   "outputs": [
    {
     "data": {
      "text/plain": [
       "20"
      ]
     },
     "execution_count": 2,
     "metadata": {},
     "output_type": "execute_result"
    }
   ],
   "source": [
    "multiply(4, 5)"
   ]
  },
  {
   "cell_type": "code",
   "execution_count": 3,
   "id": "f3f41b54",
   "metadata": {},
   "outputs": [],
   "source": [
    "add = lambda x, y : x + y"
   ]
  },
  {
   "cell_type": "code",
   "execution_count": 4,
   "id": "9f70010f",
   "metadata": {},
   "outputs": [
    {
     "data": {
      "text/plain": [
       "7"
      ]
     },
     "execution_count": 4,
     "metadata": {},
     "output_type": "execute_result"
    }
   ],
   "source": [
    "add(3, 4)"
   ]
  },
  {
   "cell_type": "code",
   "execution_count": 22,
   "id": "0925be09",
   "metadata": {},
   "outputs": [
    {
     "name": "stdout",
     "output_type": "stream",
     "text": [
      "[(4, 'four'), (1, 'one'), (3, 'three'), (2, 'two')]\n"
     ]
    }
   ],
   "source": [
    "paris = [(1, 'one'), (2, 'two'), (3, 'three'), (4, 'four')]\n",
    "paris.sort(key=lambda pair: pair[1])\n",
    "print(paris)"
   ]
  },
  {
   "cell_type": "code",
   "execution_count": 26,
   "id": "0d66876e",
   "metadata": {},
   "outputs": [
    {
     "data": {
      "text/plain": [
       "[2, 4, 6, 8]"
      ]
     },
     "execution_count": 26,
     "metadata": {},
     "output_type": "execute_result"
    }
   ],
   "source": [
    "numbers = [1, 2, 3, 4, 5, 6, 7, 8, 9]\n",
    "even_numbers = filter(lambda number: number % 2 == 0, numbers)\n",
    "list(even_numbers)"
   ]
  },
  {
   "cell_type": "code",
   "execution_count": 27,
   "id": "05545549",
   "metadata": {},
   "outputs": [],
   "source": [
    "numbers = [2, 4, 6, 8]\n",
    "square_numbers = map(lambda number : number ** 2, numbers)"
   ]
  },
  {
   "cell_type": "code",
   "execution_count": 28,
   "id": "4e3ec156",
   "metadata": {},
   "outputs": [
    {
     "data": {
      "text/plain": [
       "[4, 16, 36, 64]"
      ]
     },
     "execution_count": 28,
     "metadata": {},
     "output_type": "execute_result"
    }
   ],
   "source": [
    "list(square_numbers)"
   ]
  },
  {
   "cell_type": "code",
   "execution_count": null,
   "id": "05529987",
   "metadata": {},
   "outputs": [],
   "source": []
  }
 ],
 "metadata": {
  "kernelspec": {
   "display_name": "python3.3",
   "language": "python",
   "name": "python3"
  },
  "language_info": {
   "codemirror_mode": {
    "name": "ipython",
    "version": 3
   },
   "file_extension": ".py",
   "mimetype": "text/x-python",
   "name": "python",
   "nbconvert_exporter": "python",
   "pygments_lexer": "ipython3",
   "version": "3.13.5"
  }
 },
 "nbformat": 4,
 "nbformat_minor": 5
}
