{
 "cells": [
  {
   "cell_type": "code",
   "execution_count": 1,
   "id": "b9d14f62",
   "metadata": {},
   "outputs": [],
   "source": [
    "numbers = [2, 4, 6, 8, -1]"
   ]
  },
  {
   "cell_type": "code",
   "execution_count": 2,
   "id": "5384b9d5",
   "metadata": {},
   "outputs": [
    {
     "data": {
      "text/plain": [
       "[2, 4, 6, 8, 1]"
      ]
     },
     "execution_count": 2,
     "metadata": {},
     "output_type": "execute_result"
    }
   ],
   "source": [
    "[abs(num) for num in numbers]"
   ]
  },
  {
   "cell_type": "code",
   "execution_count": 4,
   "id": "1764dd76",
   "metadata": {},
   "outputs": [
    {
     "name": "stdout",
     "output_type": "stream",
     "text": [
      "2\n",
      "4\n",
      "6\n",
      "8\n",
      "1\n"
     ]
    }
   ],
   "source": [
    "for num in numbers:\n",
    "    print(abs(num))"
   ]
  },
  {
   "cell_type": "code",
   "execution_count": 5,
   "id": "61a6f975",
   "metadata": {},
   "outputs": [],
   "source": [
    "result = sum(numbers)"
   ]
  },
  {
   "cell_type": "code",
   "execution_count": 6,
   "id": "7b8a7511",
   "metadata": {},
   "outputs": [
    {
     "name": "stdout",
     "output_type": "stream",
     "text": [
      "19\n"
     ]
    }
   ],
   "source": [
    "print(result)"
   ]
  },
  {
   "cell_type": "code",
   "execution_count": 7,
   "id": "5cc814a5",
   "metadata": {},
   "outputs": [
    {
     "data": {
      "text/plain": [
       "8"
      ]
     },
     "execution_count": 7,
     "metadata": {},
     "output_type": "execute_result"
    }
   ],
   "source": [
    "max(numbers)"
   ]
  },
  {
   "cell_type": "code",
   "execution_count": 8,
   "id": "5b78ff23",
   "metadata": {},
   "outputs": [
    {
     "data": {
      "text/plain": [
       "-1"
      ]
     },
     "execution_count": 8,
     "metadata": {},
     "output_type": "execute_result"
    }
   ],
   "source": [
    "min(numbers)"
   ]
  },
  {
   "cell_type": "code",
   "execution_count": 11,
   "id": "6b646737",
   "metadata": {},
   "outputs": [
    {
     "name": "stdout",
     "output_type": "stream",
     "text": [
      "[0, 1, 2, 3, 4, 5, 6, 7, 8, 9]\n"
     ]
    }
   ],
   "source": [
    "number = list(range(0, 10))\n",
    "print(number)"
   ]
  },
  {
   "cell_type": "code",
   "execution_count": 12,
   "id": "e0e1489f",
   "metadata": {},
   "outputs": [],
   "source": [
    "list1 = ['ali', 'sara', 'mian']\n",
    "list2 = [3, 5, 6, 9]"
   ]
  },
  {
   "cell_type": "code",
   "execution_count": 15,
   "id": "3c928b2f",
   "metadata": {},
   "outputs": [
    {
     "name": "stdout",
     "output_type": "stream",
     "text": [
      "('ali', 3)\n",
      "('sara', 5)\n",
      "('mian', 6)\n"
     ]
    }
   ],
   "source": [
    "for name, age in zip(list1, list2):\n",
    "    res = name, age\n",
    "    print(res)"
   ]
  },
  {
   "cell_type": "code",
   "execution_count": null,
   "id": "f31320d1",
   "metadata": {},
   "outputs": [
    {
     "ename": "SyntaxError",
     "evalue": "did you forget parentheses around the comprehension target? (1039407268.py, line 3)",
     "output_type": "error",
     "traceback": [
      "  \u001b[36mCell\u001b[39m\u001b[36m \u001b[39m\u001b[32mIn[17]\u001b[39m\u001b[32m, line 3\u001b[39m\n\u001b[31m    \u001b[39m\u001b[31mcombined_list = [name, age for name, age in zip(names, ages) if name is not None and age is not None]\u001b[39m\n                     ^\n\u001b[31mSyntaxError\u001b[39m\u001b[31m:\u001b[39m did you forget parentheses around the comprehension target?\n"
     ]
    }
   ],
   "source": [
    "names = [\"Alice\", None, \"Charlie\", \"Diana\"]\n",
    "ages = [25, 30, None, 22]\n",
    "combined_list = [name, age for name, age in zip(names, ages) if name is not None and age is not None]"
   ]
  },
  {
   "cell_type": "code",
   "execution_count": null,
   "id": "61532cf2",
   "metadata": {},
   "outputs": [],
   "source": []
  }
 ],
 "metadata": {
  "kernelspec": {
   "display_name": "python3.3",
   "language": "python",
   "name": "python3"
  },
  "language_info": {
   "codemirror_mode": {
    "name": "ipython",
    "version": 3
   },
   "file_extension": ".py",
   "mimetype": "text/x-python",
   "name": "python",
   "nbconvert_exporter": "python",
   "pygments_lexer": "ipython3",
   "version": "3.13.5"
  }
 },
 "nbformat": 4,
 "nbformat_minor": 5
}
