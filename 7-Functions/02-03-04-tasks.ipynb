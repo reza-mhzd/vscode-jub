{
 "cells": [
  {
   "cell_type": "code",
   "execution_count": 1,
   "id": "f940b2a6",
   "metadata": {},
   "outputs": [],
   "source": [
    "def greet():\n",
    "    print(\"hello world\")\n"
   ]
  },
  {
   "cell_type": "code",
   "execution_count": 3,
   "id": "2b058e6f",
   "metadata": {},
   "outputs": [
    {
     "name": "stdout",
     "output_type": "stream",
     "text": [
      "hello world\n"
     ]
    }
   ],
   "source": [
    "greet()"
   ]
  },
  {
   "cell_type": "code",
   "execution_count": 4,
   "id": "2978c006",
   "metadata": {},
   "outputs": [],
   "source": [
    "def personalize_greeting(name):\n",
    "    print(f'hello {name}')"
   ]
  },
  {
   "cell_type": "code",
   "execution_count": 7,
   "id": "bd75c114",
   "metadata": {},
   "outputs": [
    {
     "name": "stdout",
     "output_type": "stream",
     "text": [
      "hello reza\n"
     ]
    }
   ],
   "source": [
    "name = input(\"enter your name: \")\n",
    "personalize_greeting(\"reza\")"
   ]
  },
  {
   "cell_type": "code",
   "execution_count": 15,
   "id": "973a4472",
   "metadata": {},
   "outputs": [],
   "source": [
    "PI = 3.14159\n",
    "def circle_area(radius):\n",
    "    area = PI * (radius ** 2)\n",
    "    return area"
   ]
  },
  {
   "cell_type": "code",
   "execution_count": 16,
   "id": "cae45884",
   "metadata": {},
   "outputs": [
    {
     "name": "stdout",
     "output_type": "stream",
     "text": [
      "the area of circle is 50.26544\n"
     ]
    }
   ],
   "source": [
    "result = circle_area(4)\n",
    "print(f'the area of circle is {result}')"
   ]
  },
  {
   "cell_type": "code",
   "execution_count": 17,
   "id": "7c42a89a",
   "metadata": {},
   "outputs": [],
   "source": [
    "def addetionsal(first_number, second_number):\n",
    "    return first_number + second_number"
   ]
  },
  {
   "cell_type": "code",
   "execution_count": 18,
   "id": "6946932f",
   "metadata": {},
   "outputs": [
    {
     "name": "stdout",
     "output_type": "stream",
     "text": [
      "resual is 9\n"
     ]
    }
   ],
   "source": [
    "print(f'resual is {addetionsal(4, 5)}')"
   ]
  },
  {
   "cell_type": "code",
   "execution_count": 42,
   "id": "bbe69f75",
   "metadata": {},
   "outputs": [],
   "source": [
    "def food_list():\n",
    "    foods = ['pizza', 'salad', 'soup']\n",
    "    print(\"menu:\")\n",
    "    for food in foods: \n",
    "        print(f'   {food}')"
   ]
  },
  {
   "cell_type": "code",
   "execution_count": 43,
   "id": "b0099b10",
   "metadata": {},
   "outputs": [
    {
     "name": "stdout",
     "output_type": "stream",
     "text": [
      "menu:\n",
      "   pizza\n",
      "   salad\n",
      "   soup\n"
     ]
    }
   ],
   "source": [
    "food_list()\n"
   ]
  },
  {
   "cell_type": "code",
   "execution_count": 44,
   "id": "ff08789e",
   "metadata": {},
   "outputs": [],
   "source": [
    "def min_max(numbers):\n",
    "    return min(numbers), max(numbers)"
   ]
  },
  {
   "cell_type": "code",
   "execution_count": 45,
   "id": "3a76d926",
   "metadata": {},
   "outputs": [
    {
     "name": "stdout",
     "output_type": "stream",
     "text": [
      "minimum : 2, maximum : 99\n"
     ]
    }
   ],
   "source": [
    "min_number, max_number = min_max([2, 4, 3, 5, 6, 7, 8, 9, 11, 99])\n",
    "print(f'minimum : {min_number}, maximum : {max_number}')"
   ]
  },
  {
   "cell_type": "code",
   "execution_count": 46,
   "id": "c26b1528",
   "metadata": {},
   "outputs": [],
   "source": [
    "def schedule_visit(section, time, activity='Feeding'):\n",
    "    print(f'the visitors meet the {section} at {time}, for {activity}')"
   ]
  },
  {
   "cell_type": "code",
   "execution_count": 47,
   "id": "94f32f0e",
   "metadata": {},
   "outputs": [
    {
     "name": "stdout",
     "output_type": "stream",
     "text": [
      "the visitors meet the Reptiles at 10:00AM, for Feeding\n"
     ]
    }
   ],
   "source": [
    "schedule_visit('Reptiles', '10:00AM')"
   ]
  },
  {
   "cell_type": "code",
   "execution_count": 50,
   "id": "3c7407a1",
   "metadata": {},
   "outputs": [
    {
     "name": "stdout",
     "output_type": "stream",
     "text": [
      "the visitors meet the Birds at 1:00PM, for educational talk\n"
     ]
    }
   ],
   "source": [
    "schedule_visit('Birds', '1:00PM', 'educational talk')\n"
   ]
  },
  {
   "cell_type": "code",
   "execution_count": 51,
   "id": "c02d8700",
   "metadata": {},
   "outputs": [],
   "source": [
    "def add_special_request (section, request=None):\n",
    "    if request:\n",
    "        print(f'spelcial request for the {section} section: {request}')\n",
    "    else:\n",
    "        print(f'no special requests have beeen made for the {section} section.')"
   ]
  },
  {
   "cell_type": "code",
   "execution_count": 52,
   "id": "fc512414",
   "metadata": {},
   "outputs": [
    {
     "name": "stdout",
     "output_type": "stream",
     "text": [
      "no special requests have beeen made for the reptiles section.\n"
     ]
    }
   ],
   "source": [
    "add_special_request('reptiles')"
   ]
  },
  {
   "cell_type": "code",
   "execution_count": null,
   "id": "67770ed1",
   "metadata": {},
   "outputs": [],
   "source": [
    "def celsius_to_fahrenheit(number):\n",
    "    if not (type(number) == int or type(number) == float):\n",
    "        print(\"your entired not integer\")\n",
    "    else:\n",
    "        return (number * (9/5) + 32)\n",
    "    \n",
    "def get_number():\n",
    "    number_recived = float(input('enter temper to convert farenhite: '))\n",
    "    return number_recived"
   ]
  },
  {
   "cell_type": "code",
   "execution_count": 91,
   "id": "45d118e4",
   "metadata": {},
   "outputs": [
    {
     "ename": "ValueError",
     "evalue": "invalid literal for int() with base 10: 'rr'",
     "output_type": "error",
     "traceback": [
      "\u001b[31m---------------------------------------------------------------------------\u001b[39m",
      "\u001b[31mValueError\u001b[39m                                Traceback (most recent call last)",
      "\u001b[36mCell\u001b[39m\u001b[36m \u001b[39m\u001b[32mIn[91]\u001b[39m\u001b[32m, line 1\u001b[39m\n\u001b[32m----> \u001b[39m\u001b[32m1\u001b[39m result = celsius_to_fahrenheit(get_number())\n\u001b[32m      2\u001b[39m \u001b[38;5;28mprint\u001b[39m(result)\n",
      "\u001b[36mCell\u001b[39m\u001b[36m \u001b[39m\u001b[32mIn[90]\u001b[39m\u001b[32m, line 2\u001b[39m, in \u001b[36mcelsius_to_fahrenheit\u001b[39m\u001b[34m(number)\u001b[39m\n\u001b[32m      1\u001b[39m \u001b[38;5;28;01mdef\u001b[39;00m\u001b[38;5;250m \u001b[39m\u001b[34mcelsius_to_fahrenheit\u001b[39m(number):\n\u001b[32m----> \u001b[39m\u001b[32m2\u001b[39m     \u001b[38;5;28;01mif\u001b[39;00m \u001b[38;5;129;01mnot\u001b[39;00m (\u001b[38;5;28mtype\u001b[39m(\u001b[38;5;28mint\u001b[39m(number)) == \u001b[38;5;28mint\u001b[39m \u001b[38;5;129;01mor\u001b[39;00m \u001b[38;5;28mtype\u001b[39m(\u001b[38;5;28mfloat\u001b[39m(number)) == \u001b[38;5;28mfloat\u001b[39m):\n\u001b[32m      3\u001b[39m         \u001b[38;5;28mprint\u001b[39m(\u001b[33m\"\u001b[39m\u001b[33myour entired not integer\u001b[39m\u001b[33m\"\u001b[39m)\n\u001b[32m      4\u001b[39m     \u001b[38;5;28;01melse\u001b[39;00m:\n",
      "\u001b[31mValueError\u001b[39m: invalid literal for int() with base 10: 'rr'"
     ]
    }
   ],
   "source": [
    "result = celsius_to_fahrenheit(get_number())\n",
    "print(result)"
   ]
  },
  {
   "cell_type": "code",
   "execution_count": null,
   "id": "435b4fe6",
   "metadata": {},
   "outputs": [
    {
     "data": {
      "text/plain": [
       "str"
      ]
     },
     "execution_count": 88,
     "metadata": {},
     "output_type": "execute_result"
    }
   ],
   "source": [
    "x = \"4\"\n",
    "x.is\n",
    "type(x)\n"
   ]
  },
  {
   "cell_type": "code",
   "execution_count": 92,
   "id": "2ff250f0",
   "metadata": {},
   "outputs": [
    {
     "data": {
      "text/plain": [
       "float"
      ]
     },
     "execution_count": 92,
     "metadata": {},
     "output_type": "execute_result"
    }
   ],
   "source": [
    "type(float(x))"
   ]
  },
  {
   "cell_type": "code",
   "execution_count": 94,
   "id": "a05d02e8",
   "metadata": {},
   "outputs": [],
   "source": [
    "def water_state(number_p):\n",
    "    if type(number_p) == int or type(number_p) == float:\n",
    "        if number_p < 0:\n",
    "            return \"solid\"\n",
    "        elif number_p <= 100 and number_p >= 0:\n",
    "            return \"liquid\"\n",
    "        else: \n",
    "            return 'gas'\n",
    "    print(\"your entierd is invalid\")"
   ]
  },
  {
   "cell_type": "code",
   "execution_count": 99,
   "id": "59f2c9cd",
   "metadata": {},
   "outputs": [
    {
     "name": "stdout",
     "output_type": "stream",
     "text": [
      "your entierd is invalid\n"
     ]
    }
   ],
   "source": [
    "water_state(\"ds\")"
   ]
  },
  {
   "cell_type": "code",
   "execution_count": null,
   "id": "294cf1ab",
   "metadata": {},
   "outputs": [],
   "source": []
  }
 ],
 "metadata": {
  "kernelspec": {
   "display_name": "python3.3",
   "language": "python",
   "name": "python3"
  },
  "language_info": {
   "codemirror_mode": {
    "name": "ipython",
    "version": 3
   },
   "file_extension": ".py",
   "mimetype": "text/x-python",
   "name": "python",
   "nbconvert_exporter": "python",
   "pygments_lexer": "ipython3",
   "version": "3.13.5"
  }
 },
 "nbformat": 4,
 "nbformat_minor": 5
}
