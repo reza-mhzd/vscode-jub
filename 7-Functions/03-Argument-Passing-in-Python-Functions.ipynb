{
 "cells": [
  {
   "cell_type": "code",
   "execution_count": 1,
   "id": "768e6e0e",
   "metadata": {},
   "outputs": [],
   "source": [
    "def create_invitation(name, age, date):\n",
    "    print(f'Dear {name}, you\\'re invited to a birthday party celebrating {age} years on {date}!')"
   ]
  },
  {
   "cell_type": "code",
   "execution_count": 2,
   "id": "43062066",
   "metadata": {},
   "outputs": [
    {
     "name": "stdout",
     "output_type": "stream",
     "text": [
      "Dear ali, you're invited to a birthday party celebrating 12 years on 2022.11.3!\n"
     ]
    }
   ],
   "source": [
    "create_invitation('ali', 12, '2022.11.3')"
   ]
  },
  {
   "cell_type": "code",
   "execution_count": null,
   "id": "3c729bb8",
   "metadata": {},
   "outputs": [],
   "source": [
    "def create_invitation(name, age, date):\n",
    "    print(F'Dear {name}, you\\'re invited to a bitthday party celcbrating {age} years on {date}!')"
   ]
  },
  {
   "cell_type": "code",
   "execution_count": 3,
   "id": "d96e4009",
   "metadata": {},
   "outputs": [
    {
     "name": "stdout",
     "output_type": "stream",
     "text": [
      "Dear reza, you're invited to a bitthday party celcbrating 23 years on july 10st!\n"
     ]
    }
   ],
   "source": [
    "create_invitation(\"reza\", 23, \"july 10st\")"
   ]
  },
  {
   "cell_type": "code",
   "execution_count": 3,
   "id": "6e74a312",
   "metadata": {},
   "outputs": [],
   "source": [
    "def print_purchase(book_title, author, price):\n",
    "    print(f'purchased book: {book_title} by {author} for ${price}')"
   ]
  },
  {
   "cell_type": "code",
   "execution_count": 8,
   "id": "d2e824cd",
   "metadata": {},
   "outputs": [
    {
     "name": "stdout",
     "output_type": "stream",
     "text": [
      "purchased book: the creat gatsby by f. scott fitzgerald for $12.99\n"
     ]
    }
   ],
   "source": [
    "print_purchase(book_title='the creat gatsby', price=12.99 ,author=\"f. scott fitzgerald\" )"
   ]
  },
  {
   "cell_type": "code",
   "execution_count": 9,
   "id": "60789a9b",
   "metadata": {},
   "outputs": [],
   "source": [
    "def create_profile(name, age, country='Unknown', language='English'):\n",
    "    print(f'name: {name}, Age: {age}, Country: {country}, Lnafuage: {language}')"
   ]
  },
  {
   "cell_type": "code",
   "execution_count": 13,
   "id": "ceea5931",
   "metadata": {},
   "outputs": [
    {
     "name": "stdout",
     "output_type": "stream",
     "text": [
      "name: ali, Age: 12, Country: IRAN, Lnafuage: persion\n"
     ]
    }
   ],
   "source": [
    "create_profile('ali', 12, language='persion', country='IRAN')"
   ]
  },
  {
   "cell_type": "code",
   "execution_count": 15,
   "id": "65d65db5",
   "metadata": {},
   "outputs": [
    {
     "name": "stdout",
     "output_type": "stream",
     "text": [
      "name: ali, Age: 25, Country: iran, Lnafuage: persion\n"
     ]
    }
   ],
   "source": [
    "create_profile('ali', 25, 'iran', 'persion')"
   ]
  },
  {
   "cell_type": "code",
   "execution_count": 17,
   "id": "890d7077",
   "metadata": {},
   "outputs": [],
   "source": [
    "def calcualte_area(length, width):\n",
    "    return length * width"
   ]
  },
  {
   "cell_type": "code",
   "execution_count": 19,
   "id": "50222000",
   "metadata": {},
   "outputs": [
    {
     "data": {
      "text/plain": [
       "200"
      ]
     },
     "execution_count": 19,
     "metadata": {},
     "output_type": "execute_result"
    }
   ],
   "source": [
    "area = calcualte_area(10, 20)\n",
    "area"
   ]
  },
  {
   "cell_type": "code",
   "execution_count": 40,
   "id": "654e6ceb",
   "metadata": {},
   "outputs": [],
   "source": [
    "def prepare_tea(type='green', sugar_level='', milk=True, temperture='warm', cup_size='medium'):\n",
    "    print(f'preparing a {temperture}, {cup_size} cup of {type} tea, {sugar_level} sugar, with{'out' if milk else ''} milk.')"
   ]
  },
  {
   "cell_type": "code",
   "execution_count": 41,
   "id": "6fa4cb23",
   "metadata": {},
   "outputs": [
    {
     "name": "stdout",
     "output_type": "stream",
     "text": [
      "preparing a warm, medium cup of green tea,  sugar, without milk.\n"
     ]
    }
   ],
   "source": [
    "prepare_tea()"
   ]
  },
  {
   "cell_type": "code",
   "execution_count": 38,
   "id": "d5431127",
   "metadata": {},
   "outputs": [
    {
     "name": "stdout",
     "output_type": "stream",
     "text": [
      "preparing a warm, large cup of black tea, no sugar, with  milk.\n"
     ]
    }
   ],
   "source": [
    "prepare_tea('black', 'no', False, 'warm', 'large')"
   ]
  }
 ],
 "metadata": {
  "kernelspec": {
   "display_name": "python3.3",
   "language": "python",
   "name": "python3"
  },
  "language_info": {
   "codemirror_mode": {
    "name": "ipython",
    "version": 3
   },
   "file_extension": ".py",
   "mimetype": "text/x-python",
   "name": "python",
   "nbconvert_exporter": "python",
   "pygments_lexer": "ipython3",
   "version": "3.13.5"
  }
 },
 "nbformat": 4,
 "nbformat_minor": 5
}
