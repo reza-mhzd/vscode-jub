{
 "cells": [
  {
   "cell_type": "code",
   "execution_count": 4,
   "id": "859efdf6",
   "metadata": {},
   "outputs": [
    {
     "name": "stdout",
     "output_type": "stream",
     "text": [
      "square of 3 is 9\n"
     ]
    }
   ],
   "source": [
    "get_number = lambda x : x ** 2\n",
    "print(f'square of 3 is {get_number(3)}')"
   ]
  },
  {
   "cell_type": "code",
   "execution_count": null,
   "id": "86e8edca",
   "metadata": {},
   "outputs": [],
   "source": [
    "multipel = lambda x, y: y * x\n",
    "multipel(2, 3)"
   ]
  },
  {
   "cell_type": "code",
   "execution_count": 11,
   "id": "bd0f6168",
   "metadata": {},
   "outputs": [
    {
     "name": "stdout",
     "output_type": "stream",
     "text": [
      "ages gerether than 18 is: [18, 21, 30, 45, 22, 61]\n"
     ]
    }
   ],
   "source": [
    "ages = [14, 18, 21, 16, 30, 45, 17, 22, 61]\n",
    "result = filter(lambda x: x >= 18, ages)\n",
    "print(f'ages gerether than 18 is: {list(result)}')"
   ]
  },
  {
   "cell_type": "code",
   "execution_count": 14,
   "id": "106f4940",
   "metadata": {},
   "outputs": [
    {
     "data": {
      "text/plain": [
       "[17.1, 89.1, 31.5, 45.0, 80.1, 89.1, 38.7, 67.5]"
      ]
     },
     "execution_count": 14,
     "metadata": {},
     "output_type": "execute_result"
    }
   ],
   "source": [
    "prices = [19, 99, 35, 50, 89, 99, 43, 75]\n",
    "result = map(lambda price : (price - (price * 0.1)), prices)\n",
    "list(result)"
   ]
  },
  {
   "cell_type": "code",
   "execution_count": 18,
   "id": "3d7feb17",
   "metadata": {},
   "outputs": [
    {
     "name": "stdout",
     "output_type": "stream",
     "text": [
      "[('banana', 0.5), ('date', 0.75), ('apple', 1.0), ('cherry', 1.5)]\n"
     ]
    }
   ],
   "source": [
    "products = [('apple', 1.0), ('banana', 0.5), ('cherry', 1.5), ('date', 0.75)]\n",
    "res = sorted(products, key=lambda product: product[1])\n",
    "print(list(res))"
   ]
  },
  {
   "cell_type": "code",
   "execution_count": 21,
   "id": "46a049e3",
   "metadata": {},
   "outputs": [],
   "source": [
    "books = [\n",
    "    {'title': 'Book A', 'year': 2002},\n",
    "    {'title': 'Book B', 'year': 1999},\n",
    "    {'title': 'Book C', 'year': 2010},\n",
    "    {'title': 'Book D', 'year': 1985}\n",
    "]"
   ]
  },
  {
   "cell_type": "code",
   "execution_count": 25,
   "id": "1bafe5fd",
   "metadata": {},
   "outputs": [
    {
     "name": "stdout",
     "output_type": "stream",
     "text": [
      "title and book: {'title': 'Book D', 'year': 1985}\n",
      "title and book: {'title': 'Book B', 'year': 1999}\n",
      "title and book: {'title': 'Book A', 'year': 2002}\n",
      "title and book: {'title': 'Book C', 'year': 2010}\n"
     ]
    }
   ],
   "source": [
    "res = sorted(books, key=lambda book: book['year'])\n",
    "for book in res:\n",
    "    print(f'title and book: {book}')"
   ]
  },
  {
   "cell_type": "code",
   "execution_count": 26,
   "id": "adf04d18",
   "metadata": {},
   "outputs": [],
   "source": [
    "text = \"The quick brown fox jumps over the lazy dog\"\n",
    "numbers_list = [8, 23, 45, 12, 78]\n",
    "mixed_list = [\"hello\", 10, \"world\", 42]"
   ]
  },
  {
   "cell_type": "code",
   "execution_count": 27,
   "id": "9bddd52e",
   "metadata": {},
   "outputs": [
    {
     "name": "stdout",
     "output_type": "stream",
     "text": [
      "number of charecture: 43\n"
     ]
    }
   ],
   "source": [
    "print(f'number of charecture: {len(text)}')"
   ]
  },
  {
   "cell_type": "code",
   "execution_count": 28,
   "id": "0067e03d",
   "metadata": {},
   "outputs": [
    {
     "name": "stdout",
     "output_type": "stream",
     "text": [
      "uppercase text : THE QUICK BROWN FOX JUMPS OVER THE LAZY DOG\n"
     ]
    }
   ],
   "source": [
    "print(f'uppercase text : {text.upper()}')"
   ]
  },
  {
   "cell_type": "code",
   "execution_count": 32,
   "id": "2b5a9c43",
   "metadata": {},
   "outputs": [
    {
     "name": "stdout",
     "output_type": "stream",
     "text": [
      "total nubmers: 166\n",
      "max of numbers: 78\n",
      "min of numbers: 8\n"
     ]
    }
   ],
   "source": [
    "total = sum(numbers_list)\n",
    "print(f'total nubmers: {total}')\n",
    "print(f'max of numbers: {max(numbers_list)}')\n",
    "print(f'min of numbers: {min(numbers_list)}')"
   ]
  },
  {
   "cell_type": "code",
   "execution_count": 33,
   "id": "e9b2a168",
   "metadata": {},
   "outputs": [
    {
     "name": "stdout",
     "output_type": "stream",
     "text": [
      "Occurrences of 10: 1\n",
      "sored numbers : [78, 45, 23, 12, 8]\n"
     ]
    }
   ],
   "source": [
    "print(f'Occurrences of 10: {mixed_list.count(10)}')\n",
    "print(f'sored numbers : {sorted(numbers_list, reverse=True)}')\n"
   ]
  },
  {
   "cell_type": "code",
   "execution_count": 40,
   "id": "0c47dd5e",
   "metadata": {},
   "outputs": [
    {
     "name": "stdout",
     "output_type": "stream",
     "text": [
      "['The', 'quick', 'brown', 'fox', 'jumps', 'over', 'the', 'lazy', 'dog']\n"
     ]
    }
   ],
   "source": [
    "print(text.split())"
   ]
  },
  {
   "cell_type": "code",
   "execution_count": null,
   "id": "649bb381",
   "metadata": {},
   "outputs": [],
   "source": []
  }
 ],
 "metadata": {
  "kernelspec": {
   "display_name": "python3.3",
   "language": "python",
   "name": "python3"
  },
  "language_info": {
   "codemirror_mode": {
    "name": "ipython",
    "version": 3
   },
   "file_extension": ".py",
   "mimetype": "text/x-python",
   "name": "python",
   "nbconvert_exporter": "python",
   "pygments_lexer": "ipython3",
   "version": "3.13.5"
  }
 },
 "nbformat": 4,
 "nbformat_minor": 5
}
