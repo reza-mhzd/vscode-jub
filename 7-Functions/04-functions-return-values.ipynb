{
 "cells": [
  {
   "cell_type": "code",
   "execution_count": 1,
   "id": "835c6cb8",
   "metadata": {},
   "outputs": [],
   "source": [
    "def find_book(title):\n",
    "    my_books = ['python basics', 'adavced python', 'data science with python']\n",
    "    if title in my_books:\n",
    "        return True\n",
    "    else: \n",
    "        return False"
   ]
  },
  {
   "cell_type": "code",
   "execution_count": 2,
   "id": "810d1eac",
   "metadata": {},
   "outputs": [
    {
     "name": "stdout",
     "output_type": "stream",
     "text": [
      "the book 'python basics' is on the shelf\n"
     ]
    }
   ],
   "source": [
    "book_title = 'python basics'\n",
    "if find_book(book_title):\n",
    "    print(f'the book \\'{book_title}\\' is on the shelf')\n",
    "else:\n",
    "    print(f'the book \\'{book_title}\\' is not in our collection.')"
   ]
  },
  {
   "cell_type": "code",
   "execution_count": 3,
   "id": "39c2bf31",
   "metadata": {},
   "outputs": [],
   "source": [
    "def get_greeting(name):\n",
    "    return f'Hello, {name}!'"
   ]
  },
  {
   "cell_type": "code",
   "execution_count": 5,
   "id": "7e685439",
   "metadata": {},
   "outputs": [
    {
     "data": {
      "text/plain": [
       "'Hello, john!'"
      ]
     },
     "execution_count": 5,
     "metadata": {},
     "output_type": "execute_result"
    }
   ],
   "source": [
    "greeting = get_greeting(\"john\")\n",
    "greeting"
   ]
  },
  {
   "cell_type": "code",
   "execution_count": 6,
   "id": "1e8b03a3",
   "metadata": {},
   "outputs": [],
   "source": [
    "def add_number(a, b):\n",
    "    return a+b"
   ]
  },
  {
   "cell_type": "code",
   "execution_count": 8,
   "id": "f1258871",
   "metadata": {},
   "outputs": [
    {
     "name": "stdout",
     "output_type": "stream",
     "text": [
      "8\n"
     ]
    }
   ],
   "source": [
    "sum_re = add_number(3, 5)\n",
    "print(sum_re)"
   ]
  },
  {
   "cell_type": "code",
   "execution_count": 32,
   "id": "36a07144",
   "metadata": {},
   "outputs": [],
   "source": [
    "def get_first_last_name(name):\n",
    "    first_name, last_name = name.split(' ')\n",
    "    return first_name, last_name"
   ]
  },
  {
   "cell_type": "code",
   "execution_count": 33,
   "id": "5015ee84",
   "metadata": {},
   "outputs": [
    {
     "data": {
      "text/plain": [
       "('jane', 'doe')"
      ]
     },
     "execution_count": 33,
     "metadata": {},
     "output_type": "execute_result"
    }
   ],
   "source": [
    "first, last = get_first_last_name('jane doe')\n",
    "first, last"
   ]
  },
  {
   "cell_type": "code",
   "execution_count": 34,
   "id": "0e02049b",
   "metadata": {},
   "outputs": [],
   "source": [
    "def arithmetic_operations(a, b):\n",
    "    return a+b , a-b, a*b, a/b"
   ]
  },
  {
   "cell_type": "code",
   "execution_count": 37,
   "id": "ba3a057a",
   "metadata": {},
   "outputs": [
    {
     "name": "stdout",
     "output_type": "stream",
     "text": [
      "Add: 12, Subtract: 8, Multiply: 20, Divide: 5.0\n"
     ]
    }
   ],
   "source": [
    "add,  subtract, multiply, divide = arithmetic_operations(10, 2)\n",
    "print(f\"Add: {add}, Subtract: {subtract}, Multiply: {multiply}, Divide: {divide}\")"
   ]
  },
  {
   "cell_type": "code",
   "execution_count": 39,
   "id": "71ce6b4e",
   "metadata": {},
   "outputs": [
    {
     "name": "stdout",
     "output_type": "stream",
     "text": [
      "hello, world\n"
     ]
    }
   ],
   "source": [
    "def return_hello():\n",
    "    return \"hello, world\"\n",
    "\n",
    "greeting = return_hello()\n",
    "print(greeting)"
   ]
  },
  {
   "cell_type": "code",
   "execution_count": 40,
   "id": "3ea52dd5",
   "metadata": {},
   "outputs": [],
   "source": [
    "def calssify_age(age):\n",
    "    if age < 13:\n",
    "        return 'child'\n",
    "    elif age < 20:\n",
    "        return 'teenager'\n",
    "    elif age < 60: \n",
    "        return 'adult'\n",
    "    else:\n",
    "        return 'senior'"
   ]
  },
  {
   "cell_type": "code",
   "execution_count": 41,
   "id": "dcd96b86",
   "metadata": {},
   "outputs": [
    {
     "data": {
      "text/plain": [
       "'senior'"
      ]
     },
     "execution_count": 41,
     "metadata": {},
     "output_type": "execute_result"
    }
   ],
   "source": [
    "calssify_age(434)"
   ]
  },
  {
   "cell_type": "code",
   "execution_count": 42,
   "id": "14a9fe3d",
   "metadata": {},
   "outputs": [
    {
     "data": {
      "text/plain": [
       "'adult'"
      ]
     },
     "execution_count": 42,
     "metadata": {},
     "output_type": "execute_result"
    }
   ],
   "source": [
    "calssify_age(44)"
   ]
  },
  {
   "cell_type": "code",
   "execution_count": 43,
   "id": "9faa43d7",
   "metadata": {},
   "outputs": [
    {
     "data": {
      "text/plain": [
       "'child'"
      ]
     },
     "execution_count": 43,
     "metadata": {},
     "output_type": "execute_result"
    }
   ],
   "source": [
    "calssify_age(12)"
   ]
  },
  {
   "cell_type": "code",
   "execution_count": 46,
   "id": "80379d86",
   "metadata": {},
   "outputs": [],
   "source": [
    "def add(a, b):\n",
    "    print(a + b)"
   ]
  },
  {
   "cell_type": "code",
   "execution_count": 47,
   "id": "2174cf78",
   "metadata": {},
   "outputs": [
    {
     "name": "stdout",
     "output_type": "stream",
     "text": [
      "9\n"
     ]
    }
   ],
   "source": [
    "result = add(4, 5)"
   ]
  },
  {
   "cell_type": "code",
   "execution_count": 49,
   "id": "30697290",
   "metadata": {},
   "outputs": [
    {
     "name": "stdout",
     "output_type": "stream",
     "text": [
      "None\n"
     ]
    }
   ],
   "source": [
    "print(result)"
   ]
  },
  {
   "cell_type": "code",
   "execution_count": 51,
   "id": "b9c451b0",
   "metadata": {},
   "outputs": [],
   "source": [
    "def process_user_input(input):\n",
    "    if not input:\n",
    "        return 'no input'\n",
    "    if input == 'eixt':\n",
    "        return 'exiting'\n",
    "    return 'input receiverd'"
   ]
  },
  {
   "cell_type": "code",
   "execution_count": 53,
   "id": "655a88c8",
   "metadata": {},
   "outputs": [
    {
     "data": {
      "text/plain": [
       "True"
      ]
     },
     "execution_count": 53,
     "metadata": {},
     "output_type": "execute_result"
    }
   ],
   "source": [
    "s = 4\n",
    "bool(s)"
   ]
  },
  {
   "cell_type": "code",
   "execution_count": 54,
   "id": "9aacd977",
   "metadata": {},
   "outputs": [
    {
     "data": {
      "text/plain": [
       "False"
      ]
     },
     "execution_count": 54,
     "metadata": {},
     "output_type": "execute_result"
    }
   ],
   "source": [
    "bool(not s)"
   ]
  },
  {
   "cell_type": "code",
   "execution_count": null,
   "id": "01e7e72b",
   "metadata": {},
   "outputs": [],
   "source": []
  }
 ],
 "metadata": {
  "kernelspec": {
   "display_name": "python3.3",
   "language": "python",
   "name": "python3"
  },
  "language_info": {
   "codemirror_mode": {
    "name": "ipython",
    "version": 3
   },
   "file_extension": ".py",
   "mimetype": "text/x-python",
   "name": "python",
   "nbconvert_exporter": "python",
   "pygments_lexer": "ipython3",
   "version": "3.13.5"
  }
 },
 "nbformat": 4,
 "nbformat_minor": 5
}
