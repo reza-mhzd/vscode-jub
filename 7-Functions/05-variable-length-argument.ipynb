{
 "cells": [
  {
   "cell_type": "code",
   "execution_count": 10,
   "id": "1c72fd7a",
   "metadata": {},
   "outputs": [],
   "source": [
    "def calculate_average(*scores): \n",
    "    print(type(scores))\n",
    "    if scores:\n",
    "        return sum(scores) / len(scores)\n",
    "    else:\n",
    "        return 0"
   ]
  },
  {
   "cell_type": "code",
   "execution_count": 12,
   "id": "7cc36c96",
   "metadata": {},
   "outputs": [
    {
     "name": "stdout",
     "output_type": "stream",
     "text": [
      "<class 'tuple'>\n",
      "<class 'float'>\n"
     ]
    }
   ],
   "source": [
    "score_list = [2, 3, 4, 5, 6, 7, 8, 8]\n",
    "res = calculate_average(*score_list)\n",
    "print(type(res))"
   ]
  },
  {
   "cell_type": "code",
   "execution_count": null,
   "id": "28a37fe4",
   "metadata": {},
   "outputs": [],
   "source": [
    "def concatenate_string(seprate, *args):\n",
    "    return seprate.join(args)\n",
    "\n",
    "concatenate_string('-', '2023', '04', '21')"
   ]
  },
  {
   "cell_type": "code",
   "execution_count": 19,
   "id": "43060494",
   "metadata": {},
   "outputs": [],
   "source": [
    "def print_book_info(title, author, year):\n",
    "    print(f'title: {title}, author: {author}, year: {year}')"
   ]
  },
  {
   "cell_type": "code",
   "execution_count": 20,
   "id": "839037f1",
   "metadata": {},
   "outputs": [],
   "source": [
    "book_details = ('The Great Gatsby', 'F. Scott Fitzgerald', 1925)"
   ]
  },
  {
   "cell_type": "code",
   "execution_count": 21,
   "id": "32f912c4",
   "metadata": {},
   "outputs": [
    {
     "name": "stdout",
     "output_type": "stream",
     "text": [
      "title: The Great Gatsby, author: F. Scott Fitzgerald, year: 1925\n"
     ]
    }
   ],
   "source": [
    "print_book_info(*book_details)"
   ]
  },
  {
   "cell_type": "code",
   "execution_count": 24,
   "id": "95a6b591",
   "metadata": {},
   "outputs": [
    {
     "name": "stdout",
     "output_type": "stream",
     "text": [
      "[2, 3, 4, 5, 6, 7, 8, 8]\n"
     ]
    }
   ],
   "source": [
    "print(score_list)"
   ]
  },
  {
   "cell_type": "code",
   "execution_count": 25,
   "id": "cfb48ec9",
   "metadata": {},
   "outputs": [],
   "source": [
    "book_set = {'1984', 'george orwell', '1949'}"
   ]
  },
  {
   "cell_type": "code",
   "execution_count": 27,
   "id": "0deeea0c",
   "metadata": {},
   "outputs": [
    {
     "name": "stdout",
     "output_type": "stream",
     "text": [
      "title: 1984, author: george orwell, year: 1949\n"
     ]
    }
   ],
   "source": [
    "print_book_info(*book_set)"
   ]
  },
  {
   "cell_type": "code",
   "execution_count": 28,
   "id": "81565987",
   "metadata": {},
   "outputs": [],
   "source": [
    "def print_authors(*authors):\n",
    "    for author in authors:\n",
    "        print(author)"
   ]
  },
  {
   "cell_type": "code",
   "execution_count": 29,
   "id": "9d5fdc32",
   "metadata": {},
   "outputs": [],
   "source": [
    "author_list = ['reza', 'mina', 'sara', 'mohammad', 'rogaye', 'zahra', 'ali', 'sanaz']"
   ]
  },
  {
   "cell_type": "code",
   "execution_count": 30,
   "id": "21d17fc3",
   "metadata": {},
   "outputs": [
    {
     "name": "stdout",
     "output_type": "stream",
     "text": [
      "['reza', 'mina', 'sara', 'mohammad', 'rogaye', 'zahra', 'ali', 'sanaz']\n"
     ]
    }
   ],
   "source": [
    "print_authors(author_list)"
   ]
  },
  {
   "cell_type": "code",
   "execution_count": 31,
   "id": "85631b10",
   "metadata": {},
   "outputs": [],
   "source": [
    "def introduce_yourself(**kwargs):\n",
    "    for key, word in kwargs.items():\n",
    "        print(f'{key}: {word}')"
   ]
  },
  {
   "cell_type": "code",
   "execution_count": 35,
   "id": "e669e252",
   "metadata": {},
   "outputs": [
    {
     "name": "stdout",
     "output_type": "stream",
     "text": [
      "ali: 13\n",
      "sara: 54\n",
      "mina: 88\n"
     ]
    }
   ],
   "source": [
    "pak_dict = {'ali': 13, 'sara': 54, 'mina':88}\n",
    "introduce_yourself(**pak_dict)"
   ]
  },
  {
   "cell_type": "code",
   "execution_count": 36,
   "id": "efa31704",
   "metadata": {},
   "outputs": [
    {
     "name": "stdout",
     "output_type": "stream",
     "text": [
      "name: alice\n",
      "age: 14\n",
      "profession: engineer\n"
     ]
    }
   ],
   "source": [
    "introduce_yourself(name='alice', age=14, profession=\"engineer\")"
   ]
  },
  {
   "cell_type": "code",
   "execution_count": 1,
   "id": "d48684c7",
   "metadata": {},
   "outputs": [],
   "source": [
    "def create_profile(name, age, **kwargs):\n",
    "    print(f'profile: {name}, age: {age}')\n",
    "    for detail, value in kwargs.items():\n",
    "        print(f'{detail}: {value}')"
   ]
  },
  {
   "cell_type": "code",
   "execution_count": 5,
   "id": "63225fec",
   "metadata": {},
   "outputs": [
    {
     "name": "stdout",
     "output_type": "stream",
     "text": [
      "profile: reza, age: 19\n",
      "jobs: emplooy\n",
      "last_name: mohammdizadeh\n",
      "city: ardabil\n"
     ]
    }
   ],
   "source": [
    "create_profile('reza', 19, **{'jobs': 'emplooy', 'last_name': 'mohammdizadeh', 'city': 'ardabil'})"
   ]
  },
  {
   "cell_type": "code",
   "execution_count": 8,
   "id": "d8d13d9c",
   "metadata": {},
   "outputs": [
    {
     "name": "stdout",
     "output_type": "stream",
     "text": [
      "profile: mina, age: 30\n",
      "job: studnet\n",
      "city: tehran\n",
      "last_name: mohammadi\n"
     ]
    }
   ],
   "source": [
    "create_profile('mina', 30, job='studnet', city='tehran', last_name=\"mohammadi\")"
   ]
  },
  {
   "cell_type": "code",
   "execution_count": 9,
   "id": "9b3a8407",
   "metadata": {},
   "outputs": [],
   "source": [
    "def infrmation_display(name, age, profession):\n",
    "    print(f'name: {name}, age: {age}, profession: {profession}')"
   ]
  },
  {
   "cell_type": "code",
   "execution_count": 12,
   "id": "9b18e8cb",
   "metadata": {},
   "outputs": [],
   "source": [
    "preson_info = {'name': 'ali', 'age': 44, 'profession': 'engineer'}"
   ]
  },
  {
   "cell_type": "code",
   "execution_count": 13,
   "id": "55c748c9",
   "metadata": {},
   "outputs": [
    {
     "name": "stdout",
     "output_type": "stream",
     "text": [
      "name: ali, age: 44, profession: engineer\n"
     ]
    }
   ],
   "source": [
    "infrmation_display(**preson_info)"
   ]
  },
  {
   "cell_type": "code",
   "execution_count": 15,
   "id": "abb9bd66",
   "metadata": {},
   "outputs": [],
   "source": [
    "def configure_app(**settings):\n",
    "    for setting, value in settings.items():\n",
    "        print(f'setting {setting} to {value}')"
   ]
  },
  {
   "cell_type": "code",
   "execution_count": 16,
   "id": "33ecea8d",
   "metadata": {},
   "outputs": [],
   "source": [
    "app_settings = {'theme': 'dark', 'notifications_enabled': True, 'version': '1.0.4'}"
   ]
  },
  {
   "cell_type": "code",
   "execution_count": 17,
   "id": "e9943caa",
   "metadata": {},
   "outputs": [
    {
     "name": "stdout",
     "output_type": "stream",
     "text": [
      "setting theme to dark\n",
      "setting notifications_enabled to True\n",
      "setting version to 1.0.4\n"
     ]
    }
   ],
   "source": [
    "configure_app(**app_settings)"
   ]
  },
  {
   "cell_type": "code",
   "execution_count": 1,
   "id": "f9bef065",
   "metadata": {},
   "outputs": [],
   "source": [
    "def plan_session(*topic_list):\n",
    "    print('topic')\n",
    "    for index, topic in enumerate(topic_list, start=1):\n",
    "        print(f' {index} : {topic}')"
   ]
  },
  {
   "cell_type": "code",
   "execution_count": 2,
   "id": "d25babfd",
   "metadata": {},
   "outputs": [
    {
     "name": "stdout",
     "output_type": "stream",
     "text": [
      "topic\n",
      " 1 : farari\n",
      " 2 : doshman\n",
      " 3 : kijo\n",
      " 4 : nine\n"
     ]
    }
   ],
   "source": [
    "t_list = ['farari', 'doshman', 'kijo', 'nine']\n",
    "plan_session(*t_list)"
   ]
  },
  {
   "cell_type": "code",
   "execution_count": 12,
   "id": "b81ba8f3",
   "metadata": {},
   "outputs": [],
   "source": [
    "def session_details(**personal_arge):\n",
    "    for key, value in personal_arge.items():\n",
    "        print(f'{key} : {value}')"
   ]
  },
  {
   "cell_type": "code",
   "execution_count": 13,
   "id": "6626104e",
   "metadata": {},
   "outputs": [
    {
     "name": "stdout",
     "output_type": "stream",
     "text": [
      "name_meet : forii\n",
      "number_persent : 13\n",
      "time : 12:30\n"
     ]
    }
   ],
   "source": [
    "session_details(name_meet=\"forii\", number_persent=13, time='12:30')"
   ]
  },
  {
   "cell_type": "code",
   "execution_count": 15,
   "id": "317363d8",
   "metadata": {},
   "outputs": [
    {
     "name": "stdout",
     "output_type": "stream",
     "text": [
      "topic\n",
      " 1 : python basic\n",
      " 2 : data ytpes fundamentals\n",
      " 3 : functinos\n"
     ]
    }
   ],
   "source": [
    "web_dev_topics = (\"python basic\", \"data ytpes fundamentals\", \"functinos\")\n",
    "plan_session(*web_dev_topics)"
   ]
  },
  {
   "cell_type": "code",
   "execution_count": 17,
   "id": "1bda5695",
   "metadata": {},
   "outputs": [],
   "source": [
    "web_dev_topics = {\n",
    "    'name': 'web development basics',\n",
    "    'attendees': 40,\n",
    "    'room': 105\n",
    "}"
   ]
  },
  {
   "cell_type": "code",
   "execution_count": 18,
   "id": "5f88249e",
   "metadata": {},
   "outputs": [
    {
     "name": "stdout",
     "output_type": "stream",
     "text": [
      "name : web development basics\n",
      "attendees : 40\n",
      "room : 105\n"
     ]
    }
   ],
   "source": [
    "session_details(**web_dev_topics)"
   ]
  },
  {
   "cell_type": "code",
   "execution_count": null,
   "id": "6cb5d6ca",
   "metadata": {},
   "outputs": [],
   "source": []
  }
 ],
 "metadata": {
  "kernelspec": {
   "display_name": "python3.3",
   "language": "python",
   "name": "python3"
  },
  "language_info": {
   "codemirror_mode": {
    "name": "ipython",
    "version": 3
   },
   "file_extension": ".py",
   "mimetype": "text/x-python",
   "name": "python",
   "nbconvert_exporter": "python",
   "pygments_lexer": "ipython3",
   "version": "3.13.5"
  }
 },
 "nbformat": 4,
 "nbformat_minor": 5
}
