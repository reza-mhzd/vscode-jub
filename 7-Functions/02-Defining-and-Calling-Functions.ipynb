{
 "cells": [
  {
   "cell_type": "code",
   "execution_count": 1,
   "id": "67bcedb7",
   "metadata": {},
   "outputs": [],
   "source": [
    "def greet():\n",
    "    print(\"hello, user!\")"
   ]
  },
  {
   "cell_type": "code",
   "execution_count": 2,
   "id": "d026823a",
   "metadata": {},
   "outputs": [
    {
     "name": "stdout",
     "output_type": "stream",
     "text": [
      "hello, user!\n"
     ]
    }
   ],
   "source": [
    "greet()"
   ]
  },
  {
   "cell_type": "code",
   "execution_count": 4,
   "id": "9d5007e9",
   "metadata": {},
   "outputs": [
    {
     "name": "stdout",
     "output_type": "stream",
     "text": [
      "hello, user!\n"
     ]
    }
   ],
   "source": [
    "greet()"
   ]
  },
  {
   "cell_type": "code",
   "execution_count": 6,
   "id": "0d7eaf74",
   "metadata": {},
   "outputs": [],
   "source": [
    "def add_number(a, b):\n",
    "    \"\"\"Add tow numbers and return the result.\"\"\"\n",
    "    result = a + b\n",
    "    return result"
   ]
  },
  {
   "cell_type": "code",
   "execution_count": 8,
   "id": "411541db",
   "metadata": {},
   "outputs": [
    {
     "data": {
      "text/plain": [
       "7"
      ]
     },
     "execution_count": 8,
     "metadata": {},
     "output_type": "execute_result"
    }
   ],
   "source": [
    "add_number(3, 4)"
   ]
  },
  {
   "cell_type": "code",
   "execution_count": 1,
   "id": "9bd02524",
   "metadata": {},
   "outputs": [],
   "source": [
    "def multipely_number(x, y):\n",
    "    \"\"\"multiply tow number and return the result.\"\"\"\n",
    "    result = x * y\n",
    "    return result"
   ]
  },
  {
   "cell_type": "code",
   "execution_count": 3,
   "id": "07c9fe08",
   "metadata": {},
   "outputs": [
    {
     "data": {
      "text/plain": [
       "30"
      ]
     },
     "execution_count": 3,
     "metadata": {},
     "output_type": "execute_result"
    }
   ],
   "source": [
    "number_one = 3\n",
    "number_tow = 10\n",
    "multipely_number(number_one, number_tow)"
   ]
  },
  {
   "cell_type": "code",
   "execution_count": 4,
   "id": "c1f2e4e3",
   "metadata": {},
   "outputs": [],
   "source": [
    "def calculate_area(width, height):\n",
    "    \"\"\"calculate the area of a rectangle.\"\"\"\n",
    "    area = width * height\n",
    "    return area"
   ]
  },
  {
   "cell_type": "code",
   "execution_count": 6,
   "id": "16194642",
   "metadata": {},
   "outputs": [
    {
     "name": "stdout",
     "output_type": "stream",
     "text": [
      "50\n"
     ]
    }
   ],
   "source": [
    "rect_area = calculate_area(10, 5)\n",
    "print(rect_area)"
   ]
  },
  {
   "cell_type": "code",
   "execution_count": 10,
   "id": "6006462a",
   "metadata": {},
   "outputs": [
    {
     "name": "stdout",
     "output_type": "stream",
     "text": [
      "Help on function calculate_area in module __main__:\n",
      "\n",
      "calculate_area(width, height)\n",
      "    calculate the area of a rectangle.\n",
      "\n"
     ]
    }
   ],
   "source": [
    "help(calculate_area)"
   ]
  },
  {
   "cell_type": "code",
   "execution_count": 11,
   "id": "0743baaf",
   "metadata": {},
   "outputs": [],
   "source": [
    "def print_welcome_message(username):\n",
    "    \"\"\"print a welcome message to the user.\"\"\"\n",
    "    print(f'welcome, {username}')"
   ]
  },
  {
   "cell_type": "code",
   "execution_count": 13,
   "id": "2221f19f",
   "metadata": {},
   "outputs": [
    {
     "name": "stdout",
     "output_type": "stream",
     "text": [
      "welcome, reza\n",
      "welcome, None\n"
     ]
    }
   ],
   "source": [
    "result = print_welcome_message(input(\"enter your name: \"))\n",
    "print_welcome_message(result)"
   ]
  },
  {
   "cell_type": "code",
   "execution_count": null,
   "id": "be326881",
   "metadata": {},
   "outputs": [],
   "source": []
  }
 ],
 "metadata": {
  "kernelspec": {
   "display_name": "python3.3",
   "language": "python",
   "name": "python3"
  },
  "language_info": {
   "codemirror_mode": {
    "name": "ipython",
    "version": 3
   },
   "file_extension": ".py",
   "mimetype": "text/x-python",
   "name": "python",
   "nbconvert_exporter": "python",
   "pygments_lexer": "ipython3",
   "version": "3.13.5"
  }
 },
 "nbformat": 4,
 "nbformat_minor": 5
}
