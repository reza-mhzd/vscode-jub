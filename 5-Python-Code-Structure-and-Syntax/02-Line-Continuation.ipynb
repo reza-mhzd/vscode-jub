{
 "cells": [
  {
   "cell_type": "code",
   "execution_count": 5,
   "id": "8bacee3d",
   "metadata": {},
   "outputs": [],
   "source": [
    "person1_age = 43\n",
    "person2_age = 18\n",
    "person3_age = 71"
   ]
  },
  {
   "cell_type": "code",
   "execution_count": 10,
   "id": "81c05fc4",
   "metadata": {},
   "outputs": [],
   "source": [
    "soemone = {\n",
    "    (person1_age >= 18 and person1_age <= 65) or\n",
    "    (person2_age >= 18 and person2_age <= 65) or\n",
    "    (person3_age >= 18 and person3_age <= 65)\n",
    "}"
   ]
  },
  {
   "cell_type": "code",
   "execution_count": 11,
   "id": "0ad095a3",
   "metadata": {},
   "outputs": [
    {
     "data": {
      "text/plain": [
       "{True}"
      ]
     },
     "execution_count": 11,
     "metadata": {},
     "output_type": "execute_result"
    }
   ],
   "source": [
    "soemone"
   ]
  },
  {
   "cell_type": "code",
   "execution_count": 12,
   "id": "2eaee74a",
   "metadata": {},
   "outputs": [],
   "source": [
    "grid = [\n",
    "    [1, 2, 3],\n",
    "    [4, 5, 6],\n",
    "    [7, 8, 9]\n",
    "]"
   ]
  },
  {
   "cell_type": "code",
   "execution_count": 14,
   "id": "f5411f49",
   "metadata": {},
   "outputs": [
    {
     "name": "stdout",
     "output_type": "stream",
     "text": [
      "[[1, 2, 3], [4, 5, 6], [7, 8, 9]]\n"
     ]
    }
   ],
   "source": [
    "print(grid)"
   ]
  },
  {
   "cell_type": "code",
   "execution_count": 15,
   "id": "42406a0a",
   "metadata": {},
   "outputs": [],
   "source": [
    "# Nested data structures with implicit line continuation\n",
    "complex_structure = [\n",
    "    {\n",
    "        'key1': ['value1', 'value2'],\n",
    "        'key2': ['value3', 'value4']\n",
    "    },\n",
    "    [\n",
    "        ('tuple1_element1', 'tuple1_element2'),\n",
    "        ('tuple2_element1', 'tuple2_element2')\n",
    "    ]\n",
    "]"
   ]
  },
  {
   "cell_type": "code",
   "execution_count": 16,
   "id": "1c13f515",
   "metadata": {},
   "outputs": [
    {
     "name": "stdout",
     "output_type": "stream",
     "text": [
      "{'key1': ['value1', 'value2'], 'key2': ['value3', 'value4']}\n"
     ]
    }
   ],
   "source": [
    "print(complex_structure[0])"
   ]
  },
  {
   "cell_type": "code",
   "execution_count": 17,
   "id": "1246efe6",
   "metadata": {},
   "outputs": [
    {
     "data": {
      "text/plain": [
       "['value1', 'value2']"
      ]
     },
     "execution_count": 17,
     "metadata": {},
     "output_type": "execute_result"
    }
   ],
   "source": [
    "complex_structure[0]['key1']"
   ]
  },
  {
   "cell_type": "code",
   "execution_count": null,
   "id": "c05ce4e7",
   "metadata": {},
   "outputs": [],
   "source": []
  }
 ],
 "metadata": {
  "kernelspec": {
   "display_name": "python3.3",
   "language": "python",
   "name": "python3"
  },
  "language_info": {
   "codemirror_mode": {
    "name": "ipython",
    "version": 3
   },
   "file_extension": ".py",
   "mimetype": "text/x-python",
   "name": "python",
   "nbconvert_exporter": "python",
   "pygments_lexer": "ipython3",
   "version": "3.13.5"
  }
 },
 "nbformat": 4,
 "nbformat_minor": 5
}
