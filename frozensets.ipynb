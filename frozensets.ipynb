{
 "cells": [
  {
   "cell_type": "code",
   "execution_count": 3,
   "id": "ea3dda2d",
   "metadata": {},
   "outputs": [
    {
     "data": {
      "text/plain": [
       "{(1, 2, 3), 1, 2, 3}"
      ]
     },
     "execution_count": 3,
     "metadata": {},
     "output_type": "execute_result"
    }
   ],
   "source": [
    "{1, 2, 3, (1, 2, 3)}"
   ]
  },
  {
   "cell_type": "code",
   "execution_count": 5,
   "id": "17412879",
   "metadata": {},
   "outputs": [
    {
     "name": "stdout",
     "output_type": "stream",
     "text": [
      "frozenset()\n"
     ]
    }
   ],
   "source": [
    "empty_frozen_set = frozenset()\n",
    "print(empty_frozen_set)"
   ]
  },
  {
   "cell_type": "code",
   "execution_count": 7,
   "id": "f82557ef",
   "metadata": {},
   "outputs": [
    {
     "data": {
      "text/plain": [
       "frozenset({1, 2, 3, 4})"
      ]
     },
     "execution_count": 7,
     "metadata": {},
     "output_type": "execute_result"
    }
   ],
   "source": [
    "frozenset((1, 2, 3, 4))"
   ]
  },
  {
   "cell_type": "code",
   "execution_count": 8,
   "id": "c4852f66",
   "metadata": {},
   "outputs": [
    {
     "data": {
      "text/plain": [
       "frozenset({1, 4, 5, 6, 7})"
      ]
     },
     "execution_count": 8,
     "metadata": {},
     "output_type": "execute_result"
    }
   ],
   "source": [
    "frozenset([4, 5, 6, 7, 1])"
   ]
  },
  {
   "cell_type": "code",
   "execution_count": 10,
   "id": "2a2b3f57",
   "metadata": {},
   "outputs": [
    {
     "data": {
      "text/plain": [
       "frozenset({'ali', 'mina', 'sara'})"
      ]
     },
     "execution_count": 10,
     "metadata": {},
     "output_type": "execute_result"
    }
   ],
   "source": [
    "frozenset({1: 'ali', 2: 'sara', 3: 'mina'}.values())"
   ]
  },
  {
   "cell_type": "code",
   "execution_count": 11,
   "id": "fe2c740b",
   "metadata": {},
   "outputs": [
    {
     "data": {
      "text/plain": [
       "frozenset({'e', 'h', 'l', 'o'})"
      ]
     },
     "execution_count": 11,
     "metadata": {},
     "output_type": "execute_result"
    }
   ],
   "source": [
    "frozenset('hello')"
   ]
  },
  {
   "cell_type": "code",
   "execution_count": 13,
   "id": "710184fc",
   "metadata": {},
   "outputs": [
    {
     "data": {
      "text/plain": [
       "frozenset({2, 3, 4, 5})"
      ]
     },
     "execution_count": 13,
     "metadata": {},
     "output_type": "execute_result"
    }
   ],
   "source": [
    "frozenset({2, 3, 4, 5})"
   ]
  },
  {
   "cell_type": "code",
   "execution_count": 17,
   "id": "389f53e3",
   "metadata": {},
   "outputs": [
    {
     "name": "stdout",
     "output_type": "stream",
     "text": [
      "<class 'set'>\n"
     ]
    },
    {
     "data": {
      "text/plain": [
       "set"
      ]
     },
     "execution_count": 17,
     "metadata": {},
     "output_type": "execute_result"
    }
   ],
   "source": [
    "set_or_frozenset = {1, 2, 4, 6}\n",
    "print(type(set_or_frozenset))\n",
    "type(set_or_frozenset)"
   ]
  },
  {
   "cell_type": "code",
   "execution_count": 19,
   "id": "7ad9d60f",
   "metadata": {},
   "outputs": [
    {
     "data": {
      "text/plain": [
       "frozenset({1, 2, 3, 4, 5, 6, 45, 65})"
      ]
     },
     "execution_count": 19,
     "metadata": {},
     "output_type": "execute_result"
    }
   ],
   "source": [
    "frozenset([1, 2, 3, 4, 5, 6, 6, 6, 65, 4, 4, 4, 45, ])"
   ]
  },
  {
   "cell_type": "code",
   "execution_count": 22,
   "id": "2bc38bf2",
   "metadata": {},
   "outputs": [
    {
     "data": {
      "text/plain": [
       "frozenset({1, 2, 3, 4, 5, 6})"
      ]
     },
     "execution_count": 22,
     "metadata": {},
     "output_type": "execute_result"
    }
   ],
   "source": [
    "imutable_set = frozenset([1, 2, 3, 4, 5,6 ,5, 4, 4, 2,2,2, 2,2])\n",
    "imutable_set"
   ]
  },
  {
   "cell_type": "code",
   "execution_count": 24,
   "id": "5d129b3b",
   "metadata": {},
   "outputs": [
    {
     "ename": "AttributeError",
     "evalue": "'frozenset' object has no attribute 'add'",
     "output_type": "error",
     "traceback": [
      "\u001b[31m---------------------------------------------------------------------------\u001b[39m",
      "\u001b[31mAttributeError\u001b[39m                            Traceback (most recent call last)",
      "\u001b[36mCell\u001b[39m\u001b[36m \u001b[39m\u001b[32mIn[24]\u001b[39m\u001b[32m, line 1\u001b[39m\n\u001b[32m----> \u001b[39m\u001b[32m1\u001b[39m imutable_set.add(\u001b[32m3\u001b[39m)\n",
      "\u001b[31mAttributeError\u001b[39m: 'frozenset' object has no attribute 'add'"
     ]
    }
   ],
   "source": [
    "imutable_set.add(3)"
   ]
  },
  {
   "cell_type": "code",
   "execution_count": 26,
   "id": "bf00793b",
   "metadata": {},
   "outputs": [
    {
     "data": {
      "text/plain": [
       "True"
      ]
     },
     "execution_count": 26,
     "metadata": {},
     "output_type": "execute_result"
    }
   ],
   "source": [
    "3 in imutable_set"
   ]
  },
  {
   "cell_type": "code",
   "execution_count": 27,
   "id": "94a895f1",
   "metadata": {},
   "outputs": [
    {
     "data": {
      "text/plain": [
       "[1, 2, 3, 4, 5, 6]"
      ]
     },
     "execution_count": 27,
     "metadata": {},
     "output_type": "execute_result"
    }
   ],
   "source": [
    "ordered_list = list(imutable_set)\n",
    "ordered_list"
   ]
  },
  {
   "cell_type": "code",
   "execution_count": 39,
   "id": "01d57f7e",
   "metadata": {},
   "outputs": [
    {
     "data": {
      "text/plain": [
       "frozenset({1, 2, 3, 4, 5})"
      ]
     },
     "execution_count": 39,
     "metadata": {},
     "output_type": "execute_result"
    }
   ],
   "source": [
    "a = frozenset([1, 2, 3])\n",
    "b = frozenset([3, 4, 5])\n",
    "c = frozenset([3, 1, 7, 8])\n",
    "a.union(b)"
   ]
  },
  {
   "cell_type": "code",
   "execution_count": 42,
   "id": "eff46d6d",
   "metadata": {},
   "outputs": [
    {
     "data": {
      "text/plain": [
       "frozenset({3})"
      ]
     },
     "execution_count": 42,
     "metadata": {},
     "output_type": "execute_result"
    }
   ],
   "source": [
    "a.intersection(b, c)"
   ]
  },
  {
   "cell_type": "code",
   "execution_count": 44,
   "id": "fad28744",
   "metadata": {},
   "outputs": [
    {
     "data": {
      "text/plain": [
       "frozenset({2})"
      ]
     },
     "execution_count": 44,
     "metadata": {},
     "output_type": "execute_result"
    }
   ],
   "source": [
    "a.difference(b, c)"
   ]
  },
  {
   "cell_type": "code",
   "execution_count": 46,
   "id": "b11df2be",
   "metadata": {},
   "outputs": [
    {
     "data": {
      "text/plain": [
       "frozenset({2})"
      ]
     },
     "execution_count": 46,
     "metadata": {},
     "output_type": "execute_result"
    }
   ],
   "source": [
    "a - b - c"
   ]
  },
  {
   "cell_type": "code",
   "execution_count": 47,
   "id": "31fea6b1",
   "metadata": {},
   "outputs": [
    {
     "data": {
      "text/plain": [
       "frozenset({1, 2, 4, 5})"
      ]
     },
     "execution_count": 47,
     "metadata": {},
     "output_type": "execute_result"
    }
   ],
   "source": [
    "a.symmetric_difference(b)"
   ]
  },
  {
   "cell_type": "code",
   "execution_count": 49,
   "id": "e14a47ec",
   "metadata": {},
   "outputs": [
    {
     "data": {
      "text/plain": [
       "frozenset({2, 3, 4, 5, 7, 8})"
      ]
     },
     "execution_count": 49,
     "metadata": {},
     "output_type": "execute_result"
    }
   ],
   "source": [
    "a ^ b ^ c"
   ]
  },
  {
   "cell_type": "code",
   "execution_count": 50,
   "id": "a39291da",
   "metadata": {},
   "outputs": [],
   "source": [
    "c2 = [1, 2,3 ]"
   ]
  },
  {
   "cell_type": "code",
   "execution_count": 51,
   "id": "21804bac",
   "metadata": {},
   "outputs": [],
   "source": [
    "result = a.union(c2)"
   ]
  },
  {
   "cell_type": "code",
   "execution_count": 53,
   "id": "223c1023",
   "metadata": {},
   "outputs": [
    {
     "data": {
      "text/plain": [
       "frozenset"
      ]
     },
     "execution_count": 53,
     "metadata": {},
     "output_type": "execute_result"
    }
   ],
   "source": [
    "type(result)"
   ]
  },
  {
   "cell_type": "code",
   "execution_count": 55,
   "id": "05c0dda0",
   "metadata": {},
   "outputs": [
    {
     "name": "stdout",
     "output_type": "stream",
     "text": [
      "frozenset({1, 2, 3})\n"
     ]
    }
   ],
   "source": [
    "print(result)"
   ]
  },
  {
   "cell_type": "code",
   "execution_count": 59,
   "id": "5a9cac36",
   "metadata": {},
   "outputs": [],
   "source": [
    "complex_key_dict = {\n",
    "    frozenset(['key1', 'key2']): 'value1',\n",
    "    frozenset(['key3', 'key4']): 'value2'\n",
    "}"
   ]
  },
  {
   "cell_type": "code",
   "execution_count": 68,
   "id": "dfa3747b",
   "metadata": {},
   "outputs": [
    {
     "name": "stdout",
     "output_type": "stream",
     "text": [
      "value1\n"
     ]
    }
   ],
   "source": [
    "print(complex_key_dict[frozenset(['key1', 'key2'])])"
   ]
  },
  {
   "cell_type": "code",
   "execution_count": 69,
   "id": "198d4299",
   "metadata": {},
   "outputs": [
    {
     "name": "stdout",
     "output_type": "stream",
     "text": [
      "value1\n"
     ]
    }
   ],
   "source": [
    "print(complex_key_dict[frozenset(['key1', 'key2'])])"
   ]
  },
  {
   "cell_type": "code",
   "execution_count": 71,
   "id": "fd2af241",
   "metadata": {},
   "outputs": [],
   "source": [
    "dict_tuplely = {\n",
    "    (1, 2): 'ali',\n",
    "    (2, 3): 'reza'\n",
    "}"
   ]
  },
  {
   "cell_type": "code",
   "execution_count": 79,
   "id": "04f0ad79",
   "metadata": {},
   "outputs": [
    {
     "ename": "KeyError",
     "evalue": "1",
     "output_type": "error",
     "traceback": [
      "\u001b[31m---------------------------------------------------------------------------\u001b[39m",
      "\u001b[31mKeyError\u001b[39m                                  Traceback (most recent call last)",
      "\u001b[36mCell\u001b[39m\u001b[36m \u001b[39m\u001b[32mIn[79]\u001b[39m\u001b[32m, line 1\u001b[39m\n\u001b[32m----> \u001b[39m\u001b[32m1\u001b[39m \u001b[38;5;28mprint\u001b[39m(dict_tuplely[(\u001b[32m1\u001b[39m)])\n",
      "\u001b[31mKeyError\u001b[39m: 1"
     ]
    }
   ],
   "source": [
    "print(dict_tuplely[(1)])"
   ]
  },
  {
   "cell_type": "code",
   "execution_count": 87,
   "id": "7c22d7d8",
   "metadata": {},
   "outputs": [
    {
     "ename": "TypeError",
     "evalue": "frozenset expected at most 1 argument, got 2",
     "output_type": "error",
     "traceback": [
      "\u001b[31m---------------------------------------------------------------------------\u001b[39m",
      "\u001b[31mTypeError\u001b[39m                                 Traceback (most recent call last)",
      "\u001b[36mCell\u001b[39m\u001b[36m \u001b[39m\u001b[32mIn[87]\u001b[39m\u001b[32m, line 1\u001b[39m\n\u001b[32m----> \u001b[39m\u001b[32m1\u001b[39m set_of_frozenset = {\u001b[38;5;28mfrozenset\u001b[39m(\u001b[32m1\u001b[39m, \u001b[32m2\u001b[39m), \u001b[38;5;28mfrozenset\u001b[39m(\u001b[32m3\u001b[39m, \u001b[32m4\u001b[39m)}\n",
      "\u001b[31mTypeError\u001b[39m: frozenset expected at most 1 argument, got 2"
     ]
    }
   ],
   "source": [
    "set_of_frozenset = {frozenset(1, 2), frozenset(3, 4)}"
   ]
  },
  {
   "cell_type": "code",
   "execution_count": 88,
   "id": "db8ed328",
   "metadata": {},
   "outputs": [
    {
     "data": {
      "text/plain": [
       "{frozenset({3, 4}), frozenset({1, 2})}"
      ]
     },
     "execution_count": 88,
     "metadata": {},
     "output_type": "execute_result"
    }
   ],
   "source": [
    "set_of_frozenset"
   ]
  },
  {
   "cell_type": "code",
   "execution_count": 95,
   "id": "0aab19c0",
   "metadata": {},
   "outputs": [],
   "source": [
    "permissions = frozenset(['read', 'write', 'execure'])"
   ]
  },
  {
   "cell_type": "code",
   "execution_count": 96,
   "id": "4126e9ec",
   "metadata": {},
   "outputs": [
    {
     "data": {
      "text/plain": [
       "frozenset({'execure', 'read', 'write'})"
      ]
     },
     "execution_count": 96,
     "metadata": {},
     "output_type": "execute_result"
    }
   ],
   "source": [
    "permissions"
   ]
  },
  {
   "cell_type": "code",
   "execution_count": 93,
   "id": "baaae892",
   "metadata": {},
   "outputs": [
    {
     "ename": "NameError",
     "evalue": "name 'permissions' is not defined",
     "output_type": "error",
     "traceback": [
      "\u001b[31m---------------------------------------------------------------------------\u001b[39m",
      "\u001b[31mNameError\u001b[39m                                 Traceback (most recent call last)",
      "\u001b[36mCell\u001b[39m\u001b[36m \u001b[39m\u001b[32mIn[93]\u001b[39m\u001b[32m, line 1\u001b[39m\n\u001b[32m----> \u001b[39m\u001b[32m1\u001b[39m \u001b[38;5;28;01mdel\u001b[39;00m permissions\n",
      "\u001b[31mNameError\u001b[39m: name 'permissions' is not defined"
     ]
    }
   ],
   "source": [
    "del permissions"
   ]
  },
  {
   "cell_type": "code",
   "execution_count": 98,
   "id": "0349e6f9",
   "metadata": {},
   "outputs": [
    {
     "data": {
      "text/plain": [
       "frozenset({'execure', 'read', 'write'})"
      ]
     },
     "execution_count": 98,
     "metadata": {},
     "output_type": "execute_result"
    }
   ],
   "source": [
    "permissions"
   ]
  },
  {
   "cell_type": "code",
   "execution_count": 99,
   "id": "ecc60f63",
   "metadata": {},
   "outputs": [],
   "source": [
    "frozensetA = frozenset({1, 2, 3})"
   ]
  },
  {
   "cell_type": "code",
   "execution_count": 100,
   "id": "10bf2b42",
   "metadata": {},
   "outputs": [],
   "source": [
    "frozensetB = frozenset({2, 3, 4})"
   ]
  },
  {
   "cell_type": "code",
   "execution_count": 102,
   "id": "61ef7441",
   "metadata": {},
   "outputs": [
    {
     "data": {
      "text/plain": [
       "frozenset({1, 2, 3, 4})"
      ]
     },
     "execution_count": 102,
     "metadata": {},
     "output_type": "execute_result"
    }
   ],
   "source": [
    "frozensetA | frozensetB"
   ]
  },
  {
   "cell_type": "code",
   "execution_count": 104,
   "id": "0e508724",
   "metadata": {},
   "outputs": [],
   "source": [
    "frozen = frozensetA.union(frozensetB)"
   ]
  },
  {
   "cell_type": "code",
   "execution_count": 106,
   "id": "c257ebb6",
   "metadata": {},
   "outputs": [
    {
     "data": {
      "text/plain": [
       "frozenset({1, 2, 3, 4})"
      ]
     },
     "execution_count": 106,
     "metadata": {},
     "output_type": "execute_result"
    }
   ],
   "source": [
    "frozen"
   ]
  },
  {
   "cell_type": "code",
   "execution_count": 107,
   "id": "6948f6c6",
   "metadata": {},
   "outputs": [],
   "source": [
    "dict_frozen_set = {\n",
    "    frozenset([1, 2]): 'yale1',\n",
    "    frozenset([2, 3]): 'yale2'\n",
    "}"
   ]
  },
  {
   "cell_type": "code",
   "execution_count": 109,
   "id": "b12b7619",
   "metadata": {},
   "outputs": [],
   "source": [
    "dict_frozen_set.update({frozenset([4, 5]): 'yale3'})"
   ]
  },
  {
   "cell_type": "code",
   "execution_count": 111,
   "id": "f9e63a2a",
   "metadata": {},
   "outputs": [
    {
     "name": "stdout",
     "output_type": "stream",
     "text": [
      "{frozenset({1, 2}): 'yale1', frozenset({2, 3}): 'yale2', frozenset({4, 5}): 'yale3'}\n"
     ]
    }
   ],
   "source": [
    "print(dict_frozen_set)"
   ]
  },
  {
   "cell_type": "code",
   "execution_count": 112,
   "id": "70888934",
   "metadata": {},
   "outputs": [],
   "source": [
    "unique_fruits = frozenset(['apple', 'banana', 'apple', 'cherry'])"
   ]
  },
  {
   "cell_type": "code",
   "execution_count": 115,
   "id": "436c3b30",
   "metadata": {},
   "outputs": [
    {
     "data": {
      "text/plain": [
       "frozenset({'apple', 'banana', 'cherry'})"
      ]
     },
     "execution_count": 115,
     "metadata": {},
     "output_type": "execute_result"
    }
   ],
   "source": [
    "unique_fruits"
   ]
  },
  {
   "cell_type": "code",
   "execution_count": 117,
   "id": "a22e9d18",
   "metadata": {},
   "outputs": [],
   "source": [
    "frutis_list = list(unique_fruits)"
   ]
  },
  {
   "cell_type": "code",
   "execution_count": 119,
   "id": "c9ae8d84",
   "metadata": {},
   "outputs": [
    {
     "data": {
      "text/plain": [
       "['banana', 'apple', 'cherry']"
      ]
     },
     "execution_count": 119,
     "metadata": {},
     "output_type": "execute_result"
    }
   ],
   "source": [
    "frutis_list"
   ]
  },
  {
   "cell_type": "code",
   "execution_count": 120,
   "id": "8c114a87",
   "metadata": {},
   "outputs": [
    {
     "data": {
      "text/plain": [
       "list"
      ]
     },
     "execution_count": 120,
     "metadata": {},
     "output_type": "execute_result"
    }
   ],
   "source": [
    "type(frutis_list)"
   ]
  }
 ],
 "metadata": {
  "kernelspec": {
   "display_name": "python3.3",
   "language": "python",
   "name": "python3"
  },
  "language_info": {
   "codemirror_mode": {
    "name": "ipython",
    "version": 3
   },
   "file_extension": ".py",
   "mimetype": "text/x-python",
   "name": "python",
   "nbconvert_exporter": "python",
   "pygments_lexer": "ipython3",
   "version": "3.13.5"
  }
 },
 "nbformat": 4,
 "nbformat_minor": 5
}
