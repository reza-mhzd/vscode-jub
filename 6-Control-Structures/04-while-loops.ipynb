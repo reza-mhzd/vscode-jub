{
 "cells": [
  {
   "cell_type": "code",
   "execution_count": 1,
   "id": "82d4dc9d",
   "metadata": {},
   "outputs": [
    {
     "name": "stdout",
     "output_type": "stream",
     "text": [
      "outer counter: 0, inner counter: 0\n",
      "outer counter: 0, inner counter: 1\n",
      "outer counter: 1, inner counter: 0\n",
      "outer counter: 1, inner counter: 1\n",
      "outer counter: 2, inner counter: 0\n",
      "outer counter: 2, inner counter: 1\n"
     ]
    }
   ],
   "source": [
    "outer_couter = 0\n",
    "while outer_couter < 3:\n",
    "    inner_counter = 0\n",
    "    while inner_counter < 2:\n",
    "        print(f'outer counter: {outer_couter}, inner counter: {inner_counter}')\n",
    "        inner_counter += 1\n",
    "    outer_couter += 1\n"
   ]
  },
  {
   "cell_type": "code",
   "execution_count": 2,
   "id": "18799a8f",
   "metadata": {},
   "outputs": [],
   "source": [
    "initial_balance = 1000\n",
    "monthly_deposit = 100\n",
    "annual_interset_rate = 0.5\n",
    "savings_goal = 4000"
   ]
  },
  {
   "cell_type": "code",
   "execution_count": 3,
   "id": "94c5f964",
   "metadata": {},
   "outputs": [
    {
     "name": "stdout",
     "output_type": "stream",
     "text": [
      "It will take 19 months to reach the savings goal.\n"
     ]
    }
   ],
   "source": [
    "balance = initial_balance\n",
    "months = 0\n",
    "\n",
    "while balance < savings_goal:\n",
    "    balance += monthly_deposit\n",
    "    if months % 12 == 0 and months > 0:\n",
    "        balance += balance * annual_interset_rate\n",
    "    months += 1\n",
    "\n",
    "print(f\"It will take {months} months to reach the savings goal.\")\n"
   ]
  },
  {
   "cell_type": "code",
   "execution_count": null,
   "id": "06874c75",
   "metadata": {},
   "outputs": [],
   "source": []
  }
 ],
 "metadata": {
  "kernelspec": {
   "display_name": "python3.3",
   "language": "python",
   "name": "python3"
  },
  "language_info": {
   "codemirror_mode": {
    "name": "ipython",
    "version": 3
   },
   "file_extension": ".py",
   "mimetype": "text/x-python",
   "name": "python",
   "nbconvert_exporter": "python",
   "pygments_lexer": "ipython3",
   "version": "3.13.5"
  }
 },
 "nbformat": 4,
 "nbformat_minor": 5
}
