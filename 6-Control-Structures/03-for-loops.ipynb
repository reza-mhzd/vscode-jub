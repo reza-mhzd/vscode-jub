{
 "cells": [
  {
   "cell_type": "code",
   "execution_count": 1,
   "id": "c30bec28",
   "metadata": {},
   "outputs": [
    {
     "name": "stdout",
     "output_type": "stream",
     "text": [
      "i like apple\n",
      "i like banana\n",
      "i like cherry\n"
     ]
    }
   ],
   "source": [
    "fruits = ['apple', 'banana', 'cherry']\n",
    "for fruit in fruits:\n",
    "    print(f'i like {fruit}')"
   ]
  },
  {
   "cell_type": "code",
   "execution_count": 4,
   "id": "4532dc06",
   "metadata": {},
   "outputs": [
    {
     "name": "stdout",
     "output_type": "stream",
     "text": [
      "the nubmers 1\n",
      "the nubmers 2\n",
      "the nubmers 3\n",
      "the nubmers 4\n",
      "the nubmers 5\n",
      "the nubmers 6\n",
      "the nubmers 6\n",
      "the nubmers 7\n"
     ]
    }
   ],
   "source": [
    "coordinates = (1, 2,3 ,4, 5, 6,6 ,7)\n",
    "for cor in coordinates:\n",
    "    print(f'the nubmers {cor}')"
   ]
  },
  {
   "cell_type": "code",
   "execution_count": 5,
   "id": "2a957075",
   "metadata": {},
   "outputs": [],
   "source": [
    "person = {\n",
    "    'name': 'ali',\n",
    "    'age': 14,\n",
    "    'gender': 'female'\n",
    "}"
   ]
  },
  {
   "cell_type": "code",
   "execution_count": 7,
   "id": "3362c183",
   "metadata": {},
   "outputs": [
    {
     "name": "stdout",
     "output_type": "stream",
     "text": [
      "name\n",
      "age\n",
      "gender\n"
     ]
    }
   ],
   "source": [
    "for defult in person:\n",
    "    print(defult)"
   ]
  },
  {
   "cell_type": "code",
   "execution_count": 9,
   "id": "49d74474",
   "metadata": {},
   "outputs": [
    {
     "name": "stdout",
     "output_type": "stream",
     "text": [
      "ali\n",
      "14\n",
      "female\n"
     ]
    }
   ],
   "source": [
    "for value in person.values():\n",
    "    print(value)"
   ]
  },
  {
   "cell_type": "code",
   "execution_count": 14,
   "id": "b7a266a2",
   "metadata": {},
   "outputs": [
    {
     "name": "stdout",
     "output_type": "stream",
     "text": [
      "('name', 'ali')\n",
      "('age', 14)\n",
      "('gender', 'female')\n"
     ]
    }
   ],
   "source": [
    "for key in person.items():\n",
    "    print(key)"
   ]
  },
  {
   "cell_type": "code",
   "execution_count": 21,
   "id": "72af1abb",
   "metadata": {},
   "outputs": [
    {
     "name": "stdout",
     "output_type": "stream",
     "text": [
      "{'name': 'ali', 'age': 14, 'gender': 'female'}\n"
     ]
    }
   ],
   "source": [
    "print(person)"
   ]
  },
  {
   "cell_type": "code",
   "execution_count": 23,
   "id": "ce6bf33f",
   "metadata": {},
   "outputs": [
    {
     "name": "stdout",
     "output_type": "stream",
     "text": [
      "0\n",
      "1\n",
      "2\n",
      "3\n",
      "4\n"
     ]
    }
   ],
   "source": [
    "for i in range(5):\n",
    "    print(i)"
   ]
  },
  {
   "cell_type": "code",
   "execution_count": 26,
   "id": "c9542fb8",
   "metadata": {},
   "outputs": [
    {
     "name": "stdout",
     "output_type": "stream",
     "text": [
      "0\n",
      "2\n",
      "4\n",
      "6\n",
      "8\n"
     ]
    }
   ],
   "source": [
    "for i in range(0, 10 , 2):\n",
    "    print(i)"
   ]
  },
  {
   "cell_type": "code",
   "execution_count": 29,
   "id": "85234675",
   "metadata": {},
   "outputs": [
    {
     "name": "stdout",
     "output_type": "stream",
     "text": [
      "1 red\n",
      "2 yellow\n",
      "3 bule\n",
      "4 green\n"
     ]
    }
   ],
   "source": [
    "color = ['red', 'yellow', 'bule', 'green']\n",
    "for index, color in enumerate(color, 1):\n",
    "    print(index, color)"
   ]
  },
  {
   "cell_type": "code",
   "execution_count": 38,
   "id": "8db6356e",
   "metadata": {},
   "outputs": [],
   "source": [
    "color = ['red', 'yellow', 'bule', 'green']\n",
    "sort_color = sorted(color, reverse=True)"
   ]
  },
  {
   "cell_type": "code",
   "execution_count": 39,
   "id": "99c95fc5",
   "metadata": {},
   "outputs": [
    {
     "name": "stdout",
     "output_type": "stream",
     "text": [
      "['yellow', 'red', 'green', 'bule']\n"
     ]
    }
   ],
   "source": [
    "print(sort_color)"
   ]
  },
  {
   "cell_type": "code",
   "execution_count": 40,
   "id": "670501f6",
   "metadata": {},
   "outputs": [
    {
     "name": "stdout",
     "output_type": "stream",
     "text": [
      "['red', 'yellow', 'bule', 'green']\n"
     ]
    }
   ],
   "source": [
    "print(color)"
   ]
  },
  {
   "cell_type": "code",
   "execution_count": 41,
   "id": "c64003e2",
   "metadata": {},
   "outputs": [],
   "source": [
    "matrix = [\n",
    "    [1, 2, 3],\n",
    "    [4, 5, 6],\n",
    "    [7, 8, 9]\n",
    "]"
   ]
  },
  {
   "cell_type": "code",
   "execution_count": 43,
   "id": "ec2245c4",
   "metadata": {},
   "outputs": [
    {
     "name": "stdout",
     "output_type": "stream",
     "text": [
      "[[1, 2, 3], [4, 5, 6], [7, 8, 9]]\n"
     ]
    }
   ],
   "source": [
    "print(matrix)"
   ]
  },
  {
   "cell_type": "code",
   "execution_count": 46,
   "id": "ec304710",
   "metadata": {},
   "outputs": [
    {
     "name": "stdout",
     "output_type": "stream",
     "text": [
      "1 2 3 4 5 6 7 8 9 "
     ]
    }
   ],
   "source": [
    "for row in matrix:\n",
    "    for element in row:\n",
    "        print(element, end=\" \")"
   ]
  },
  {
   "cell_type": "code",
   "execution_count": null,
   "id": "307fb2a3",
   "metadata": {},
   "outputs": [
    {
     "name": "stdout",
     "output_type": "stream",
     "text": [
      "{'saterday': 1, 'sunday': 2, 'monday': 1, 'thusday': 2, 'wensday': 1, 'thersday': 2, 'friday': 1}\n",
      "the average temper week 1.4285714285714286\n"
     ]
    }
   ],
   "source": [
    "# also we can list indested of dict\n",
    "temper_week = {'saterday': 0, 'sunday':0, 'monday':0, 'thusday': 0, 'wensday': 0, 'thersday': 0, 'friday': 0}\n",
    "for day,temper in temper_week.items():\n",
    "    temper_week[day] = int(input(f'enter temper of {day}'))\n",
    "\n",
    "print(temper_week)\n",
    "\n",
    "sum = 0\n",
    "for temper in temper_week.values():\n",
    "    sum += temper\n",
    "\n",
    "avg = sum / 7\n",
    "print(f'the average temper week {avg}')"
   ]
  },
  {
   "cell_type": "code",
   "execution_count": 54,
   "id": "aebfdcd2",
   "metadata": {},
   "outputs": [],
   "source": [
    "temperatures = [19, 21, 22, 24, 23, 19, 20]"
   ]
  },
  {
   "cell_type": "code",
   "execution_count": 55,
   "id": "58f37650",
   "metadata": {},
   "outputs": [
    {
     "name": "stdout",
     "output_type": "stream",
     "text": [
      "the maximum temperature of the week is: 24\n",
      "the minimum temperature of teh week is: 19\n"
     ]
    }
   ],
   "source": [
    "max_temp = temperatures[0]\n",
    "min_temp = temperatures[0]\n",
    "for temp in temperatures:\n",
    "    if temp <= min_temp:\n",
    "        min_temp = temp\n",
    "    elif temp >= max_temp:\n",
    "        max_temp = temp\n",
    "\n",
    "print(f'the maximum temperature of the week is: {max_temp}')\n",
    "print(f\"the minimum temperature of teh week is: {min_temp}\")\n"
   ]
  },
  {
   "cell_type": "code",
   "execution_count": 57,
   "id": "b9d92592",
   "metadata": {},
   "outputs": [
    {
     "name": "stdout",
     "output_type": "stream",
     "text": [
      "the number of warm day is 3\n"
     ]
    }
   ],
   "source": [
    "count = 0\n",
    "for day in temperatures:\n",
    "    if day >= 22:\n",
    "        count += 1\n",
    "\n",
    "print(f'the number of warm day is {count}')"
   ]
  },
  {
   "cell_type": "code",
   "execution_count": 61,
   "id": "7edb70ee",
   "metadata": {},
   "outputs": [
    {
     "name": "stdout",
     "output_type": "stream",
     "text": [
      "temperature fluctuations: [2, 1, 2, 1, 4, 1]\n"
     ]
    }
   ],
   "source": [
    "fluctuations = []\n",
    "for i in range(len(temperatures) - 1):\n",
    "    mines = abs(temperatures[i+1] - temperatures[i])\n",
    "    fluctuations.append(mines)\n",
    "\n",
    "print(f'temperature fluctuations: {fluctuations}')\n"
   ]
  }
 ],
 "metadata": {
  "kernelspec": {
   "display_name": "python3.3",
   "language": "python",
   "name": "python3"
  },
  "language_info": {
   "codemirror_mode": {
    "name": "ipython",
    "version": 3
   },
   "file_extension": ".py",
   "mimetype": "text/x-python",
   "name": "python",
   "nbconvert_exporter": "python",
   "pygments_lexer": "ipython3",
   "version": "3.13.5"
  }
 },
 "nbformat": 4,
 "nbformat_minor": 5
}
