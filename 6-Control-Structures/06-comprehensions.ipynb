{
 "cells": [
  {
   "cell_type": "code",
   "execution_count": 5,
   "id": "d2d3f9fa",
   "metadata": {},
   "outputs": [],
   "source": [
    "squars = [x**2 for x in range(10)]"
   ]
  },
  {
   "cell_type": "code",
   "execution_count": 7,
   "id": "46bb2e22",
   "metadata": {},
   "outputs": [
    {
     "name": "stdout",
     "output_type": "stream",
     "text": [
      "[0, 1, 4, 9, 16, 25, 36, 49, 64, 81]\n"
     ]
    }
   ],
   "source": [
    "print(squars)"
   ]
  },
  {
   "cell_type": "code",
   "execution_count": 10,
   "id": "ef0afd4b",
   "metadata": {},
   "outputs": [
    {
     "name": "stdout",
     "output_type": "stream",
     "text": [
      "[0, 4, 16, 36, 64]\n"
     ]
    }
   ],
   "source": [
    "even_squares = [x**2 for x in range(10) if x %2 == 0]\n",
    "print(even_squares)"
   ]
  },
  {
   "cell_type": "code",
   "execution_count": null,
   "id": "ac756fe6",
   "metadata": {},
   "outputs": [
    {
     "name": "stdout",
     "output_type": "stream",
     "text": [
      "[1, 2, 3, 4, 5, 6, 7, 8, 9]\n"
     ]
    }
   ],
   "source": [
    "matrix = [[1, 2, 3], [4, 5, 6], [7, 8, 9]]\n",
    "flattened = [num for i in matrix for num in i]\n",
    "print(flattened)"
   ]
  },
  {
   "cell_type": "code",
   "execution_count": 20,
   "id": "586fbf68",
   "metadata": {},
   "outputs": [
    {
     "name": "stdout",
     "output_type": "stream",
     "text": [
      "[1, 8, 27, 64, 125, 216, 343, 512, 729, 1000]\n"
     ]
    }
   ],
   "source": [
    "cube_list = [num**3 for num in range(1,11)]\n",
    "print(cube_list)"
   ]
  },
  {
   "cell_type": "code",
   "execution_count": 16,
   "id": "aefa14a5",
   "metadata": {},
   "outputs": [
    {
     "name": "stdout",
     "output_type": "stream",
     "text": [
      "['e', 'a']\n"
     ]
    }
   ],
   "source": [
    "stringg = input(\"enter a string\")\n",
    "results = [char for char in stringg if char in 'aeiou']\n",
    "print(results)"
   ]
  },
  {
   "cell_type": "code",
   "execution_count": 23,
   "id": "7f6d96dd",
   "metadata": {},
   "outputs": [
    {
     "name": "stdout",
     "output_type": "stream",
     "text": [
      "[91.4, 150.8, 51.8, 71.6, 210.20000000000002, 170.6, 150.8]\n"
     ]
    }
   ],
   "source": [
    "\n",
    "res = [faren * 1.8 +32 for faren in [33, 66, 11, 22, 99, 77, 66]]\n",
    "print(res)"
   ]
  },
  {
   "cell_type": "code",
   "execution_count": 26,
   "id": "c438d126",
   "metadata": {},
   "outputs": [
    {
     "name": "stdout",
     "output_type": "stream",
     "text": [
      "{'r', 'a', 's'}\n"
     ]
    }
   ],
   "source": [
    "name_list = {'ali', 'reza','sara', 'sara'}\n",
    "first_letter = {i[0] for i in name_list}\n",
    "print(first_letter)"
   ]
  },
  {
   "cell_type": "code",
   "execution_count": 29,
   "id": "0f93a1ea",
   "metadata": {},
   "outputs": [
    {
     "name": "stdout",
     "output_type": "stream",
     "text": [
      "{0: 0, 2: 4, 4: 16, 6: 36, 8: 64}\n"
     ]
    }
   ],
   "source": [
    "ssquared_dict = {x: x**2 for x in range(10) if x % 2 == 0}\n",
    "print(ssquared_dict)"
   ]
  },
  {
   "cell_type": "code",
   "execution_count": 31,
   "id": "81e35516",
   "metadata": {},
   "outputs": [
    {
     "data": {
      "text/plain": [
       "{1: 'a', 2: 'b', 3: 'c'}"
      ]
     },
     "execution_count": 31,
     "metadata": {},
     "output_type": "execute_result"
    }
   ],
   "source": [
    "my_dict = {'a':1, 'b':2, 'c':3}\n",
    "inverted_dict = {value: key for key, value in my_dict.items()}\n",
    "inverted_dict"
   ]
  },
  {
   "cell_type": "code",
   "execution_count": 40,
   "id": "b2c6ebe6",
   "metadata": {},
   "outputs": [],
   "source": [
    "products = [\n",
    "    {\"name\": \"Laptop\", \"category\": \"Electronics\", \"price\": 999.99},\n",
    "    {\"name\": \"Smartphone\", \"category\": \"Electronics\", \"price\": 699.99},\n",
    "    {\"name\": \"Book: The Alchemist\", \"category\": \"Books\", \"price\": 14.99},\n",
    "    {\"name\": \"Book: Harry Potter\", \"category\": \"Books\", \"price\": 29.99},\n",
    "    {\"name\": \"Bluetooth Headphones\", \"category\": \"Electronics\", \"price\": 199.99},\n",
    "    {\"name\": \"Monitor\", \"category\": \"Electronics\", \"price\": 149.99},\n",
    "    {\"name\": \"Book: Python Programming\", \"category\": \"Books\", \"price\": 49.99},\n",
    "    {\"name\": \"Desk Lamp\", \"category\": \"Furniture\", \"price\": 24.99},\n",
    "    {\"name\": \"Mousepad\", \"category\": \"Accessories\", \"price\": 5.99},\n",
    "    {\"name\": \"Stylus Pen\", \"category\": \"Accessories\", \"price\": 12.99},\n",
    "]"
   ]
  },
  {
   "cell_type": "code",
   "execution_count": 41,
   "id": "64b3c42c",
   "metadata": {},
   "outputs": [
    {
     "name": "stdout",
     "output_type": "stream",
     "text": [
      "['Laptop', 'Smartphone', 'Bluetooth Headphones', 'Monitor']\n"
     ]
    }
   ],
   "source": [
    "electronic_list = [amount['name'] for amount in products if amount['category'] == 'Electronics']\n",
    "print(electronic_list)"
   ]
  },
  {
   "cell_type": "code",
   "execution_count": 45,
   "id": "c150cc94",
   "metadata": {},
   "outputs": [
    {
     "name": "stdout",
     "output_type": "stream",
     "text": [
      "{'Laptop': 999.99, 'Smartphone': 699.99, 'Bluetooth Headphones': 199.99, 'Monitor': 149.99}\n"
     ]
    }
   ],
   "source": [
    "name_price = {product['name']: product['price'] for product in products if product['price'] > 50}\n",
    "print(name_price)"
   ]
  },
  {
   "cell_type": "code",
   "execution_count": 48,
   "id": "8de632e8",
   "metadata": {},
   "outputs": [
    {
     "name": "stdout",
     "output_type": "stream",
     "text": [
      "[14.99, 29.99, 49.99]\n",
      "average price of books:  31.656666666666666\n"
     ]
    }
   ],
   "source": [
    "price_every_book = [item['price'] for item in products if item['category'] == 'Books' ]\n",
    "print(price_every_book)\n",
    "averge_price_booss = sum(price_every_book) / len(price_every_book) if price_every_book else 0\n",
    "print('average price of books: ', averge_price_booss)"
   ]
  },
  {
   "cell_type": "code",
   "execution_count": 55,
   "id": "462ac253",
   "metadata": {},
   "outputs": [
    {
     "name": "stdout",
     "output_type": "stream",
     "text": [
      "100\n"
     ]
    }
   ],
   "source": [
    "x = 100\n",
    "xxx = x if range(1) else 0\n",
    "print(xxx)"
   ]
  },
  {
   "cell_type": "code",
   "execution_count": 1,
   "id": "2a2ea979",
   "metadata": {},
   "outputs": [],
   "source": [
    "words = [\"apple\", \"banana\", \"cherry\", \"date\", \"elderberry\", \"fig\", \"grape\"]"
   ]
  },
  {
   "cell_type": "code",
   "execution_count": 2,
   "id": "a6f660c1",
   "metadata": {},
   "outputs": [],
   "source": [
    "grether_than_five_words = [word for word in words if len(word) > 5]"
   ]
  },
  {
   "cell_type": "code",
   "execution_count": 5,
   "id": "a0687806",
   "metadata": {},
   "outputs": [
    {
     "name": "stdout",
     "output_type": "stream",
     "text": [
      "long words: ['banana', 'cherry', 'elderberry']\n"
     ]
    }
   ],
   "source": [
    "print(f\"long words: {grether_than_five_words}\")"
   ]
  },
  {
   "cell_type": "code",
   "execution_count": 6,
   "id": "c67f8609",
   "metadata": {},
   "outputs": [
    {
     "name": "stdout",
     "output_type": "stream",
     "text": [
      "len of words: [5, 6, 6, 4, 10, 3, 5]\n"
     ]
    }
   ],
   "source": [
    "len_words = [len(word) for word in words]\n",
    "print(f'len of words: {len_words}')"
   ]
  },
  {
   "cell_type": "code",
   "execution_count": 8,
   "id": "912415b8",
   "metadata": {},
   "outputs": [],
   "source": [
    "dict_list = {key: len(key) for key in words}"
   ]
  },
  {
   "cell_type": "code",
   "execution_count": 9,
   "id": "79f8d3f6",
   "metadata": {},
   "outputs": [
    {
     "name": "stdout",
     "output_type": "stream",
     "text": [
      "dict list: {'apple': 5, 'banana': 6, 'cherry': 6, 'date': 4, 'elderberry': 10, 'fig': 3, 'grape': 5}\n"
     ]
    }
   ],
   "source": [
    "print(f'dict list: {dict_list}')"
   ]
  },
  {
   "cell_type": "code",
   "execution_count": 15,
   "id": "cc1bb8a3",
   "metadata": {},
   "outputs": [
    {
     "ename": "SyntaxError",
     "evalue": "invalid syntax (727835283.py, line 2)",
     "output_type": "error",
     "traceback": [
      "  \u001b[36mCell\u001b[39m\u001b[36m \u001b[39m\u001b[32mIn[15]\u001b[39m\u001b[32m, line 2\u001b[39m\n\u001b[31m    \u001b[39m\u001b[31mgrade_categories = ['pass' for score in scores if score>= 75 else 'false']\u001b[39m\n                                                                 ^\n\u001b[31mSyntaxError\u001b[39m\u001b[31m:\u001b[39m invalid syntax\n"
     ]
    }
   ],
   "source": [
    "scores = [88, 92, 78, 90, 89, 76, 61]\n",
    "grade_categories = ['pass' for score in scores if score>= 75 else 'false']"
   ]
  },
  {
   "cell_type": "code",
   "execution_count": 19,
   "id": "38c48d95",
   "metadata": {},
   "outputs": [
    {
     "name": "stdout",
     "output_type": "stream",
     "text": [
      "['pass', 'pass', 'pass', 'pass', 'pass', 'pass', 'fail']\n"
     ]
    }
   ],
   "source": [
    "grade_categories = ['pass' if score > 75 else 'fail' for score in scores]\n",
    "print(grade_categories)"
   ]
  },
  {
   "cell_type": "code",
   "execution_count": null,
   "id": "a3d9c8f9",
   "metadata": {},
   "outputs": [],
   "source": []
  }
 ],
 "metadata": {
  "kernelspec": {
   "display_name": "python3.3",
   "language": "python",
   "name": "python3"
  },
  "language_info": {
   "codemirror_mode": {
    "name": "ipython",
    "version": 3
   },
   "file_extension": ".py",
   "mimetype": "text/x-python",
   "name": "python",
   "nbconvert_exporter": "python",
   "pygments_lexer": "ipython3",
   "version": "3.13.5"
  }
 },
 "nbformat": 4,
 "nbformat_minor": 5
}
