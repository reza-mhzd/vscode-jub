{
 "cells": [
  {
   "cell_type": "code",
   "execution_count": 2,
   "id": "7894cf3b",
   "metadata": {},
   "outputs": [
    {
     "name": "stdout",
     "output_type": "stream",
     "text": [
      "1\n",
      "2\n",
      "3\n",
      "4\n",
      "6\n",
      "7\n",
      "8\n",
      "9\n",
      "loop ended.\n"
     ]
    }
   ],
   "source": [
    "for i in range(1, 10):\n",
    "    if i == 5:\n",
    "        continue\n",
    "    print(i)\n",
    "print('loop ended.')"
   ]
  },
  {
   "cell_type": "code",
   "execution_count": 3,
   "id": "5e03b933",
   "metadata": {},
   "outputs": [
    {
     "name": "stdout",
     "output_type": "stream",
     "text": [
      "1\n",
      "2\n",
      "3\n",
      "4\n",
      "5\n",
      "6\n",
      "7\n",
      "8\n",
      "9\n",
      "loop ended.\n"
     ]
    }
   ],
   "source": [
    "for i in range(1, 10):\n",
    "    if i == 5:\n",
    "        pass\n",
    "    print(i)\n",
    "print(\"loop ended.\")"
   ]
  },
  {
   "cell_type": "code",
   "execution_count": 8,
   "id": "f70654e6",
   "metadata": {},
   "outputs": [],
   "source": [
    "numbers = [0, 0, 0, 0, 0, 0, 0, 0, 0, 0]"
   ]
  },
  {
   "cell_type": "code",
   "execution_count": 9,
   "id": "32fd54ff",
   "metadata": {},
   "outputs": [
    {
     "name": "stdout",
     "output_type": "stream",
     "text": [
      "Zero found\n",
      "Zero found\n",
      "Zero found\n",
      "Zero found\n",
      "Zero found\n",
      "Zero found\n",
      "Zero found\n",
      "Zero found\n",
      "Zero found\n",
      "Zero found\n"
     ]
    }
   ],
   "source": [
    "for number in numbers:\n",
    "    if number == 0:\n",
    "        print(\"Zero found\")"
   ]
  },
  {
   "cell_type": "code",
   "execution_count": 11,
   "id": "2892748e",
   "metadata": {},
   "outputs": [
    {
     "name": "stdout",
     "output_type": "stream",
     "text": [
      "all connecions attempts failed. retrying...\n",
      "all connecions attempts failed. retrying...\n",
      "all connecions attempts failed. retrying...\n"
     ]
    }
   ],
   "source": [
    "max_retries = 3\n",
    "retries = 0\n",
    "while retries < max_retries:\n",
    "    for i in numbers:\n",
    "        if i != 0:\n",
    "            print(\"connected\")\n",
    "            break\n",
    "    else:\n",
    "        print('all connecions attempts failed. retrying...')\n",
    "        retries += 1\n",
    "        continue\n",
    "    break\n",
    "\n"
   ]
  },
  {
   "cell_type": "code",
   "execution_count": 14,
   "id": "df065cf5",
   "metadata": {},
   "outputs": [
    {
     "name": "stdout",
     "output_type": "stream",
     "text": [
      "yes\n",
      "yes\n",
      "yes\n",
      "yes\n"
     ]
    }
   ],
   "source": [
    "count = 4\n",
    "e = 0\n",
    "while e <= count:\n",
    "    print('yes')\n",
    "    if e == 3:\n",
    "        break\n",
    "    e += 1\n",
    "else:\n",
    "    print(\"no\")\n"
   ]
  },
  {
   "cell_type": "code",
   "execution_count": null,
   "id": "d394a9d4",
   "metadata": {},
   "outputs": [],
   "source": []
  }
 ],
 "metadata": {
  "kernelspec": {
   "display_name": "python3.3",
   "language": "python",
   "name": "python3"
  },
  "language_info": {
   "codemirror_mode": {
    "name": "ipython",
    "version": 3
   },
   "file_extension": ".py",
   "mimetype": "text/x-python",
   "name": "python",
   "nbconvert_exporter": "python",
   "pygments_lexer": "ipython3",
   "version": "3.13.5"
  }
 },
 "nbformat": 4,
 "nbformat_minor": 5
}
