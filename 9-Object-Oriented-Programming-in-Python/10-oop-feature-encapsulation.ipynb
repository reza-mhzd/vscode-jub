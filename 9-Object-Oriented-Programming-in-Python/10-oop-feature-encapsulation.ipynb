{
 "cells": [
  {
   "cell_type": "code",
   "execution_count": 1,
   "id": "725d399a",
   "metadata": {},
   "outputs": [],
   "source": [
    "class Vehicle:\n",
    "    def __init__(self, make, model):\n",
    "        self.make = make\n",
    "        self.model = model\n",
    "\n",
    "    def display_info(self):\n",
    "        print(f\"this vehicle is a {self.make} {self.model}\")"
   ]
  },
  {
   "cell_type": "code",
   "execution_count": 2,
   "id": "a2c75496",
   "metadata": {},
   "outputs": [],
   "source": [
    "my_car = Vehicle(\"Toyota\", \"Camry\")"
   ]
  },
  {
   "cell_type": "code",
   "execution_count": 3,
   "id": "bc0044ee",
   "metadata": {},
   "outputs": [
    {
     "data": {
      "text/plain": [
       "'Toyota'"
      ]
     },
     "execution_count": 3,
     "metadata": {},
     "output_type": "execute_result"
    }
   ],
   "source": [
    "my_car.make"
   ]
  },
  {
   "cell_type": "code",
   "execution_count": 4,
   "id": "a5535224",
   "metadata": {},
   "outputs": [
    {
     "data": {
      "text/plain": [
       "'Camry'"
      ]
     },
     "execution_count": 4,
     "metadata": {},
     "output_type": "execute_result"
    }
   ],
   "source": [
    "my_car.model"
   ]
  },
  {
   "cell_type": "code",
   "execution_count": 5,
   "id": "85bf0996",
   "metadata": {},
   "outputs": [
    {
     "name": "stdout",
     "output_type": "stream",
     "text": [
      "this vehicle is a Toyota Camry\n"
     ]
    }
   ],
   "source": [
    "my_car.display_info()"
   ]
  },
  {
   "cell_type": "code",
   "execution_count": 6,
   "id": "248e960a",
   "metadata": {},
   "outputs": [],
   "source": [
    "class Vehicle:\n",
    "    def __init__(self, make, fuel_capacity):\n",
    "        self.make = make\n",
    "        self._fuel_capacity = fuel_capacity\n",
    "        self._fuel_level = fuel_capacity\n",
    "    \n",
    "    def _consume_fuel(self, amount):\n",
    "        self._fuel_capacity -= amount\n",
    "        if self._fuel_level < 0:\n",
    "            self._fuel_level = 0\n",
    "        print(f\"Fuel left in {self.make}: {self._fuel_level} liters\")"
   ]
  },
  {
   "cell_type": "code",
   "execution_count": 8,
   "id": "eece6862",
   "metadata": {},
   "outputs": [],
   "source": [
    "class Sedan(Vehicle):\n",
    "    def drive(self, distance):\n",
    "        print(f\"Driving teh sedan for {distance} miles\")\n",
    "        fuel_consumption_rate = 0.04\n",
    "        self._consume_fuel(distance * fuel_consumption_rate)"
   ]
  },
  {
   "cell_type": "code",
   "execution_count": 9,
   "id": "a0c3bf38",
   "metadata": {},
   "outputs": [],
   "source": [
    "class SUV(Vehicle):\n",
    "    def drive(self, distance):\n",
    "        print(f\"Driving the SUV for {distance} miles.\")\n",
    "        fuel_consumption_rate = 0.07  # Example: Consumes 0.07 liters per mile\n",
    "        self._consume_fuel(distance * fuel_consumption_rate)\n"
   ]
  },
  {
   "cell_type": "code",
   "execution_count": 10,
   "id": "13d83c77",
   "metadata": {},
   "outputs": [],
   "source": [
    "toyota_camry = Sedan(\"toyota Camry\", 60)\n",
    "ford_explorer = SUV(\"Ford Explorer\", 70)"
   ]
  },
  {
   "cell_type": "code",
   "execution_count": null,
   "id": "53942a5c",
   "metadata": {},
   "outputs": [],
   "source": [
    "toyota_camry.drive(200)"
   ]
  },
  {
   "cell_type": "code",
   "execution_count": 11,
   "id": "db0b3214",
   "metadata": {},
   "outputs": [
    {
     "name": "stdout",
     "output_type": "stream",
     "text": [
      "Driving the SUV for 2000 miles.\n",
      "Fuel left in Ford Explorer: 70 liters\n"
     ]
    }
   ],
   "source": [
    "ford_explorer.drive(2000)"
   ]
  },
  {
   "cell_type": "code",
   "execution_count": null,
   "id": "df53eee1",
   "metadata": {},
   "outputs": [],
   "source": [
    "class Account:\n",
    "    def __init__(self, owner, balance):\n",
    "        self.owner = owner\n",
    "        self.__balance = balance\n",
    "\n",
    "    def __update_balance(self, amount):\n",
    "        self.__balance += amount\n",
    "        return self.__balance\n",
    "    \n",
    "    def deposit(self, amount):\n",
    "        if amount > 0:\n",
    "            new_balance = self.__update_balance(amount)\n",
    "            print(f\"Deposit successful. New balance: {new_balance}\")"
   ]
  },
  {
   "cell_type": "code",
   "execution_count": 21,
   "id": "8bdcdd2d",
   "metadata": {},
   "outputs": [],
   "source": [
    "my_account = Account('reza mohammadizadeh', 1500000)"
   ]
  },
  {
   "cell_type": "code",
   "execution_count": 25,
   "id": "3805c92f",
   "metadata": {},
   "outputs": [
    {
     "name": "stdout",
     "output_type": "stream",
     "text": [
      "Deposit successful. New balance: 1500999\n"
     ]
    }
   ],
   "source": [
    "my_account.deposit(333)"
   ]
  },
  {
   "cell_type": "code",
   "execution_count": null,
   "id": "fe47c507",
   "metadata": {},
   "outputs": [],
   "source": [
    "my_account.deposit(333)"
   ]
  },
  {
   "cell_type": "code",
   "execution_count": 26,
   "id": "cdba52f7",
   "metadata": {},
   "outputs": [
    {
     "name": "stdout",
     "output_type": "stream",
     "text": [
      "Deposit successful. New balance: 51500999\n"
     ]
    }
   ],
   "source": [
    "my_account.deposit(50000000)"
   ]
  },
  {
   "cell_type": "code",
   "execution_count": null,
   "id": "1c5d0bc6",
   "metadata": {},
   "outputs": [
    {
     "ename": "AttributeError",
     "evalue": "'Account' object has no attribute '__update_balance'",
     "output_type": "error",
     "traceback": [
      "\u001b[31m---------------------------------------------------------------------------\u001b[39m",
      "\u001b[31mAttributeError\u001b[39m                            Traceback (most recent call last)",
      "\u001b[36mCell\u001b[39m\u001b[36m \u001b[39m\u001b[32mIn[28]\u001b[39m\u001b[32m, line 1\u001b[39m\n\u001b[32m----> \u001b[39m\u001b[32m1\u001b[39m my_account.__update_balance(\u001b[32m33\u001b[39m)\n",
      "\u001b[31mAttributeError\u001b[39m: 'Account' object has no attribute '__update_balance'"
     ]
    }
   ],
   "source": []
  }
 ],
 "metadata": {
  "kernelspec": {
   "display_name": "python3.3",
   "language": "python",
   "name": "python3"
  },
  "language_info": {
   "codemirror_mode": {
    "name": "ipython",
    "version": 3
   },
   "file_extension": ".py",
   "mimetype": "text/x-python",
   "name": "python",
   "nbconvert_exporter": "python",
   "pygments_lexer": "ipython3",
   "version": "3.13.5"
  }
 },
 "nbformat": 4,
 "nbformat_minor": 5
}
