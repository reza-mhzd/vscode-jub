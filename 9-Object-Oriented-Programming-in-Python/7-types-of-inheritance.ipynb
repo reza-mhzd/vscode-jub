{
 "cells": [
  {
   "cell_type": "code",
   "execution_count": null,
   "id": "6aac385e",
   "metadata": {},
   "outputs": [],
   "source": [
    "class Person:\n",
    "    def __init__(self, name, age, ID):\n",
    "        self.name = name\n",
    "        self.age = age\n",
    "        self.ID = ID\n",
    "    \n",
    "    def display_info(self):\n",
    "        print(f\"Name: {self.name}, Age: {self.age}, ID: {self.ID}\")"
   ]
  },
  {
   "cell_type": "code",
   "execution_count": 15,
   "id": "8e411d4c",
   "metadata": {},
   "outputs": [],
   "source": [
    "class Student(Person):\n",
    "    def __init__(self, name, age, ID, student_id):\n",
    "        super().__init__(name, age, ID)\n",
    "        self.student_id = student_id\n",
    "        self.courses = []\n",
    "\n",
    "    def enroll_course(self, course_name):\n",
    "        self.courses.append(course_name)\n",
    "        print(f\"{self.name} has enrolled in {course_name}\")\n",
    "    \n",
    "    def display_courses(self):\n",
    "        print(f\"{self.name}'s courses: {', '.join(self.courses)}\")\n",
    "    \n",
    "    def display_info(self):\n",
    "        super().display_info()\n",
    "        print(f\"studentID: {self.student_id}\")"
   ]
  },
  {
   "cell_type": "code",
   "execution_count": 16,
   "id": "38803a35",
   "metadata": {},
   "outputs": [],
   "source": [
    "student1 = Student('reza', '23', 223444, 4001830272)"
   ]
  },
  {
   "cell_type": "code",
   "execution_count": 17,
   "id": "31cd1a4b",
   "metadata": {},
   "outputs": [
    {
     "name": "stdout",
     "output_type": "stream",
     "text": [
      "reza has enrolled in riazi\n",
      "reza has enrolled in madar\n",
      "reza has enrolled in fizik\n",
      "Name: reza, Age: 23, ID: 223444\n",
      "studentID: 4001830272\n",
      "reza's courses: riazi, madar, fizik\n"
     ]
    }
   ],
   "source": [
    "student1.enroll_course('riazi')\n",
    "student1.enroll_course('madar')\n",
    "student1.enroll_course('fizik')\n",
    "student1.display_info()\n",
    "student1.display_courses()\n"
   ]
  },
  {
   "cell_type": "code",
   "execution_count": 18,
   "id": "2833f5fc",
   "metadata": {},
   "outputs": [
    {
     "name": "stdout",
     "output_type": "stream",
     "text": [
      "Name: reza, Age: 23, ID: 223444\n",
      "studentID: 4001830272\n"
     ]
    }
   ],
   "source": [
    "student1.display_info()"
   ]
  },
  {
   "cell_type": "code",
   "execution_count": 34,
   "id": "ceaac04d",
   "metadata": {},
   "outputs": [],
   "source": [
    "class Person:\n",
    "    def __init__(self, name ,age):\n",
    "        self.name = name\n",
    "        self.age = age\n",
    "    \n",
    "    def display_info(self):\n",
    "        print(f\"name: {self.name}, Age: {self.age}\")\n",
    "        "
   ]
  },
  {
   "cell_type": "code",
   "execution_count": 39,
   "id": "0a545f8e",
   "metadata": {},
   "outputs": [],
   "source": [
    "class Employee(Person):\n",
    "    def __init__(self, name, age, emplyee_id):\n",
    "        super().__init__(name, age)\n",
    "        self.employee_id = emplyee_id\n",
    "    \n",
    "    def display_employee_info(self):\n",
    "        print(f\"Employee ID: {self.employee_id}\")\n",
    "        super().display_info()"
   ]
  },
  {
   "cell_type": "code",
   "execution_count": 42,
   "id": "9309bb86",
   "metadata": {},
   "outputs": [],
   "source": [
    "class Manager(Employee):\n",
    "    def __init__(self, name, age, emplyee_id, department):\n",
    "        super().__init__(name, age, emplyee_id)\n",
    "        self.department = department\n",
    "\n",
    "    def display_manager_info(self):\n",
    "        print(f\"department: {self.department}\")\n",
    "        super().display_employee_info()"
   ]
  },
  {
   "cell_type": "code",
   "execution_count": 43,
   "id": "04658afd",
   "metadata": {},
   "outputs": [],
   "source": [
    "em1 = Employee(\"reza\", 17, 4001830272)"
   ]
  },
  {
   "cell_type": "code",
   "execution_count": 44,
   "id": "754626f4",
   "metadata": {},
   "outputs": [
    {
     "name": "stdout",
     "output_type": "stream",
     "text": [
      "Employee ID: 4001830272\n",
      "name: reza, Age: 17\n"
     ]
    }
   ],
   "source": [
    "em1.display_employee_info()"
   ]
  },
  {
   "cell_type": "code",
   "execution_count": 45,
   "id": "975860f3",
   "metadata": {},
   "outputs": [],
   "source": [
    "manager1 = Manager('ali', 44, 4433, 'asli')"
   ]
  },
  {
   "cell_type": "code",
   "execution_count": 1,
   "id": "bd1d7129",
   "metadata": {},
   "outputs": [
    {
     "ename": "NameError",
     "evalue": "name 'manager1' is not defined",
     "output_type": "error",
     "traceback": [
      "\u001b[31m---------------------------------------------------------------------------\u001b[39m",
      "\u001b[31mNameError\u001b[39m                                 Traceback (most recent call last)",
      "\u001b[36mCell\u001b[39m\u001b[36m \u001b[39m\u001b[32mIn[1]\u001b[39m\u001b[32m, line 1\u001b[39m\n\u001b[32m----> \u001b[39m\u001b[32m1\u001b[39m manager1.display_manager_info()\n",
      "\u001b[31mNameError\u001b[39m: name 'manager1' is not defined"
     ]
    }
   ],
   "source": [
    "manager1.display_manager_info()"
   ]
  },
  {
   "cell_type": "code",
   "execution_count": 3,
   "id": "426ee566",
   "metadata": {},
   "outputs": [],
   "source": [
    "class Vehicle: \n",
    "    def __init__(self, make, model, year):\n",
    "        self.make = make\n",
    "        self.model = model\n",
    "        self.year = year\n",
    "\n",
    "    def display_info(self):\n",
    "        print(f\"{self.year}, {self.make}, {self.model}\")"
   ]
  },
  {
   "cell_type": "code",
   "execution_count": 4,
   "id": "87855702",
   "metadata": {},
   "outputs": [],
   "source": [
    "class Car(Vehicle):\n",
    "    def __init__(self, make, model, year, door):\n",
    "        super().__init__(make, model, year)\n",
    "        self.door = door\n",
    "\n",
    "class Truck(Vehicle):\n",
    "    def __init__(self, make, model, year, payload):\n",
    "        super().__init__(make, model, year)\n",
    "        self.payload = payload\n",
    "    \n",
    "class Motorcycle(Vehicle):\n",
    "    def __init__(self, make, model, year, cc):\n",
    "        super().__init__(make, model, year)\n",
    "        self.cc = cc"
   ]
  },
  {
   "cell_type": "code",
   "execution_count": 6,
   "id": "3d701fae",
   "metadata": {},
   "outputs": [
    {
     "name": "stdout",
     "output_type": "stream",
     "text": [
      "this animal walks\n",
      "this animal swims\n"
     ]
    }
   ],
   "source": [
    "class Walker:\n",
    "    def walk(self):\n",
    "        print(\"this animal walks\")\n",
    "    \n",
    "class Swimmer:\n",
    "    def swim(self):\n",
    "        print(\"this animal swims\")\n",
    "    \n",
    "class Alligator(Walker, Swimmer):\n",
    "    pass\n",
    "\n",
    "ally = Alligator()\n",
    "ally.walk()\n",
    "ally.swim()"
   ]
  },
  {
   "cell_type": "code",
   "execution_count": 8,
   "id": "e0e35d45",
   "metadata": {},
   "outputs": [
    {
     "data": {
      "text/plain": [
       "[__main__.Alligator, __main__.Walker, __main__.Swimmer, object]"
      ]
     },
     "execution_count": 8,
     "metadata": {},
     "output_type": "execute_result"
    }
   ],
   "source": [
    "Alligator.mro()"
   ]
  },
  {
   "cell_type": "code",
   "execution_count": 10,
   "id": "77026958",
   "metadata": {},
   "outputs": [
    {
     "data": {
      "text/plain": [
       "(__main__.Alligator, __main__.Walker, __main__.Swimmer, object)"
      ]
     },
     "execution_count": 10,
     "metadata": {},
     "output_type": "execute_result"
    }
   ],
   "source": [
    "Alligator.__mro__"
   ]
  },
  {
   "cell_type": "code",
   "execution_count": null,
   "id": "a6b0fff3",
   "metadata": {},
   "outputs": [],
   "source": [
    "# task 1\n",
    "class Person:\n",
    "    def __init__(self, name, age):\n",
    "        self.name = name\n",
    "        self.age = age\n",
    "    \n",
    "    def introduce_self(self):\n",
    "        print(f\"your welcome {self.name} with {self.age} years old\")"
   ]
  },
  {
   "cell_type": "code",
   "execution_count": 14,
   "id": "5c3d6a9f",
   "metadata": {},
   "outputs": [],
   "source": [
    "class University_Member(Person):\n",
    "    def __init__(self, name, age, university_name):\n",
    "        super().__init__(name, age)\n",
    "        self.university_name = university_name\n",
    "\n",
    "    def introduce_self(self):\n",
    "        print(f\"your welcome {self.name} with {self.age} years old at {self.university_name}\")\n",
    "        super().introduce_self()\n",
    "        print(f\"uni name is : {self.university_name}\")\n"
   ]
  },
  {
   "cell_type": "code",
   "execution_count": 15,
   "id": "a08ee613",
   "metadata": {},
   "outputs": [],
   "source": [
    "uni_mem1 = University_Member(\"reza\", 23, \"shahid madani\")"
   ]
  },
  {
   "cell_type": "code",
   "execution_count": 17,
   "id": "c65ed82a",
   "metadata": {},
   "outputs": [
    {
     "name": "stdout",
     "output_type": "stream",
     "text": [
      "your welcome reza with 23 years old at shahid madani\n",
      "your welcome reza with 23 years old\n",
      "uni name is : shahid madani\n"
     ]
    }
   ],
   "source": [
    "uni_mem1.introduce_self()"
   ]
  },
  {
   "cell_type": "code",
   "execution_count": 27,
   "id": "947f4d9c",
   "metadata": {},
   "outputs": [],
   "source": [
    "# task 2\n",
    "class Student(University_Member):\n",
    "    def __init__(self, name, age, university_name, student_id):\n",
    "        super().__init__(name, age, university_name)\n",
    "        self.student_id = student_id\n",
    "    \n",
    "    def introduce_self(self):\n",
    "        print(f\"your welcome {self.name}, with {self.age} years old at at {self.university_name} \"\n",
    "              f\"with student id : {self.student_id}\")\n",
    "        \n",
    "class Instructor(University_Member):\n",
    "    def __init__(self, name, age, university_name, employee_id):\n",
    "        super().__init__(name, age, university_name)\n",
    "        self.employee_id = employee_id\n",
    "    \n",
    "    def introduce_self(self):\n",
    "        print(f\"your welcome {self.name}, with {self.age} years old at at {self.university_name} \"\n",
    "              f\"with student id : {self.employee_id}\")\n",
    "        "
   ]
  },
  {
   "cell_type": "code",
   "execution_count": 28,
   "id": "8d9155cc",
   "metadata": {},
   "outputs": [],
   "source": [
    "stu1 = Student(\"reza\", 23, 'shahid madani', 4001830272)\n",
    "ins1 = Instructor('sara', 33, 'tehran', 44332211)"
   ]
  },
  {
   "cell_type": "code",
   "execution_count": 29,
   "id": "b8631907",
   "metadata": {},
   "outputs": [
    {
     "name": "stdout",
     "output_type": "stream",
     "text": [
      "your welcome reza, with 23 years old at at shahid madani with student id : 4001830272\n",
      "your welcome sara, with 33 years old at at tehran with student id : 44332211\n"
     ]
    }
   ],
   "source": [
    "stu1.introduce_self()\n",
    "ins1.introduce_self()"
   ]
  },
  {
   "cell_type": "code",
   "execution_count": 33,
   "id": "fe6edf99",
   "metadata": {},
   "outputs": [
    {
     "name": "stdout",
     "output_type": "stream",
     "text": [
      "(<class '__main__.Student'>, <class '__main__.University_Member'>, <class '__main__.Person'>, <class 'object'>)\n",
      "[<class '__main__.Instructor'>, <class '__main__.University_Member'>, <class '__main__.Person'>, <class 'object'>]\n"
     ]
    }
   ],
   "source": [
    "# task 3\n",
    "print(Student.__mro__)\n",
    "print(Instructor.mro())"
   ]
  },
  {
   "cell_type": "code",
   "execution_count": null,
   "id": "9474f2ca",
   "metadata": {},
   "outputs": [],
   "source": []
  }
 ],
 "metadata": {
  "kernelspec": {
   "display_name": "python3.3",
   "language": "python",
   "name": "python3"
  },
  "language_info": {
   "codemirror_mode": {
    "name": "ipython",
    "version": 3
   },
   "file_extension": ".py",
   "mimetype": "text/x-python",
   "name": "python",
   "nbconvert_exporter": "python",
   "pygments_lexer": "ipython3",
   "version": "3.13.5"
  }
 },
 "nbformat": 4,
 "nbformat_minor": 5
}
