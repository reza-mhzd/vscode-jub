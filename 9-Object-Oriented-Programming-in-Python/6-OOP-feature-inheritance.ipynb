{
 "cells": [
  {
   "cell_type": "code",
   "execution_count": 17,
   "id": "77754620",
   "metadata": {},
   "outputs": [],
   "source": [
    "class Vehicle:\n",
    "    def __init__(self, make , model):\n",
    "        self.make = make\n",
    "        self.model = model\n",
    "    \n",
    "    def print_info(self):\n",
    "        print(f\"{self.make}, {self.model}\")\n",
    "    \n",
    "class Car(Vehicle):\n",
    "    def __init__(self, make, model, trunk_capacity):\n",
    "        super().__init__(make, model)\n",
    "        self.trunk_capacity = trunk_capacity\n",
    "    "
   ]
  },
  {
   "cell_type": "code",
   "execution_count": 19,
   "id": "c4f67e49",
   "metadata": {},
   "outputs": [
    {
     "name": "stdout",
     "output_type": "stream",
     "text": [
      "1977, suzoki\n",
      "1111, djddjdj\n"
     ]
    }
   ],
   "source": [
    "car1 = Car('1977', 'suzoki', 7)\n",
    "car1.print_info()\n",
    "veh = Vehicle('1111', 'djddjdj')\n",
    "veh.print_info()"
   ]
  },
  {
   "cell_type": "code",
   "execution_count": null,
   "id": "8f1ac5d0",
   "metadata": {},
   "outputs": [],
   "source": [
    "# task1\n",
    "class Employee:\n",
    "    def __init__(self, name, email):\n",
    "        self.name = name\n",
    "        self.email = email\n",
    "    \n",
    "    def get_info(self):\n",
    "        print(f\"employee's name {self.name}\\nemployee's email {self.email}\")"
   ]
  },
  {
   "cell_type": "code",
   "execution_count": 25,
   "id": "fbac7c8a",
   "metadata": {},
   "outputs": [],
   "source": [
    "# task2\n",
    "class Manager(Employee):\n",
    "    def __init__(self, name, email, department):\n",
    "        super().__init__(name, email)\n",
    "        self.department = department\n",
    "\n",
    "    def get_info(self):\n",
    "        print(f\"manager info:\\n  name: {self.name}\\n  {self.email}\\n  {self.department}\")"
   ]
  },
  {
   "cell_type": "code",
   "execution_count": 26,
   "id": "c779008c",
   "metadata": {},
   "outputs": [
    {
     "name": "stdout",
     "output_type": "stream",
     "text": [
      "employee's name ali\n",
      "employee's email alimohammadi@gmail.com\n",
      "\n",
      "\n",
      "\n",
      "\n",
      "manager info:\n",
      "  name: reza\n",
      "  rezamohammmadizadeh0419@gamil.com\n",
      "  adari\n"
     ]
    }
   ],
   "source": [
    "emp1 = Employee('ali', 'alimohammadi@gmail.com')\n",
    "emp1.get_info()\n",
    "print(\"\\n\\n\\n\")\n",
    "man1 = Manager('reza', 'rezamohammmadizadeh0419@gamil.com', 'adari')\n",
    "man1.get_info()"
   ]
  },
  {
   "cell_type": "code",
   "execution_count": null,
   "id": "04be81b4",
   "metadata": {},
   "outputs": [],
   "source": []
  }
 ],
 "metadata": {
  "kernelspec": {
   "display_name": "python3.3",
   "language": "python",
   "name": "python3"
  },
  "language_info": {
   "codemirror_mode": {
    "name": "ipython",
    "version": 3
   },
   "file_extension": ".py",
   "mimetype": "text/x-python",
   "name": "python",
   "nbconvert_exporter": "python",
   "pygments_lexer": "ipython3",
   "version": "3.13.5"
  }
 },
 "nbformat": 4,
 "nbformat_minor": 5
}
