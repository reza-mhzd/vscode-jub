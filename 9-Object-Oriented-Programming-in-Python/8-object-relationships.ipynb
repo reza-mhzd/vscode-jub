{
 "cells": [
  {
   "cell_type": "code",
   "execution_count": null,
   "id": "47e41f1e",
   "metadata": {},
   "outputs": [],
   "source": [
    "class Stethoscope:\n",
    "    def __init__(self, brand):\n",
    "        self.brand = brand\n",
    "    \n",
    "    def use(self):\n",
    "        print(f\"using {self.brand} stethoscope.\")\n",
    "\n",
    "class Doctor:\n",
    "    def __init__(self, name):\n",
    "        self.name = name\n",
    "    \n",
    "    def check_patient(self, stethoscope):\n",
    "        print(f\"{self.name} is checking the patient.\")\n",
    "        stethoscope.use()\n",
    "    "
   ]
  },
  {
   "cell_type": "code",
   "execution_count": 13,
   "id": "1038f2eb",
   "metadata": {},
   "outputs": [],
   "source": [
    "my_stethosecope = Stethoscope(\"Littmann\")"
   ]
  },
  {
   "cell_type": "code",
   "execution_count": 14,
   "id": "ccd1af9b",
   "metadata": {},
   "outputs": [
    {
     "name": "stdout",
     "output_type": "stream",
     "text": [
      "using Littmann stethoscope.\n"
     ]
    }
   ],
   "source": [
    "my_stethosecope.use()"
   ]
  },
  {
   "cell_type": "code",
   "execution_count": 15,
   "id": "bd1e08d9",
   "metadata": {},
   "outputs": [],
   "source": [
    "doc1 = Doctor('ali')"
   ]
  },
  {
   "cell_type": "code",
   "execution_count": 16,
   "id": "2b4d65bc",
   "metadata": {},
   "outputs": [
    {
     "name": "stdout",
     "output_type": "stream",
     "text": [
      "ali is checking the patient.\n",
      "using Littmann stethoscope.\n"
     ]
    }
   ],
   "source": [
    "doc1.check_patient(my_stethosecope)"
   ]
  },
  {
   "cell_type": "code",
   "execution_count": null,
   "id": "99c039a1",
   "metadata": {},
   "outputs": [],
   "source": [
    "class Dog:\n",
    "    def __init__(self, name):\n",
    "        self.name = name\n",
    "        \n",
    "    def play(self):\n",
    "        print(f\"{self.name} is playing.\")\n",
    "\n",
    "class Owner:\n",
    "    def __init__(self, name):\n",
    "        self.name = name\n",
    "        self.dogs = []\n",
    "    \n",
    "    def add_dog(self, dog):\n",
    "        self.dogs.append(dog)\n",
    "    \n",
    "    def paly_with_dogs(self):\n",
    "        print(f\"{self.name} is palying with their dogs.\")\n",
    "        for dog in self.dogs:\n",
    "            dog.play()\n"
   ]
  },
  {
   "cell_type": "code",
   "execution_count": 23,
   "id": "9679acd6",
   "metadata": {},
   "outputs": [],
   "source": [
    "buddy = Dog(\"buddy\")\n",
    "rover = Dog(\"Rover\")\n",
    "jane = Owner(\"Jane\")"
   ]
  },
  {
   "cell_type": "code",
   "execution_count": 24,
   "id": "f21ae83d",
   "metadata": {},
   "outputs": [],
   "source": [
    "jane.add_dog(buddy)\n",
    "jane.add_dog(rover)"
   ]
  },
  {
   "cell_type": "code",
   "execution_count": 25,
   "id": "ce511247",
   "metadata": {},
   "outputs": [
    {
     "name": "stdout",
     "output_type": "stream",
     "text": [
      "Jane is palying with their dogs.\n",
      "buddy is playing.\n",
      "Rover is playing.\n"
     ]
    }
   ],
   "source": [
    "jane.paly_with_dogs()"
   ]
  },
  {
   "cell_type": "code",
   "execution_count": 2,
   "id": "abacc6a5",
   "metadata": {},
   "outputs": [],
   "source": [
    "class Player:\n",
    "    def __init__(self, name):\n",
    "        self.name = name\n",
    "\n",
    "class Team:\n",
    "    def __init__(self, name):\n",
    "        self.name = name\n",
    "        self.players = []\n",
    "\n",
    "    def add_player(self, player):\n",
    "        self.players.append(player)\n",
    "\n",
    "    def remove_player(self, player):\n",
    "        self.players.remove(player)\n",
    "    \n",
    "    def print_players(self):\n",
    "        print(f\"the players: \")\n",
    "        for index, player in enumerate(self.players, start=1):\n",
    "            print(f\" {index} : {player.name}\")"
   ]
  },
  {
   "cell_type": "code",
   "execution_count": 3,
   "id": "636efd5a",
   "metadata": {},
   "outputs": [],
   "source": [
    "player1 = Player('reza')\n",
    "player2 = Player('mina')\n",
    "player3 = Player('sara')\n",
    "\n",
    "team = Team(\"Teharn\")\n",
    "team.add_player(player1)\n",
    "team.add_player(player2)\n",
    "team.add_player(player3)"
   ]
  },
  {
   "cell_type": "code",
   "execution_count": 4,
   "id": "6961f46b",
   "metadata": {},
   "outputs": [
    {
     "name": "stdout",
     "output_type": "stream",
     "text": [
      "the players: \n",
      " 1 : reza\n",
      " 2 : mina\n",
      " 3 : sara\n"
     ]
    }
   ],
   "source": [
    "team.print_players()"
   ]
  },
  {
   "cell_type": "code",
   "execution_count": null,
   "id": "5c4df06c",
   "metadata": {},
   "outputs": [],
   "source": [
    "class Collar:\n",
    "    def __init__(self, color):\n",
    "        self.color = color\n",
    "    \n",
    "class Dog:\n",
    "    def __init__(self, name):\n",
    "        self.name = name\n",
    "        self.collar = None\n",
    "\n",
    "    def add_collar(self, collar):\n",
    "        self.collar = collar\n",
    "\n",
    "    def remove_collar(self):\n",
    "        self.collar = None\n",
    "    \n",
    "    def print_collar_and_owner(self, collar):\n",
    "        print(f\"{self.name} is owner the {collar.color} collar\")  "
   ]
  },
  {
   "cell_type": "code",
   "execution_count": null,
   "id": "76e39200",
   "metadata": {},
   "outputs": [],
   "source": [
    "blue_collar = Collar(\"blue\")"
   ]
  },
  {
   "cell_type": "code",
   "execution_count": 11,
   "id": "dea80de3",
   "metadata": {},
   "outputs": [
    {
     "name": "stdout",
     "output_type": "stream",
     "text": [
      "buddy is owner the bule collar\n"
     ]
    }
   ],
   "source": [
    "buddy = Dog(\"buddy\")\n",
    "buddy.add_collar(blue_collar)\n",
    "buddy.print_collar_and_owner(blue_collar)"
   ]
  },
  {
   "cell_type": "code",
   "execution_count": 17,
   "id": "58599949",
   "metadata": {},
   "outputs": [],
   "source": [
    "buddy.remove_collar()"
   ]
  },
  {
   "cell_type": "code",
   "execution_count": 18,
   "id": "25a4f55e",
   "metadata": {},
   "outputs": [],
   "source": [
    "rover = Dog(\"rover\")\n",
    "rover.add_collar(blue_collar)"
   ]
  },
  {
   "cell_type": "code",
   "execution_count": 20,
   "id": "d9fadc35",
   "metadata": {},
   "outputs": [
    {
     "name": "stdout",
     "output_type": "stream",
     "text": [
      "rover is owner the bule collar\n"
     ]
    }
   ],
   "source": [
    "rover.print_collar_and_owner(blue_collar)"
   ]
  },
  {
   "cell_type": "code",
   "execution_count": 1,
   "id": "9b9c6ac6",
   "metadata": {},
   "outputs": [],
   "source": [
    "class Processor:\n",
    "    def __init__(self, name):\n",
    "        self.name = name"
   ]
  },
  {
   "cell_type": "code",
   "execution_count": 2,
   "id": "ff57f564",
   "metadata": {},
   "outputs": [],
   "source": [
    "class Memory:\n",
    "    def __init__(self, size):\n",
    "        self.size = size"
   ]
  },
  {
   "cell_type": "code",
   "execution_count": null,
   "id": "2b43979f",
   "metadata": {},
   "outputs": [],
   "source": [
    "class HardDrive:\n",
    "    def __init__(self, capacity):\n",
    "        self.capacity = capacity"
   ]
  },
  {
   "cell_type": "code",
   "execution_count": 4,
   "id": "07a437e5",
   "metadata": {},
   "outputs": [],
   "source": [
    "class Computer:\n",
    "    def __init__(self):\n",
    "        self.processor = Processor(\"INtel i7\")\n",
    "        self.memory = Memory(16)\n",
    "        self.hard_drive = HardDrive(1)\n",
    "\n",
    "    def describe(self):\n",
    "        print(f\"Computer with {self.processor.name} processor, {self.memory.size}GB RAM, and {self.hard_drive.capacity} TB storage.\")"
   ]
  },
  {
   "cell_type": "code",
   "execution_count": 6,
   "id": "35c73523",
   "metadata": {},
   "outputs": [
    {
     "name": "stdout",
     "output_type": "stream",
     "text": [
      "Computer with INtel i7 processor, 16GB RAM, and 1 TB storage.\n"
     ]
    }
   ],
   "source": [
    "my_computer = Computer()\n",
    "my_computer.describe()"
   ]
  },
  {
   "cell_type": "code",
   "execution_count": 9,
   "id": "bc5c8a1c",
   "metadata": {},
   "outputs": [],
   "source": [
    "class Tail:\n",
    "    def __init__(self, length):\n",
    "        self.length = length\n",
    "\n",
    "    def wag(self):\n",
    "        print(\"The tail is wagging.\")"
   ]
  },
  {
   "cell_type": "code",
   "execution_count": 10,
   "id": "ed2c5223",
   "metadata": {},
   "outputs": [],
   "source": [
    "class Dog:\n",
    "    def __init__(self, name):\n",
    "        self.name = name\n",
    "        self.tail = Tail(20)\n",
    "\n",
    "    def wag_tail(self):\n",
    "        print(f\"{self.name} is happy!\")\n",
    "        self.tail.wag()"
   ]
  },
  {
   "cell_type": "code",
   "execution_count": 11,
   "id": "fbb7c170",
   "metadata": {},
   "outputs": [
    {
     "name": "stdout",
     "output_type": "stream",
     "text": [
      "Buddy is happy!\n",
      "The tail is wagging.\n"
     ]
    }
   ],
   "source": [
    "buddy = Dog(\"Buddy\")\n",
    "buddy.wag_tail()"
   ]
  },
  {
   "cell_type": "code",
   "execution_count": 26,
   "id": "4e3b7133",
   "metadata": {},
   "outputs": [],
   "source": [
    "class Zookeepers:\n",
    "    def __init__(self, zoo_name, numbers=0):\n",
    "        self.numbers_of_zookeepers = numbers\n",
    "        self.zoo_name = zoo_name\n",
    "        self.name_zookeepers = []\n",
    "\n",
    "    def add_worker(self, first_last_name):\n",
    "        self.name_zookeepers.append(first_last_name)\n",
    "        self.add_number_of_worker()\n",
    "    \n",
    "    def add_number_of_worker(self):\n",
    "        self.numbers_of_zookeepers += 1\n",
    "\n",
    "\n",
    "    def describe_works(self, ob_tool):\n",
    "        print(f\"we have {self.numbers_of_zookeepers} zookeepers in {self.zoo_name} zoo.\\n\"\n",
    "              f\"they are careful and smart them name are : {self.name_zookeepers}\\n\"\n",
    "              f\"they use special tools for protect from animals like :{ob_tool.print_tools()}\")\n",
    "    \n",
    "class Tools:\n",
    "    def __init__(self):\n",
    "        self.tools = set()\n",
    "\n",
    "    def add_tools(self, tool_name):\n",
    "        self.tools.add(tool_name)\n",
    "    \n",
    "    def print_tools(self):\n",
    "        return (self.tools)\n"
   ]
  },
  {
   "cell_type": "code",
   "execution_count": 27,
   "id": "60fe7032",
   "metadata": {},
   "outputs": [],
   "source": [
    "zoo1 = Zookeepers(\"shahid madani\")\n",
    "zoo1.add_worker('reza mohamadizadeh')\n"
   ]
  },
  {
   "cell_type": "code",
   "execution_count": 28,
   "id": "72e6395f",
   "metadata": {},
   "outputs": [],
   "source": [
    "tool1 = Tools()\n",
    "tool1.add_tools(\"Fencing\")"
   ]
  },
  {
   "cell_type": "code",
   "execution_count": 29,
   "id": "e7566b2a",
   "metadata": {},
   "outputs": [
    {
     "name": "stdout",
     "output_type": "stream",
     "text": [
      "we have 1 zookeepers in shahid madani zoo.\n",
      "they are careful and smart them name are : ['reza mohamadizadeh']\n",
      "they use special tools for protect from animals like :{'Fencing'}\n"
     ]
    }
   ],
   "source": [
    "zoo1.describe_works(tool1)"
   ]
  },
  {
   "cell_type": "code",
   "execution_count": 34,
   "id": "b0cd0440",
   "metadata": {},
   "outputs": [],
   "source": [
    "class Animal:\n",
    "    def __init__(self, name):\n",
    "        self.name = name\n",
    "\n",
    "class Habitat:\n",
    "    def __init__(self):\n",
    "        self.animals = []\n",
    "    \n",
    "    def add_animal(self, animal):\n",
    "        self.animals.append(animal)\n",
    "\n",
    "    def remove_animal(self, animal):\n",
    "        self.animals.remove(animal)"
   ]
  },
  {
   "cell_type": "code",
   "execution_count": 35,
   "id": "cfc94f1c",
   "metadata": {},
   "outputs": [],
   "source": [
    "lion_habitat = Habitat()\n",
    "zebra_habitat = Habitat()\n",
    "leo = Animal(\"Leo the Lion\")\n",
    "lion_habitat.add_animal(leo)\n",
    "lion_habitat.remove_animal(leo)\n"
   ]
  },
  {
   "cell_type": "code",
   "execution_count": null,
   "id": "4c7f716e",
   "metadata": {},
   "outputs": [],
   "source": [
    "class Zoo:\n",
    "    def __init__(self):\n",
    "        self.habitats = []\n",
    "    \n",
    "    def add_habitat(self, habitat):\n",
    "        self.habitats.append(habitat)\n",
    "    \n",
    "    def __del__(self):\n",
    "        print(\"Closeing the zoo and removing all habitats\")\n",
    "        del self.habitats"
   ]
  }
 ],
 "metadata": {
  "kernelspec": {
   "display_name": "python3.3",
   "language": "python",
   "name": "python3"
  },
  "language_info": {
   "codemirror_mode": {
    "name": "ipython",
    "version": 3
   },
   "file_extension": ".py",
   "mimetype": "text/x-python",
   "name": "python",
   "nbconvert_exporter": "python",
   "pygments_lexer": "ipython3",
   "version": "3.13.5"
  }
 },
 "nbformat": 4,
 "nbformat_minor": 5
}
