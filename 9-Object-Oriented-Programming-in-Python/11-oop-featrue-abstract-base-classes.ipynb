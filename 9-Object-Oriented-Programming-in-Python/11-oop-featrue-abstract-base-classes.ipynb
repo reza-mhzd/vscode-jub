{
 "cells": [
  {
   "cell_type": "code",
   "execution_count": 4,
   "id": "e895ba52",
   "metadata": {},
   "outputs": [],
   "source": [
    "from abc import ABC, abstractmethod"
   ]
  },
  {
   "cell_type": "code",
   "execution_count": 3,
   "id": "d91c0ed7",
   "metadata": {},
   "outputs": [],
   "source": [
    "class Shape(ABC):\n",
    "    @abstractmethod\n",
    "    def area(self):\n",
    "        pass\n",
    "\n",
    "    @abstractmethod\n",
    "    def perimeter(self):\n",
    "        pass\n",
    "\n",
    "class Rectangle(Shape):\n",
    "    def __init__(self, width, height):\n",
    "        self.width = width\n",
    "        self.height = height\n",
    "    \n",
    "    def area(self):\n",
    "        return self.width * self.height\n",
    "    \n",
    "    def perimeter(self):\n",
    "        return 2 * (self.width + self.height)"
   ]
  },
  {
   "cell_type": "code",
   "execution_count": 4,
   "id": "2dee12ff",
   "metadata": {},
   "outputs": [
    {
     "ename": "TypeError",
     "evalue": "Can't instantiate abstract class Shape without an implementation for abstract methods 'area', 'perimeter'",
     "output_type": "error",
     "traceback": [
      "\u001b[31m---------------------------------------------------------------------------\u001b[39m",
      "\u001b[31mTypeError\u001b[39m                                 Traceback (most recent call last)",
      "\u001b[36mCell\u001b[39m\u001b[36m \u001b[39m\u001b[32mIn[4]\u001b[39m\u001b[32m, line 1\u001b[39m\n\u001b[32m----> \u001b[39m\u001b[32m1\u001b[39m shape = Shape()\n",
      "\u001b[31mTypeError\u001b[39m: Can't instantiate abstract class Shape without an implementation for abstract methods 'area', 'perimeter'"
     ]
    }
   ],
   "source": [
    "shape = Shape()"
   ]
  },
  {
   "cell_type": "code",
   "execution_count": 5,
   "id": "6e112df9",
   "metadata": {},
   "outputs": [],
   "source": [
    "rectangle = Rectangle(10, 20)"
   ]
  },
  {
   "cell_type": "code",
   "execution_count": 6,
   "id": "ef5f0996",
   "metadata": {},
   "outputs": [
    {
     "data": {
      "text/plain": [
       "200"
      ]
     },
     "execution_count": 6,
     "metadata": {},
     "output_type": "execute_result"
    }
   ],
   "source": [
    "rectangle.area()"
   ]
  },
  {
   "cell_type": "code",
   "execution_count": 7,
   "id": "0b9bbe11",
   "metadata": {},
   "outputs": [
    {
     "data": {
      "text/plain": [
       "60"
      ]
     },
     "execution_count": 7,
     "metadata": {},
     "output_type": "execute_result"
    }
   ],
   "source": [
    "rectangle.perimeter()"
   ]
  },
  {
   "cell_type": "code",
   "execution_count": 5,
   "id": "6e446faf",
   "metadata": {},
   "outputs": [],
   "source": [
    "class MyAbstractClass(ABC):\n",
    "    @abstractmethod\n",
    "    def an_abstract_method(self):\n",
    "        pass"
   ]
  },
  {
   "cell_type": "code",
   "execution_count": 6,
   "id": "6458def2",
   "metadata": {},
   "outputs": [],
   "source": [
    "class ConcreteClass(MyAbstractClass):\n",
    "    def an_abstract_method(self):\n",
    "        print(\"implementation of abstract method\")"
   ]
  },
  {
   "cell_type": "code",
   "execution_count": 7,
   "id": "c2413b9d",
   "metadata": {},
   "outputs": [
    {
     "name": "stdout",
     "output_type": "stream",
     "text": [
      "implementation of abstract method\n"
     ]
    }
   ],
   "source": [
    "concrete_class = ConcreteClass()\n",
    "concrete_class.an_abstract_method()"
   ]
  },
  {
   "cell_type": "code",
   "execution_count": 8,
   "id": "c59f05e2",
   "metadata": {},
   "outputs": [],
   "source": [
    "from abc import ABC, abstractmethod"
   ]
  },
  {
   "cell_type": "code",
   "execution_count": 13,
   "id": "ca8ba74e",
   "metadata": {},
   "outputs": [],
   "source": [
    "class PaymentProcessor(ABC):\n",
    "\n",
    "    @abstractmethod\n",
    "    def process_payment(self, amount):\n",
    "        \"\"\"\n",
    "        processes payment for a specified amount.\n",
    "        \"\"\"\n",
    "        pass\n",
    "\n",
    "class CreditCardPaymentProcessor(PaymentProcessor):\n",
    "\n",
    "    pass\n",
    "\n",
    "class PayPalPaymentProcessor(PaymentProcessor):\n",
    "\n",
    "    def process_payment(self, amount):\n",
    "        print(f\"Processing PayPal payment for ${amount}\")"
   ]
  },
  {
   "cell_type": "code",
   "execution_count": 14,
   "id": "bc71b5c8",
   "metadata": {},
   "outputs": [
    {
     "ename": "TypeError",
     "evalue": "Can't instantiate abstract class CreditCardPaymentProcessor without an implementation for abstract method 'process_payment'",
     "output_type": "error",
     "traceback": [
      "\u001b[31m---------------------------------------------------------------------------\u001b[39m",
      "\u001b[31mTypeError\u001b[39m                                 Traceback (most recent call last)",
      "\u001b[36mCell\u001b[39m\u001b[36m \u001b[39m\u001b[32mIn[14]\u001b[39m\u001b[32m, line 1\u001b[39m\n\u001b[32m----> \u001b[39m\u001b[32m1\u001b[39m processor = CreditCardPaymentProcessor()\n",
      "\u001b[31mTypeError\u001b[39m: Can't instantiate abstract class CreditCardPaymentProcessor without an implementation for abstract method 'process_payment'"
     ]
    }
   ],
   "source": [
    "processor = CreditCardPaymentProcessor()\n"
   ]
  },
  {
   "cell_type": "code",
   "execution_count": null,
   "id": "707b4d58",
   "metadata": {},
   "outputs": [],
   "source": []
  }
 ],
 "metadata": {
  "kernelspec": {
   "display_name": "python3.3",
   "language": "python",
   "name": "python3"
  },
  "language_info": {
   "codemirror_mode": {
    "name": "ipython",
    "version": 3
   },
   "file_extension": ".py",
   "mimetype": "text/x-python",
   "name": "python",
   "nbconvert_exporter": "python",
   "pygments_lexer": "ipython3",
   "version": "3.13.5"
  }
 },
 "nbformat": 4,
 "nbformat_minor": 5
}
