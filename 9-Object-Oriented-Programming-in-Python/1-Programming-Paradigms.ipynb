{
 "cells": [
  {
   "cell_type": "code",
   "execution_count": null,
   "id": "73d2daeb",
   "metadata": {},
   "outputs": [],
   "source": [
    "def sum_of_evens(numbers):\n",
    "    total = 0\n",
    "    for num in numbers:\n",
    "        if num % 2 == 0:\n",
    "            total += num\n",
    "    return total"
   ]
  },
  {
   "cell_type": "code",
   "execution_count": null,
   "id": "83e6393f",
   "metadata": {},
   "outputs": [
    {
     "data": {
      "text/plain": [
       "12"
      ]
     },
     "execution_count": 7,
     "metadata": {},
     "output_type": "execute_result"
    }
   ],
   "source": [
    "numbers = [1, 2, 3, 4, 5, 6]\n",
    "res = sum_of_evens(numbers)\n",
    "res\n",
    "    "
   ]
  },
  {
   "cell_type": "code",
   "execution_count": 8,
   "id": "acba63ff",
   "metadata": {},
   "outputs": [],
   "source": [
    "class Circle:\n",
    "    pi = 3.14159\n",
    "\n",
    "    def __init__(self, raduse):\n",
    "        self.raduse = raduse\n",
    "\n",
    "    def calculate_area(self):\n",
    "        return self.pi *(self.raduse ** 2)        "
   ]
  },
  {
   "cell_type": "code",
   "execution_count": 10,
   "id": "aa25cb88",
   "metadata": {},
   "outputs": [
    {
     "name": "stdout",
     "output_type": "stream",
     "text": [
      "the area of circle1 wit radius 5 is 78.53975.\n",
      "the area of circle1 wit radius 10 is 314.159.\n"
     ]
    }
   ],
   "source": [
    "circle1 = Circle(5)\n",
    "circle2 = Circle(10)\n",
    "\n",
    "print(f'the area of circle1 wit radius {circle1.raduse} is {circle1.calculate_area()}.')\n",
    "print(f'the area of circle1 wit radius {circle2.raduse} is {circle2.calculate_area()}.')"
   ]
  },
  {
   "cell_type": "code",
   "execution_count": null,
   "id": "5dd3e07a",
   "metadata": {},
   "outputs": [],
   "source": [
    "numbers "
   ]
  }
 ],
 "metadata": {
  "kernelspec": {
   "display_name": "python3.3",
   "language": "python",
   "name": "python3"
  },
  "language_info": {
   "codemirror_mode": {
    "name": "ipython",
    "version": 3
   },
   "file_extension": ".py",
   "mimetype": "text/x-python",
   "name": "python",
   "nbconvert_exporter": "python",
   "pygments_lexer": "ipython3",
   "version": "3.13.5"
  }
 },
 "nbformat": 4,
 "nbformat_minor": 5
}
