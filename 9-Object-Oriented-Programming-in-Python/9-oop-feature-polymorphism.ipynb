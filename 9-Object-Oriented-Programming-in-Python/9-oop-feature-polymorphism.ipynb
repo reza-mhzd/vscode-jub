{
 "cells": [
  {
   "cell_type": "code",
   "execution_count": 9,
   "id": "19e1c6d0",
   "metadata": {},
   "outputs": [
    {
     "name": "stdout",
     "output_type": "stream",
     "text": [
      "this is a motorcycle\n"
     ]
    }
   ],
   "source": [
    "class Vehicle:\n",
    "    def display_info(self):\n",
    "        print(\"This is a vehicle\")\n",
    "    \n",
    "class Car(Vehicle):\n",
    "    def display_info(self):\n",
    "        print(\"this is a car\")\n",
    "\n",
    "class Motorcycle(Vehicle):\n",
    "    print(\"this is a motorcycle\")"
   ]
  },
  {
   "cell_type": "code",
   "execution_count": 10,
   "id": "15ebe9d2",
   "metadata": {},
   "outputs": [],
   "source": [
    "def vehicle_info(vehicle):\n",
    "    vehicle.display_info()"
   ]
  },
  {
   "cell_type": "code",
   "execution_count": 11,
   "id": "c0d60abf",
   "metadata": {},
   "outputs": [],
   "source": [
    "car = Car()\n",
    "motorcycle = Motorcycle()"
   ]
  },
  {
   "cell_type": "code",
   "execution_count": 12,
   "id": "3f4b04a0",
   "metadata": {},
   "outputs": [
    {
     "name": "stdout",
     "output_type": "stream",
     "text": [
      "this is a car\n"
     ]
    }
   ],
   "source": [
    "vehicle_info(car)"
   ]
  },
  {
   "cell_type": "code",
   "execution_count": 13,
   "id": "9deab667",
   "metadata": {},
   "outputs": [
    {
     "name": "stdout",
     "output_type": "stream",
     "text": [
      "This is a vehicle\n"
     ]
    }
   ],
   "source": [
    "vehicle_info(motorcycle)"
   ]
  },
  {
   "cell_type": "code",
   "execution_count": null,
   "id": "d6d5e672",
   "metadata": {},
   "outputs": [],
   "source": [
    "class Animal:\n",
    "    def speak(self):\n",
    "        return \"this animal does not have a sound\"\n",
    "    \n",
    "class Dog(Animal):\n",
    "    def speak(self):\n",
    "        return \"woof!\"\n",
    "\n",
    "class Cat(Animal):\n",
    "    def speak(self):\n",
    "        return \"meow\""
   ]
  },
  {
   "cell_type": "code",
   "execution_count": 15,
   "id": "d4817071",
   "metadata": {},
   "outputs": [],
   "source": [
    "dog = Dog()\n",
    "cat = Cat()"
   ]
  },
  {
   "cell_type": "code",
   "execution_count": 16,
   "id": "212ec096",
   "metadata": {},
   "outputs": [
    {
     "data": {
      "text/plain": [
       "'woof!'"
      ]
     },
     "execution_count": 16,
     "metadata": {},
     "output_type": "execute_result"
    }
   ],
   "source": [
    "dog.speak()"
   ]
  },
  {
   "cell_type": "code",
   "execution_count": 17,
   "id": "0e734ad4",
   "metadata": {},
   "outputs": [
    {
     "data": {
      "text/plain": [
       "'meow'"
      ]
     },
     "execution_count": 17,
     "metadata": {},
     "output_type": "execute_result"
    }
   ],
   "source": [
    "cat.speak()"
   ]
  },
  {
   "cell_type": "code",
   "execution_count": 19,
   "id": "3c59baf4",
   "metadata": {},
   "outputs": [
    {
     "name": "stdout",
     "output_type": "stream",
     "text": [
      "woof!\n",
      "meow\n"
     ]
    }
   ],
   "source": [
    "animals = [Dog(), Cat()]\n",
    "for animal in animals:\n",
    "    print(animal.speak())"
   ]
  },
  {
   "cell_type": "code",
   "execution_count": null,
   "id": "fa62a7a7",
   "metadata": {},
   "outputs": [
    {
     "name": "stdout",
     "output_type": "stream",
     "text": [
      "2\n",
      "2\n",
      "h\n"
     ]
    }
   ],
   "source": [
    "def fetch_item(collection, position):\n",
    "    return collection[position]\n",
    "\n",
    "print(fetch_item([1, 2,3 ], 1)) # output: 2\n",
    "print(fetch_item({'a':1, 'b':2}, 'b')) # output: 2\n",
    "print(fetch_item('python', 3)) # output: h"
   ]
  },
  {
   "cell_type": "code",
   "execution_count": 21,
   "id": "4d0663d2",
   "metadata": {},
   "outputs": [
    {
     "data": {
      "text/plain": [
       "2"
      ]
     },
     "execution_count": 21,
     "metadata": {},
     "output_type": "execute_result"
    }
   ],
   "source": [
    "fetch_item([1, 2,3 ], 1)"
   ]
  },
  {
   "cell_type": "code",
   "execution_count": 22,
   "id": "89b50886",
   "metadata": {},
   "outputs": [
    {
     "data": {
      "text/plain": [
       "2"
      ]
     },
     "execution_count": 22,
     "metadata": {},
     "output_type": "execute_result"
    }
   ],
   "source": [
    "fetch_item({'a':1, 'b':2}, 'b')"
   ]
  },
  {
   "cell_type": "code",
   "execution_count": 23,
   "id": "98f9675f",
   "metadata": {},
   "outputs": [
    {
     "data": {
      "text/plain": [
       "'h'"
      ]
     },
     "execution_count": 23,
     "metadata": {},
     "output_type": "execute_result"
    }
   ],
   "source": [
    "fetch_item('python', 3)"
   ]
  },
  {
   "cell_type": "code",
   "execution_count": 26,
   "id": "5a19f0f3",
   "metadata": {},
   "outputs": [],
   "source": [
    "class Document:\n",
    "    def display(self):\n",
    "        print(\"Diplayig a document\")\n",
    "\n",
    "class PDF(Document):\n",
    "    def display(self):\n",
    "        print(\"displaying a PDF\")\n",
    "\n",
    "class Word(Document):\n",
    "    def display(self):\n",
    "        print(\"displaying a Word\")\n",
    "\n",
    "class Spreadsheet(Document):\n",
    "    def display(self):\n",
    "        print(\"displaying a Spreadsheet\")"
   ]
  },
  {
   "cell_type": "code",
   "execution_count": null,
   "id": "b86181e7",
   "metadata": {},
   "outputs": [],
   "source": [
    "def display_document(ob_document):\n",
    "    ob_document.display()"
   ]
  },
  {
   "cell_type": "code",
   "execution_count": 29,
   "id": "4e4f7c35",
   "metadata": {},
   "outputs": [
    {
     "name": "stdout",
     "output_type": "stream",
     "text": [
      "displaying a PDF\n",
      "displaying a Word\n",
      "displaying a Spreadsheet\n"
     ]
    }
   ],
   "source": [
    "pdf = PDF()\n",
    "word = Word()\n",
    "spr = Spreadsheet()\n",
    "documents = [pdf, word, spr]\n",
    "\n",
    "for doc in documents:\n",
    "    display_document(doc)"
   ]
  },
  {
   "cell_type": "code",
   "execution_count": 30,
   "id": "d46eebb6",
   "metadata": {},
   "outputs": [],
   "source": [
    "def change_document_type(doc_ob, class_type):\n",
    "    return class_type()"
   ]
  },
  {
   "cell_type": "code",
   "execution_count": 32,
   "id": "0e70e407",
   "metadata": {},
   "outputs": [
    {
     "name": "stdout",
     "output_type": "stream",
     "text": [
      "displaying a PDF\n"
     ]
    }
   ],
   "source": [
    "current_document = PDF()\n",
    "current_document.display()\n",
    "current_document = change_document_type(current_document, Word)"
   ]
  },
  {
   "cell_type": "code",
   "execution_count": 33,
   "id": "eb8650e0",
   "metadata": {},
   "outputs": [
    {
     "name": "stdout",
     "output_type": "stream",
     "text": [
      "displaying a Word\n"
     ]
    }
   ],
   "source": [
    "current_document.display()"
   ]
  },
  {
   "cell_type": "code",
   "execution_count": null,
   "id": "d870dbac",
   "metadata": {},
   "outputs": [],
   "source": []
  }
 ],
 "metadata": {
  "kernelspec": {
   "display_name": "python3.3",
   "language": "python",
   "name": "python3"
  },
  "language_info": {
   "codemirror_mode": {
    "name": "ipython",
    "version": 3
   },
   "file_extension": ".py",
   "mimetype": "text/x-python",
   "name": "python",
   "nbconvert_exporter": "python",
   "pygments_lexer": "ipython3",
   "version": "3.13.5"
  }
 },
 "nbformat": 4,
 "nbformat_minor": 5
}
