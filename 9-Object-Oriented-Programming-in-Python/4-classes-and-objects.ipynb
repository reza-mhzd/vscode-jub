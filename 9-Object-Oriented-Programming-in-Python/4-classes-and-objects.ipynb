{
 "cells": [
  {
   "cell_type": "code",
   "execution_count": 1,
   "id": "5db50ccd",
   "metadata": {},
   "outputs": [],
   "source": [
    "class Car:\n",
    "    pass"
   ]
  },
  {
   "cell_type": "code",
   "execution_count": 8,
   "id": "80b3c91b",
   "metadata": {},
   "outputs": [],
   "source": [
    "class Car:\n",
    "    wheels = 4\n",
    "\n",
    "    def honk(self):\n",
    "        return \"Honk! Honk!\""
   ]
  },
  {
   "cell_type": "code",
   "execution_count": 9,
   "id": "18426178",
   "metadata": {},
   "outputs": [
    {
     "data": {
      "text/plain": [
       "'Honk! Honk!'"
      ]
     },
     "execution_count": 9,
     "metadata": {},
     "output_type": "execute_result"
    }
   ],
   "source": [
    "obj = Car()\n",
    "obj.honk()"
   ]
  },
  {
   "cell_type": "code",
   "execution_count": 10,
   "id": "bc1b0e4f",
   "metadata": {},
   "outputs": [],
   "source": [
    "result = obj.honk()"
   ]
  },
  {
   "cell_type": "code",
   "execution_count": 12,
   "id": "1e4a38b1",
   "metadata": {},
   "outputs": [
    {
     "name": "stdout",
     "output_type": "stream",
     "text": [
      "Honk! Honk!\n"
     ]
    }
   ],
   "source": [
    "print(result)"
   ]
  },
  {
   "cell_type": "code",
   "execution_count": 13,
   "id": "06a934ff",
   "metadata": {},
   "outputs": [],
   "source": [
    "result = Car.honk(obj)"
   ]
  },
  {
   "cell_type": "code",
   "execution_count": 14,
   "id": "0223dd91",
   "metadata": {},
   "outputs": [
    {
     "name": "stdout",
     "output_type": "stream",
     "text": [
      "Honk! Honk!\n"
     ]
    }
   ],
   "source": [
    "print(result)"
   ]
  },
  {
   "cell_type": "code",
   "execution_count": 5,
   "id": "7d08b52f",
   "metadata": {},
   "outputs": [],
   "source": [
    "class Car:\n",
    "    def __init__(self, color, model):\n",
    "        self.model = model\n",
    "        self.color = color\n",
    "\n",
    "    def honk(self):\n",
    "        return f\"The {self.color}  {self.model} car says Honk! Honk!\""
   ]
  },
  {
   "cell_type": "code",
   "execution_count": 6,
   "id": "47220eaa",
   "metadata": {},
   "outputs": [],
   "source": [
    "my_car = Car(\"red\", \"toyota\")"
   ]
  },
  {
   "cell_type": "code",
   "execution_count": 7,
   "id": "5b23ae4b",
   "metadata": {},
   "outputs": [
    {
     "data": {
      "text/plain": [
       "'toyota'"
      ]
     },
     "execution_count": 7,
     "metadata": {},
     "output_type": "execute_result"
    }
   ],
   "source": [
    "my_car.model\n"
   ]
  },
  {
   "cell_type": "code",
   "execution_count": 8,
   "id": "1ab6fc61",
   "metadata": {},
   "outputs": [
    {
     "data": {
      "text/plain": [
       "'red'"
      ]
     },
     "execution_count": 8,
     "metadata": {},
     "output_type": "execute_result"
    }
   ],
   "source": [
    "my_car.color"
   ]
  },
  {
   "cell_type": "code",
   "execution_count": 16,
   "id": "b6363576",
   "metadata": {},
   "outputs": [],
   "source": [
    "class Animal:\n",
    "    kingdom = \"Animalia\"\n",
    "\n",
    "    def __init__(self, species):\n",
    "        self.species = species"
   ]
  },
  {
   "cell_type": "code",
   "execution_count": 17,
   "id": "f916301e",
   "metadata": {},
   "outputs": [],
   "source": [
    "dog = Animal(\"reza\")"
   ]
  },
  {
   "cell_type": "code",
   "execution_count": 18,
   "id": "60b1501f",
   "metadata": {},
   "outputs": [],
   "source": [
    "fish = Animal(\"mahmood\")"
   ]
  },
  {
   "cell_type": "code",
   "execution_count": 19,
   "id": "bc78198f",
   "metadata": {},
   "outputs": [
    {
     "data": {
      "text/plain": [
       "'reza'"
      ]
     },
     "execution_count": 19,
     "metadata": {},
     "output_type": "execute_result"
    }
   ],
   "source": [
    "dog.species"
   ]
  },
  {
   "cell_type": "code",
   "execution_count": 20,
   "id": "1fe905c2",
   "metadata": {},
   "outputs": [
    {
     "data": {
      "text/plain": [
       "'mahmood'"
      ]
     },
     "execution_count": 20,
     "metadata": {},
     "output_type": "execute_result"
    }
   ],
   "source": [
    "fish.species"
   ]
  },
  {
   "cell_type": "code",
   "execution_count": 23,
   "id": "1dc4de6e",
   "metadata": {},
   "outputs": [
    {
     "name": "stdout",
     "output_type": "stream",
     "text": [
      "mahmood\n",
      "reza\n"
     ]
    }
   ],
   "source": [
    "print(fish.species)\n",
    "print(dog.species)"
   ]
  },
  {
   "cell_type": "code",
   "execution_count": 21,
   "id": "8488f635",
   "metadata": {},
   "outputs": [],
   "source": [
    "dog.kingdom = 'khar'"
   ]
  },
  {
   "cell_type": "code",
   "execution_count": 22,
   "id": "5c9e5738",
   "metadata": {},
   "outputs": [
    {
     "name": "stdout",
     "output_type": "stream",
     "text": [
      "Animalia\n"
     ]
    }
   ],
   "source": [
    "print(fish.kingdom)"
   ]
  },
  {
   "cell_type": "code",
   "execution_count": 24,
   "id": "bb495804",
   "metadata": {},
   "outputs": [
    {
     "name": "stdout",
     "output_type": "stream",
     "text": [
      "Animalia\n",
      "khar\n"
     ]
    }
   ],
   "source": [
    "print(fish.kingdom)\n",
    "print(dog.kingdom)"
   ]
  },
  {
   "cell_type": "code",
   "execution_count": 25,
   "id": "5db96fc5",
   "metadata": {},
   "outputs": [],
   "source": [
    "Animal.kingdom = 'ali'"
   ]
  },
  {
   "cell_type": "code",
   "execution_count": 26,
   "id": "f37e60c6",
   "metadata": {},
   "outputs": [
    {
     "name": "stdout",
     "output_type": "stream",
     "text": [
      "ali\n"
     ]
    }
   ],
   "source": [
    "print(fish.kingdom)"
   ]
  },
  {
   "cell_type": "code",
   "execution_count": 27,
   "id": "21ca665c",
   "metadata": {},
   "outputs": [
    {
     "name": "stdout",
     "output_type": "stream",
     "text": [
      "khar\n"
     ]
    }
   ],
   "source": [
    "print(dog.kingdom)"
   ]
  },
  {
   "cell_type": "code",
   "execution_count": 6,
   "id": "ee94082f",
   "metadata": {},
   "outputs": [],
   "source": [
    "class Car:\n",
    "    def __init__(self, color, model, year, make, is_electric=False):\n",
    "        self.color = color\n",
    "        self.model = model\n",
    "        self.year = year\n",
    "        self.make = make\n",
    "        self.is_electric = is_electric\n",
    "    \n",
    "    def disply(self):\n",
    "        electric_status = \"Electric\" if self.is_electric else \"Gosoline\"\n",
    "        return f\"{self.year} {self.make} {self.model} {electric_status} , color: {self.color}\"\n",
    "    \n",
    "    def start_engine(self):\n",
    "        return f\"The {self.make} {self.model}'s engine had started!\""
   ]
  },
  {
   "cell_type": "code",
   "execution_count": 7,
   "id": "78f3ab4a",
   "metadata": {},
   "outputs": [],
   "source": [
    "car1 = Car('red', 'Model S', 2020, 'Tesla', True)"
   ]
  },
  {
   "cell_type": "code",
   "execution_count": 8,
   "id": "822c7bd5",
   "metadata": {},
   "outputs": [
    {
     "data": {
      "text/plain": [
       "'2020 Tesla Model S Electric , color: red'"
      ]
     },
     "execution_count": 8,
     "metadata": {},
     "output_type": "execute_result"
    }
   ],
   "source": [
    "car1.disply()"
   ]
  },
  {
   "cell_type": "code",
   "execution_count": 9,
   "id": "586142c7",
   "metadata": {},
   "outputs": [
    {
     "data": {
      "text/plain": [
       "\"The Tesla Model S's engine had started!\""
      ]
     },
     "execution_count": 9,
     "metadata": {},
     "output_type": "execute_result"
    }
   ],
   "source": [
    "car1.start_engine()"
   ]
  },
  {
   "cell_type": "code",
   "execution_count": 10,
   "id": "d060cb55",
   "metadata": {},
   "outputs": [
    {
     "data": {
      "text/plain": [
       "'red'"
      ]
     },
     "execution_count": 10,
     "metadata": {},
     "output_type": "execute_result"
    }
   ],
   "source": [
    "car1.color"
   ]
  },
  {
   "cell_type": "code",
   "execution_count": 11,
   "id": "7ec116c5",
   "metadata": {},
   "outputs": [
    {
     "data": {
      "text/plain": [
       "'Model S'"
      ]
     },
     "execution_count": 11,
     "metadata": {},
     "output_type": "execute_result"
    }
   ],
   "source": [
    "car1.model"
   ]
  },
  {
   "cell_type": "code",
   "execution_count": 27,
   "id": "35bc50ff",
   "metadata": {},
   "outputs": [],
   "source": [
    "# task 1\n",
    "class Book:\n",
    "\n",
    "    book_count = 0\n",
    "\n",
    "    def __init__(self, title, author, pages):\n",
    "        self.title = title\n",
    "        self.author = author\n",
    "        self.pages = pages\n",
    "        Book.book_count += 1\n",
    "    \n",
    "    def description(self):\n",
    "        print(f\"title {self.title}, {self.author}, {self.pages}\")\n",
    "    \n",
    "    def count_book():\n",
    "        print(f'coount of books: {Book.book_count}')"
   ]
  },
  {
   "cell_type": "code",
   "execution_count": 28,
   "id": "a7a8729d",
   "metadata": {},
   "outputs": [
    {
     "name": "stdout",
     "output_type": "stream",
     "text": [
      "title future, reza, 600\n"
     ]
    }
   ],
   "source": [
    "book1 = Book('future', 'reza', '600')\n",
    "book1.description()"
   ]
  },
  {
   "cell_type": "code",
   "execution_count": 29,
   "id": "b1df0430",
   "metadata": {},
   "outputs": [],
   "source": [
    "boo2 = Book('at least', 'sata', '456')"
   ]
  },
  {
   "cell_type": "code",
   "execution_count": 35,
   "id": "acfc2d77",
   "metadata": {},
   "outputs": [],
   "source": [
    "book3 = Book('child car', 'mina', '333')"
   ]
  },
  {
   "cell_type": "code",
   "execution_count": 36,
   "id": "553b90dc",
   "metadata": {},
   "outputs": [
    {
     "name": "stdout",
     "output_type": "stream",
     "text": [
      "coount of books: 7\n"
     ]
    }
   ],
   "source": [
    "Book.count_book()"
   ]
  },
  {
   "cell_type": "code",
   "execution_count": 3,
   "id": "b7e6b76e",
   "metadata": {},
   "outputs": [],
   "source": [
    "class Car:\n",
    "    def __init__(self, model, color):\n",
    "        self.model = model\n",
    "        self.color = color\n",
    "\n",
    "    def display_description(self):\n",
    "        return f\"this is a {self.color}, {self.model}.\""
   ]
  },
  {
   "cell_type": "code",
   "execution_count": 13,
   "id": "5ca583d0",
   "metadata": {},
   "outputs": [],
   "source": [
    "class MyClass: \n",
    "    def __init__(self, param1, param2=\"default\"):\n",
    "        self.param1 = param1\n",
    "        self.param2 = param2"
   ]
  },
  {
   "cell_type": "code",
   "execution_count": 14,
   "id": "cc64fe31",
   "metadata": {},
   "outputs": [],
   "source": [
    "object1 = MyClass(\"value1\")"
   ]
  },
  {
   "cell_type": "code",
   "execution_count": 15,
   "id": "b2170138",
   "metadata": {},
   "outputs": [
    {
     "data": {
      "text/plain": [
       "'value1'"
      ]
     },
     "execution_count": 15,
     "metadata": {},
     "output_type": "execute_result"
    }
   ],
   "source": [
    "object1.param1"
   ]
  },
  {
   "cell_type": "code",
   "execution_count": 16,
   "id": "825100a2",
   "metadata": {},
   "outputs": [
    {
     "data": {
      "text/plain": [
       "'default'"
      ]
     },
     "execution_count": 16,
     "metadata": {},
     "output_type": "execute_result"
    }
   ],
   "source": [
    "object1.param2"
   ]
  },
  {
   "cell_type": "code",
   "execution_count": 18,
   "id": "76480f63",
   "metadata": {},
   "outputs": [],
   "source": [
    "class User:\n",
    "    def __init__(self, username, email):\n",
    "        self.username = username\n",
    "        self.email = email"
   ]
  },
  {
   "cell_type": "code",
   "execution_count": 20,
   "id": "8a398674",
   "metadata": {},
   "outputs": [],
   "source": [
    "class Product:\n",
    "    def __init__(self, name, price):\n",
    "        self.name = name\n",
    "        self.set_price(price)\n",
    "\n",
    "    def set_price(self, price):\n",
    "        if price < 0:\n",
    "            raise ValueError(\"price cannot be negative\")\n",
    "        self._price = price"
   ]
  },
  {
   "cell_type": "code",
   "execution_count": 23,
   "id": "39c13eb1",
   "metadata": {},
   "outputs": [
    {
     "ename": "ValueError",
     "evalue": "price cannot be negative",
     "output_type": "error",
     "traceback": [
      "\u001b[31m---------------------------------------------------------------------------\u001b[39m",
      "\u001b[31mValueError\u001b[39m                                Traceback (most recent call last)",
      "\u001b[36mCell\u001b[39m\u001b[36m \u001b[39m\u001b[32mIn[23]\u001b[39m\u001b[32m, line 1\u001b[39m\n\u001b[32m----> \u001b[39m\u001b[32m1\u001b[39m product1 = Product(\u001b[33m'\u001b[39m\u001b[33mreza\u001b[39m\u001b[33m'\u001b[39m, -\u001b[32m33\u001b[39m)\n",
      "\u001b[36mCell\u001b[39m\u001b[36m \u001b[39m\u001b[32mIn[20]\u001b[39m\u001b[32m, line 4\u001b[39m, in \u001b[36mProduct.__init__\u001b[39m\u001b[34m(self, name, price)\u001b[39m\n\u001b[32m      2\u001b[39m \u001b[38;5;28;01mdef\u001b[39;00m\u001b[38;5;250m \u001b[39m\u001b[34m__init__\u001b[39m(\u001b[38;5;28mself\u001b[39m, name, price):\n\u001b[32m      3\u001b[39m     \u001b[38;5;28mself\u001b[39m.name = name\n\u001b[32m----> \u001b[39m\u001b[32m4\u001b[39m     \u001b[38;5;28mself\u001b[39m.set_price(price)\n",
      "\u001b[36mCell\u001b[39m\u001b[36m \u001b[39m\u001b[32mIn[20]\u001b[39m\u001b[32m, line 8\u001b[39m, in \u001b[36mProduct.set_price\u001b[39m\u001b[34m(self, price)\u001b[39m\n\u001b[32m      6\u001b[39m \u001b[38;5;28;01mdef\u001b[39;00m\u001b[38;5;250m \u001b[39m\u001b[34mset_price\u001b[39m(\u001b[38;5;28mself\u001b[39m, price):\n\u001b[32m      7\u001b[39m     \u001b[38;5;28;01mif\u001b[39;00m price < \u001b[32m0\u001b[39m:\n\u001b[32m----> \u001b[39m\u001b[32m8\u001b[39m         \u001b[38;5;28;01mraise\u001b[39;00m \u001b[38;5;167;01mValueError\u001b[39;00m(\u001b[33m\"\u001b[39m\u001b[33mprice cannot be negative\u001b[39m\u001b[33m\"\u001b[39m)\n\u001b[32m      9\u001b[39m     \u001b[38;5;28mself\u001b[39m._price = price\n",
      "\u001b[31mValueError\u001b[39m: price cannot be negative"
     ]
    }
   ],
   "source": [
    "product1 = Product('reza', -33)"
   ]
  },
  {
   "cell_type": "code",
   "execution_count": 27,
   "id": "f21985e5",
   "metadata": {},
   "outputs": [],
   "source": [
    "class Book:\n",
    "    def __init__(self, title, author, publisher, year_published):\n",
    "        self.title = title\n",
    "        self.author = author\n",
    "        self.publisher = publisher\n",
    "        self.year_published = year_published"
   ]
  },
  {
   "cell_type": "code",
   "execution_count": 28,
   "id": "c7de8079",
   "metadata": {},
   "outputs": [],
   "source": [
    "my_favorite_book = Book(\"python Programming\", \"Jane Doe\", \"Tech publishing\", 2020)"
   ]
  },
  {
   "cell_type": "code",
   "execution_count": null,
   "id": "bd2b3770",
   "metadata": {},
   "outputs": [
    {
     "data": {
      "text/plain": [
       "'python Programming'"
      ]
     },
     "execution_count": 29,
     "metadata": {},
     "output_type": "execute_result"
    }
   ],
   "source": [
    "my_favorite_book.title"
   ]
  },
  {
   "cell_type": "code",
   "execution_count": 30,
   "id": "bfafff82",
   "metadata": {},
   "outputs": [],
   "source": [
    "from datetime import datetime\n",
    "\n",
    "class Book:\n",
    "    def __init__(self, title, author, year_published, publisher=\"Tech Publishing\"):\n",
    "        self.title = title\n",
    "        self.author = author\n",
    "        self.publisher = publisher\n",
    "        if year_published > datetime.now().year:\n",
    "            # You will learn how to raise exceptions later\n",
    "            # For now, just know that this line raises an exception/error\n",
    "            raise ValueError(\"Year published cannot be in the future\")\n",
    "        self.year_published = year_published"
   ]
  },
  {
   "cell_type": "code",
   "execution_count": 32,
   "id": "cc59385e",
   "metadata": {},
   "outputs": [
    {
     "name": "stdout",
     "output_type": "stream",
     "text": [
      "2025\n"
     ]
    }
   ],
   "source": [
    "print(datetime.now().year)"
   ]
  },
  {
   "cell_type": "code",
   "execution_count": null,
   "id": "afe1a7a6",
   "metadata": {},
   "outputs": [],
   "source": []
  }
 ],
 "metadata": {
  "kernelspec": {
   "display_name": "python3.3",
   "language": "python",
   "name": "python3"
  },
  "language_info": {
   "codemirror_mode": {
    "name": "ipython",
    "version": 3
   },
   "file_extension": ".py",
   "mimetype": "text/x-python",
   "name": "python",
   "nbconvert_exporter": "python",
   "pygments_lexer": "ipython3",
   "version": "3.13.5"
  }
 },
 "nbformat": 4,
 "nbformat_minor": 5
}
