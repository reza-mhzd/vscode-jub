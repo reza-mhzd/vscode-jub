{
 "cells": [
  {
   "cell_type": "code",
   "execution_count": 6,
   "id": "78060804",
   "metadata": {},
   "outputs": [],
   "source": [
    "class Dog:\n",
    "    def __init__(self, name, age):        \n",
    "        self.name = name\n",
    "        self.age = age\n",
    "    def bark(self):\n",
    "        return f\"{self.name} says woof!!!\""
   ]
  },
  {
   "cell_type": "code",
   "execution_count": 7,
   "id": "afd7b803",
   "metadata": {},
   "outputs": [],
   "source": [
    "dog1 = Dog('max', 5)"
   ]
  },
  {
   "cell_type": "code",
   "execution_count": 8,
   "id": "6f4a5568",
   "metadata": {},
   "outputs": [],
   "source": [
    "dog2 = Dog('bella', 3)"
   ]
  },
  {
   "cell_type": "code",
   "execution_count": 9,
   "id": "61f95651",
   "metadata": {},
   "outputs": [
    {
     "data": {
      "text/plain": [
       "'max says woof!!!'"
      ]
     },
     "execution_count": 9,
     "metadata": {},
     "output_type": "execute_result"
    }
   ],
   "source": [
    "dog1.bark()"
   ]
  },
  {
   "cell_type": "code",
   "execution_count": 10,
   "id": "3a693df9",
   "metadata": {},
   "outputs": [
    {
     "data": {
      "text/plain": [
       "'bella says woof!!!'"
      ]
     },
     "execution_count": 10,
     "metadata": {},
     "output_type": "execute_result"
    }
   ],
   "source": [
    "dog2.bark()"
   ]
  },
  {
   "cell_type": "code",
   "execution_count": 48,
   "id": "10bd10da",
   "metadata": {},
   "outputs": [],
   "source": [
    "class Account:\n",
    "    name = 'sara'\n",
    "    __amount2 = 100\n",
    "    \n",
    "    def __init__(self, owner, amount=0):\n",
    "        self.owner = owner\n",
    "        self.__balance = amount\n",
    "\n",
    "    def deposit(self, amount):\n",
    "        if amount > 0:\n",
    "            self.__balance += amount\n",
    "            print('deposit successful')\n",
    "    \n",
    "    def show_balance(self):\n",
    "        print(f\"Balance: {self.__balance}\")"
   ]
  },
  {
   "cell_type": "code",
   "execution_count": 49,
   "id": "f6c35371",
   "metadata": {},
   "outputs": [],
   "source": [
    "acc1 = Account('John')"
   ]
  },
  {
   "cell_type": "code",
   "execution_count": 50,
   "id": "c566b6ae",
   "metadata": {},
   "outputs": [
    {
     "name": "stdout",
     "output_type": "stream",
     "text": [
      "Balance: 0\n",
      "deposit successful\n",
      "Balance: 100\n"
     ]
    }
   ],
   "source": [
    "acc1.show_balance()\n",
    "acc1.deposit(100)\n",
    "acc1.show_balance()"
   ]
  },
  {
   "cell_type": "code",
   "execution_count": 51,
   "id": "76001e6c",
   "metadata": {},
   "outputs": [
    {
     "name": "stdout",
     "output_type": "stream",
     "text": [
      "John\n",
      "nima\n"
     ]
    },
    {
     "ename": "AttributeError",
     "evalue": "'Account' object has no attribute 'amount2'",
     "output_type": "error",
     "traceback": [
      "\u001b[31m---------------------------------------------------------------------------\u001b[39m",
      "\u001b[31mAttributeError\u001b[39m                            Traceback (most recent call last)",
      "\u001b[36mCell\u001b[39m\u001b[36m \u001b[39m\u001b[32mIn[51]\u001b[39m\u001b[32m, line 4\u001b[39m\n\u001b[32m      2\u001b[39m acc1.owner = \u001b[33m'\u001b[39m\u001b[33mnima\u001b[39m\u001b[33m'\u001b[39m\n\u001b[32m      3\u001b[39m \u001b[38;5;28mprint\u001b[39m(acc1.owner)\n\u001b[32m----> \u001b[39m\u001b[32m4\u001b[39m \u001b[38;5;28mprint\u001b[39m(acc1.amount2)\n\u001b[32m      5\u001b[39m \u001b[38;5;28mprint\u001b[39m(acc1.__balance)\n",
      "\u001b[31mAttributeError\u001b[39m: 'Account' object has no attribute 'amount2'"
     ]
    }
   ],
   "source": [
    "print(acc1.owner)\n",
    "acc1.owner = 'nima'\n",
    "print(acc1.owner)\n",
    "print(acc1.amount2)\n",
    "print(acc1.__balance)"
   ]
  },
  {
   "cell_type": "code",
   "execution_count": 52,
   "id": "f14a7d0c",
   "metadata": {},
   "outputs": [],
   "source": [
    "class Animal:\n",
    "    def speak(self):\n",
    "        print(\"animal speaks\")"
   ]
  },
  {
   "cell_type": "code",
   "execution_count": 53,
   "id": "4dc5b596",
   "metadata": {},
   "outputs": [],
   "source": [
    "class Dog(Animal):\n",
    "    def speak(self):\n",
    "        print(\"Dog barks\")"
   ]
  },
  {
   "cell_type": "code",
   "execution_count": 54,
   "id": "9ec638d0",
   "metadata": {},
   "outputs": [],
   "source": [
    "dog = Dog()\n"
   ]
  },
  {
   "cell_type": "code",
   "execution_count": 55,
   "id": "0986b931",
   "metadata": {},
   "outputs": [
    {
     "name": "stdout",
     "output_type": "stream",
     "text": [
      "Dog barks\n"
     ]
    }
   ],
   "source": [
    "dog.speak()"
   ]
  },
  {
   "cell_type": "code",
   "execution_count": 56,
   "id": "65ca0895",
   "metadata": {},
   "outputs": [],
   "source": [
    "class Bird:\n",
    "    def fly(self):\n",
    "        print(\"some birds can fly\")\n",
    "    \n",
    "class Parrot(Bird):\n",
    "    def fly(self):\n",
    "        print(\"Parrots can fly\")\n",
    "\n",
    "class Penguin(Bird):\n",
    "    def fly(self):\n",
    "        print(\"Penguins do not fly\")"
   ]
  },
  {
   "cell_type": "code",
   "execution_count": 57,
   "id": "6e7cd921",
   "metadata": {},
   "outputs": [],
   "source": [
    "def test_flying(bird):\n",
    "    bird.fly()"
   ]
  },
  {
   "cell_type": "code",
   "execution_count": null,
   "id": "bd8dd63b",
   "metadata": {},
   "outputs": [
    {
     "name": "stdout",
     "output_type": "stream",
     "text": [
      "some birds can fly\n"
     ]
    }
   ],
   "source": [
    "test_flying(Bird())"
   ]
  },
  {
   "cell_type": "code",
   "execution_count": 61,
   "id": "70e99c44",
   "metadata": {},
   "outputs": [],
   "source": [
    "from abc import ABC, abstractmethod\n",
    "\n",
    "class Shape(ABC):\n",
    "    @abstractmethod\n",
    "    def area(self):\n",
    "        pass\n",
    "    \n",
    "    @abstractmethod\n",
    "    def perimeter(self):\n",
    "        pass"
   ]
  },
  {
   "cell_type": "code",
   "execution_count": 62,
   "id": "032c7a5c",
   "metadata": {},
   "outputs": [],
   "source": [
    "class Square(Shape):\n",
    "    def __init__(self, side):\n",
    "        self.__side = side\n",
    "\n",
    "    def area(self):\n",
    "        return self.__side * self.__side\n",
    "\n",
    "    def perimeter(self):\n",
    "        return 4 * self.__side"
   ]
  },
  {
   "cell_type": "code",
   "execution_count": 63,
   "id": "3a6cc8c5",
   "metadata": {},
   "outputs": [
    {
     "data": {
      "text/plain": [
       "25"
      ]
     },
     "execution_count": 63,
     "metadata": {},
     "output_type": "execute_result"
    }
   ],
   "source": [
    "square = Square(5)\n",
    "square.area()"
   ]
  },
  {
   "cell_type": "code",
   "execution_count": 71,
   "id": "463afc3f",
   "metadata": {},
   "outputs": [],
   "source": [
    "class Car:\n",
    "    def __init__(self, model):\n",
    "        self.model = model\n",
    "\n",
    "    def honk(self):\n",
    "        return f\"{self.model} says beep beep!\""
   ]
  },
  {
   "cell_type": "code",
   "execution_count": 72,
   "id": "f579a17a",
   "metadata": {},
   "outputs": [
    {
     "data": {
      "text/plain": [
       "'toyota says beep beep!'"
      ]
     },
     "execution_count": 72,
     "metadata": {},
     "output_type": "execute_result"
    }
   ],
   "source": [
    "my_car = Car(\"toyota\")\n",
    "my_car.honk()"
   ]
  },
  {
   "cell_type": "code",
   "execution_count": null,
   "id": "512d3d84",
   "metadata": {},
   "outputs": [],
   "source": []
  }
 ],
 "metadata": {
  "kernelspec": {
   "display_name": "python3.3",
   "language": "python",
   "name": "python3"
  },
  "language_info": {
   "codemirror_mode": {
    "name": "ipython",
    "version": 3
   },
   "file_extension": ".py",
   "mimetype": "text/x-python",
   "name": "python",
   "nbconvert_exporter": "python",
   "pygments_lexer": "ipython3",
   "version": "3.13.5"
  }
 },
 "nbformat": 4,
 "nbformat_minor": 5
}
