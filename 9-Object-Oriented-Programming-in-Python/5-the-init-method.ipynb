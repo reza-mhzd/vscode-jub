{
 "cells": [
  {
   "cell_type": "code",
   "execution_count": 2,
   "id": "703b1f96",
   "metadata": {},
   "outputs": [],
   "source": [
    "class Classroom:\n",
    "    def __init__(self, teacher, *students, subject, room_number):\n",
    "        self.teacher = teacher\n",
    "        self.students = students\n",
    "        self.subject = subject\n",
    "        self.room_number = room_number\n",
    "    \n",
    "    def dsiplay_into(self):\n",
    "        print(f\"my name is {self.teacher}, i tech {self.subject} to the {self.students} in class {self.room_number} \")"
   ]
  },
  {
   "cell_type": "code",
   "execution_count": 3,
   "id": "dd675489",
   "metadata": {},
   "outputs": [],
   "source": [
    "my_class = Classroom('reza', 'sara', 'mina', 'mohammad', 'ali', subject='machine learning', room_number=22)"
   ]
  },
  {
   "cell_type": "code",
   "execution_count": 4,
   "id": "4a4d83a2",
   "metadata": {},
   "outputs": [
    {
     "name": "stdout",
     "output_type": "stream",
     "text": [
      "my name is reza, i tech machine learning to the ('sara', 'mina', 'mohammad', 'ali') in class 22 \n"
     ]
    }
   ],
   "source": [
    "my_class.dsiplay_into()"
   ]
  },
  {
   "cell_type": "code",
   "execution_count": 50,
   "id": "e845b269",
   "metadata": {},
   "outputs": [],
   "source": [
    "class Vehicle:\n",
    "    def __init__(self, make, model, year):\n",
    "        self.make = make\n",
    "        self.model = model\n",
    "        self.year = year\n",
    "    \n",
    "    def display_info(self):\n",
    "        return f\"{self.year}, {self.make}, {self.model}\""
   ]
  },
  {
   "cell_type": "code",
   "execution_count": null,
   "id": "62fa4ebb",
   "metadata": {},
   "outputs": [],
   "source": [
    "class Car(Vehicle):\n",
    "    def __init__(self, make, model, year, trunk_capacity):\n",
    "        super().__init__(make, model, year)\n",
    "        self.trunk_capacity = trunk_capacity\n",
    "        \n",
    "    def display_car_info(self):\n",
    "        print(f\"{self.year}, {self.make}, {self.model} with trunk capapcity: {self.trunk_capacity} liters\")\n",
    "    \n",
    "    def display_info_new(self):\n",
    "        print(super().display_info() + f\" {self.trunk_capacity}\")\n",
    "        "
   ]
  },
  {
   "cell_type": "code",
   "execution_count": 52,
   "id": "5349592c",
   "metadata": {},
   "outputs": [],
   "source": [
    "my_car = Car(\"Honda\", \"Civic\", 2020, 450)"
   ]
  },
  {
   "cell_type": "code",
   "execution_count": 57,
   "id": "12353453",
   "metadata": {},
   "outputs": [
    {
     "name": "stdout",
     "output_type": "stream",
     "text": [
      "2020, Honda, Civic with trunk capapcity: 450 liters\n"
     ]
    }
   ],
   "source": [
    "my_car.display_car_info()"
   ]
  },
  {
   "cell_type": "code",
   "execution_count": 58,
   "id": "0db9bba3",
   "metadata": {},
   "outputs": [
    {
     "data": {
      "text/plain": [
       "'2020, Honda, Civic'"
      ]
     },
     "execution_count": 58,
     "metadata": {},
     "output_type": "execute_result"
    }
   ],
   "source": [
    "my_car.display_info()"
   ]
  },
  {
   "cell_type": "code",
   "execution_count": 59,
   "id": "b5ef8a32",
   "metadata": {},
   "outputs": [
    {
     "name": "stdout",
     "output_type": "stream",
     "text": [
      "2020, Honda, Civic\n"
     ]
    }
   ],
   "source": [
    "dis_car = my_car.display_info()\n",
    "print(dis_car)\n"
   ]
  },
  {
   "cell_type": "code",
   "execution_count": 62,
   "id": "d35438b8",
   "metadata": {},
   "outputs": [
    {
     "name": "stdout",
     "output_type": "stream",
     "text": [
      "2020, Honda, Civic 450\n"
     ]
    }
   ],
   "source": [
    "my_car.display_info_new()"
   ]
  },
  {
   "cell_type": "code",
   "execution_count": null,
   "id": "db6c0e71",
   "metadata": {},
   "outputs": [],
   "source": []
  }
 ],
 "metadata": {
  "kernelspec": {
   "display_name": "python3.3",
   "language": "python",
   "name": "python3"
  },
  "language_info": {
   "codemirror_mode": {
    "name": "ipython",
    "version": 3
   },
   "file_extension": ".py",
   "mimetype": "text/x-python",
   "name": "python",
   "nbconvert_exporter": "python",
   "pygments_lexer": "ipython3",
   "version": "3.13.5"
  }
 },
 "nbformat": 4,
 "nbformat_minor": 5
}
