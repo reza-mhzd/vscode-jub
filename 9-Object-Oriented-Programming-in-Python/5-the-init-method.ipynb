{
 "cells": [
  {
   "cell_type": "code",
   "execution_count": 34,
   "id": "703b1f96",
   "metadata": {},
   "outputs": [],
   "source": [
    "class Classroom:\n",
    "    def __init__(self, teacher, *students, subject, room_number):\n",
    "        self.teacher = teacher\n",
    "        self.students = students\n",
    "        self.subject = subject\n",
    "        self.room_number = room_number\n",
    "    \n",
    "    def dsiplay_into(self):\n",
    "        print(f\"my name is {self.teacher}, i tech {self.subject} to the {self.students} in class {self.room_number} \")"
   ]
  },
  {
   "cell_type": "code",
   "execution_count": 38,
   "id": "dd675489",
   "metadata": {},
   "outputs": [],
   "source": [
    "my_class = Classroom('reza', 'sara', 'mina', 'mohammad', 'ali', subject='machine learning', room_number=22)"
   ]
  },
  {
   "cell_type": "code",
   "execution_count": 39,
   "id": "4a4d83a2",
   "metadata": {},
   "outputs": [
    {
     "name": "stdout",
     "output_type": "stream",
     "text": [
      "my name is reza, i tech machine learning to the ('sara', 'mina', 'mohammad', 'ali') in class 22 \n"
     ]
    }
   ],
   "source": [
    "my_class.dsiplay_into()"
   ]
  }
 ],
 "metadata": {
  "kernelspec": {
   "display_name": "python3.3",
   "language": "python",
   "name": "python3"
  },
  "language_info": {
   "codemirror_mode": {
    "name": "ipython",
    "version": 3
   },
   "file_extension": ".py",
   "mimetype": "text/x-python",
   "name": "python",
   "nbconvert_exporter": "python",
   "pygments_lexer": "ipython3",
   "version": "3.13.5"
  }
 },
 "nbformat": 4,
 "nbformat_minor": 5
}
