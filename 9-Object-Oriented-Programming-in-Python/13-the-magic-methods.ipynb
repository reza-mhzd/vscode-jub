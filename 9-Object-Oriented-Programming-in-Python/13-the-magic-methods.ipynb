{
 "cells": [
  {
   "cell_type": "code",
   "execution_count": 3,
   "id": "5fd073c0",
   "metadata": {},
   "outputs": [],
   "source": [
    "class CustomList:\n",
    "    def __init__(self, items):\n",
    "        self.items = items\n",
    "\n",
    "    def __len__(self):\n",
    "        return len(self.items)"
   ]
  },
  {
   "cell_type": "code",
   "execution_count": 4,
   "id": "00c15197",
   "metadata": {},
   "outputs": [],
   "source": [
    "my_list = CustomList([1, 2, 3, 4, 5, 6])"
   ]
  },
  {
   "cell_type": "code",
   "execution_count": null,
   "id": "d0d5aac9",
   "metadata": {},
   "outputs": [
    {
     "data": {
      "text/plain": [
       "6"
      ]
     },
     "execution_count": 6,
     "metadata": {},
     "output_type": "execute_result"
    }
   ],
   "source": [
    "len(my_list)"
   ]
  },
  {
   "cell_type": "code",
   "execution_count": 9,
   "id": "e1fe2d66",
   "metadata": {},
   "outputs": [
    {
     "data": {
      "text/plain": [
       "6"
      ]
     },
     "execution_count": 9,
     "metadata": {},
     "output_type": "execute_result"
    }
   ],
   "source": [
    "my_list.__len__()"
   ]
  },
  {
   "cell_type": "code",
   "execution_count": 21,
   "id": "ada6c9c4",
   "metadata": {},
   "outputs": [],
   "source": [
    "class Inventory:\n",
    "    def __init__(self):\n",
    "        self.items = {}\n",
    "\n",
    "    def add_item(self, item, quantity):\n",
    "        if item in self.items:\n",
    "            self.items[item] += quantity\n",
    "        else:\n",
    "            self.items[item] = quantity\n",
    "\n",
    "    def remove_item(self, item, quantity):\n",
    "        if item in self.items:\n",
    "            if self.items[item] <= quantity:\n",
    "                del self.items[item]\n",
    "            else:\n",
    "                self.items[item] -= quantity\n",
    "\n",
    "    def __len__(self):\n",
    "        return sum(self.items.values())"
   ]
  },
  {
   "cell_type": "code",
   "execution_count": 23,
   "id": "25e5ec9f",
   "metadata": {},
   "outputs": [],
   "source": [
    "inventory = Inventory()\n",
    "inventory.add_item('apple', 5)\n",
    "inventory.add_item('banana', 3)\n",
    "inventory.add_item('orange', 2)"
   ]
  },
  {
   "cell_type": "code",
   "execution_count": 24,
   "id": "5c29455f",
   "metadata": {},
   "outputs": [
    {
     "data": {
      "text/plain": [
       "10"
      ]
     },
     "execution_count": 24,
     "metadata": {},
     "output_type": "execute_result"
    }
   ],
   "source": [
    "len(inventory)"
   ]
  },
  {
   "cell_type": "code",
   "execution_count": 25,
   "id": "a7d8facc",
   "metadata": {},
   "outputs": [],
   "source": [
    "inventory.remove_item('banana', 2)"
   ]
  },
  {
   "cell_type": "code",
   "execution_count": 26,
   "id": "3b07fc71",
   "metadata": {},
   "outputs": [
    {
     "data": {
      "text/plain": [
       "8"
      ]
     },
     "execution_count": 26,
     "metadata": {},
     "output_type": "execute_result"
    }
   ],
   "source": [
    "len(inventory)"
   ]
  },
  {
   "cell_type": "code",
   "execution_count": 28,
   "id": "ee038d20",
   "metadata": {},
   "outputs": [
    {
     "data": {
      "text/plain": [
       "dict_values([5, 1, 2])"
      ]
     },
     "execution_count": 28,
     "metadata": {},
     "output_type": "execute_result"
    }
   ],
   "source": [
    "inventory.items.values()"
   ]
  },
  {
   "cell_type": "code",
   "execution_count": 41,
   "id": "0f700093",
   "metadata": {},
   "outputs": [],
   "source": [
    "class Vector:\n",
    "    def __init__(self, x, y):\n",
    "        self.x = x\n",
    "        self.y = y\n",
    "\n",
    "    def __add__(self, other):\n",
    "        if isinstance(other, Vector):\n",
    "            return Vector(self.x + other.x , self.y + other.y)\n",
    "        else:\n",
    "            raise ValueError(\"operand must be an instance of Vector\")\n",
    "        \n",
    "    def __mul__(self, scalar):\n",
    "        if isinstance(scalar, (float, int)):\n",
    "            return Vector(self.x * scalar , self.y * scalar)\n",
    "        else:\n",
    "            raise ValueError(\"Scalar must be a float or an integer\")\n",
    "    def __repr__(self):\n",
    "        return f\"Vector({self.x}, {self.y})\""
   ]
  },
  {
   "cell_type": "code",
   "execution_count": 42,
   "id": "c658c1e7",
   "metadata": {},
   "outputs": [],
   "source": [
    "v1 = Vector(1, 2)\n",
    "v2 = Vector(3, 4)"
   ]
  },
  {
   "cell_type": "code",
   "execution_count": 43,
   "id": "c8329cdd",
   "metadata": {},
   "outputs": [],
   "source": [
    "v3 = v1 + v2"
   ]
  },
  {
   "cell_type": "code",
   "execution_count": 44,
   "id": "d81e540e",
   "metadata": {},
   "outputs": [
    {
     "data": {
      "text/plain": [
       "Vector(3, 4)"
      ]
     },
     "execution_count": 44,
     "metadata": {},
     "output_type": "execute_result"
    }
   ],
   "source": [
    "v2"
   ]
  },
  {
   "cell_type": "code",
   "execution_count": 45,
   "id": "0b8b4766",
   "metadata": {},
   "outputs": [
    {
     "data": {
      "text/plain": [
       "Vector(1, 2)"
      ]
     },
     "execution_count": 45,
     "metadata": {},
     "output_type": "execute_result"
    }
   ],
   "source": [
    "v1"
   ]
  },
  {
   "cell_type": "code",
   "execution_count": 46,
   "id": "f5af776f",
   "metadata": {},
   "outputs": [
    {
     "data": {
      "text/plain": [
       "Vector(4, 6)"
      ]
     },
     "execution_count": 46,
     "metadata": {},
     "output_type": "execute_result"
    }
   ],
   "source": [
    "v3"
   ]
  },
  {
   "cell_type": "code",
   "execution_count": 48,
   "id": "943749ab",
   "metadata": {},
   "outputs": [],
   "source": [
    "v4 = v3 * 3"
   ]
  },
  {
   "cell_type": "code",
   "execution_count": 49,
   "id": "34ca8391",
   "metadata": {},
   "outputs": [
    {
     "data": {
      "text/plain": [
       "Vector(12, 18)"
      ]
     },
     "execution_count": 49,
     "metadata": {},
     "output_type": "execute_result"
    }
   ],
   "source": [
    "v4"
   ]
  },
  {
   "cell_type": "code",
   "execution_count": null,
   "id": "d9e4868b",
   "metadata": {},
   "outputs": [],
   "source": []
  }
 ],
 "metadata": {
  "kernelspec": {
   "display_name": "python3.3",
   "language": "python",
   "name": "python3"
  },
  "language_info": {
   "codemirror_mode": {
    "name": "ipython",
    "version": 3
   },
   "file_extension": ".py",
   "mimetype": "text/x-python",
   "name": "python",
   "nbconvert_exporter": "python",
   "pygments_lexer": "ipython3",
   "version": "3.13.5"
  }
 },
 "nbformat": 4,
 "nbformat_minor": 5
}
